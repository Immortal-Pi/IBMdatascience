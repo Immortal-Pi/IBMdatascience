{
 "cells": [
  {
   "cell_type": "markdown",
   "id": "f5997361-a2ff-4b0e-9f87-e2f32b35db8c",
   "metadata": {},
   "source": [
    "# **Credit Card Fraud Detection using Scikit-Learn and Snap ML**"
   ]
  },
  {
   "cell_type": "code",
   "execution_count": 41,
   "id": "613dbedb-7207-4f60-a6c3-56514d37cd12",
   "metadata": {},
   "outputs": [],
   "source": [
    "import numpy as np\n",
    "import pandas as pd\n",
    "import matplotlib.pyplot as plt\n",
    "from sklearn.model_selection import train_test_split\n",
    "from sklearn.preprocessing import normalize, StandardScaler\n",
    "from sklearn.utils.class_weight import compute_sample_weight\n",
    "from sklearn.metrics import roc_auc_score\n",
    "from sklearn.tree import DecisionTreeClassifier\n",
    "import time\n",
    "import warnings"
   ]
  },
  {
   "cell_type": "code",
   "execution_count": 7,
   "id": "069bd0b4-4e0e-4871-b6cd-3f0dae071e50",
   "metadata": {},
   "outputs": [
    {
     "data": {
      "text/html": [
       "<div>\n",
       "<style scoped>\n",
       "    .dataframe tbody tr th:only-of-type {\n",
       "        vertical-align: middle;\n",
       "    }\n",
       "\n",
       "    .dataframe tbody tr th {\n",
       "        vertical-align: top;\n",
       "    }\n",
       "\n",
       "    .dataframe thead th {\n",
       "        text-align: right;\n",
       "    }\n",
       "</style>\n",
       "<table border=\"1\" class=\"dataframe\">\n",
       "  <thead>\n",
       "    <tr style=\"text-align: right;\">\n",
       "      <th></th>\n",
       "      <th>Time</th>\n",
       "      <th>V1</th>\n",
       "      <th>V2</th>\n",
       "      <th>V3</th>\n",
       "      <th>V4</th>\n",
       "      <th>V5</th>\n",
       "      <th>V6</th>\n",
       "      <th>V7</th>\n",
       "      <th>V8</th>\n",
       "      <th>V9</th>\n",
       "      <th>...</th>\n",
       "      <th>V21</th>\n",
       "      <th>V22</th>\n",
       "      <th>V23</th>\n",
       "      <th>V24</th>\n",
       "      <th>V25</th>\n",
       "      <th>V26</th>\n",
       "      <th>V27</th>\n",
       "      <th>V28</th>\n",
       "      <th>Amount</th>\n",
       "      <th>Class</th>\n",
       "    </tr>\n",
       "  </thead>\n",
       "  <tbody>\n",
       "    <tr>\n",
       "      <th>0</th>\n",
       "      <td>0.0</td>\n",
       "      <td>-1.359807</td>\n",
       "      <td>-0.072781</td>\n",
       "      <td>2.536347</td>\n",
       "      <td>1.378155</td>\n",
       "      <td>-0.338321</td>\n",
       "      <td>0.462388</td>\n",
       "      <td>0.239599</td>\n",
       "      <td>0.098698</td>\n",
       "      <td>0.363787</td>\n",
       "      <td>...</td>\n",
       "      <td>-0.018307</td>\n",
       "      <td>0.277838</td>\n",
       "      <td>-0.110474</td>\n",
       "      <td>0.066928</td>\n",
       "      <td>0.128539</td>\n",
       "      <td>-0.189115</td>\n",
       "      <td>0.133558</td>\n",
       "      <td>-0.021053</td>\n",
       "      <td>149.62</td>\n",
       "      <td>0</td>\n",
       "    </tr>\n",
       "    <tr>\n",
       "      <th>1</th>\n",
       "      <td>0.0</td>\n",
       "      <td>1.191857</td>\n",
       "      <td>0.266151</td>\n",
       "      <td>0.166480</td>\n",
       "      <td>0.448154</td>\n",
       "      <td>0.060018</td>\n",
       "      <td>-0.082361</td>\n",
       "      <td>-0.078803</td>\n",
       "      <td>0.085102</td>\n",
       "      <td>-0.255425</td>\n",
       "      <td>...</td>\n",
       "      <td>-0.225775</td>\n",
       "      <td>-0.638672</td>\n",
       "      <td>0.101288</td>\n",
       "      <td>-0.339846</td>\n",
       "      <td>0.167170</td>\n",
       "      <td>0.125895</td>\n",
       "      <td>-0.008983</td>\n",
       "      <td>0.014724</td>\n",
       "      <td>2.69</td>\n",
       "      <td>0</td>\n",
       "    </tr>\n",
       "    <tr>\n",
       "      <th>2</th>\n",
       "      <td>1.0</td>\n",
       "      <td>-1.358354</td>\n",
       "      <td>-1.340163</td>\n",
       "      <td>1.773209</td>\n",
       "      <td>0.379780</td>\n",
       "      <td>-0.503198</td>\n",
       "      <td>1.800499</td>\n",
       "      <td>0.791461</td>\n",
       "      <td>0.247676</td>\n",
       "      <td>-1.514654</td>\n",
       "      <td>...</td>\n",
       "      <td>0.247998</td>\n",
       "      <td>0.771679</td>\n",
       "      <td>0.909412</td>\n",
       "      <td>-0.689281</td>\n",
       "      <td>-0.327642</td>\n",
       "      <td>-0.139097</td>\n",
       "      <td>-0.055353</td>\n",
       "      <td>-0.059752</td>\n",
       "      <td>378.66</td>\n",
       "      <td>0</td>\n",
       "    </tr>\n",
       "    <tr>\n",
       "      <th>3</th>\n",
       "      <td>1.0</td>\n",
       "      <td>-0.966272</td>\n",
       "      <td>-0.185226</td>\n",
       "      <td>1.792993</td>\n",
       "      <td>-0.863291</td>\n",
       "      <td>-0.010309</td>\n",
       "      <td>1.247203</td>\n",
       "      <td>0.237609</td>\n",
       "      <td>0.377436</td>\n",
       "      <td>-1.387024</td>\n",
       "      <td>...</td>\n",
       "      <td>-0.108300</td>\n",
       "      <td>0.005274</td>\n",
       "      <td>-0.190321</td>\n",
       "      <td>-1.175575</td>\n",
       "      <td>0.647376</td>\n",
       "      <td>-0.221929</td>\n",
       "      <td>0.062723</td>\n",
       "      <td>0.061458</td>\n",
       "      <td>123.50</td>\n",
       "      <td>0</td>\n",
       "    </tr>\n",
       "    <tr>\n",
       "      <th>4</th>\n",
       "      <td>2.0</td>\n",
       "      <td>-1.158233</td>\n",
       "      <td>0.877737</td>\n",
       "      <td>1.548718</td>\n",
       "      <td>0.403034</td>\n",
       "      <td>-0.407193</td>\n",
       "      <td>0.095921</td>\n",
       "      <td>0.592941</td>\n",
       "      <td>-0.270533</td>\n",
       "      <td>0.817739</td>\n",
       "      <td>...</td>\n",
       "      <td>-0.009431</td>\n",
       "      <td>0.798278</td>\n",
       "      <td>-0.137458</td>\n",
       "      <td>0.141267</td>\n",
       "      <td>-0.206010</td>\n",
       "      <td>0.502292</td>\n",
       "      <td>0.219422</td>\n",
       "      <td>0.215153</td>\n",
       "      <td>69.99</td>\n",
       "      <td>0</td>\n",
       "    </tr>\n",
       "  </tbody>\n",
       "</table>\n",
       "<p>5 rows × 31 columns</p>\n",
       "</div>"
      ],
      "text/plain": [
       "   Time        V1        V2        V3        V4        V5        V6        V7  \\\n",
       "0   0.0 -1.359807 -0.072781  2.536347  1.378155 -0.338321  0.462388  0.239599   \n",
       "1   0.0  1.191857  0.266151  0.166480  0.448154  0.060018 -0.082361 -0.078803   \n",
       "2   1.0 -1.358354 -1.340163  1.773209  0.379780 -0.503198  1.800499  0.791461   \n",
       "3   1.0 -0.966272 -0.185226  1.792993 -0.863291 -0.010309  1.247203  0.237609   \n",
       "4   2.0 -1.158233  0.877737  1.548718  0.403034 -0.407193  0.095921  0.592941   \n",
       "\n",
       "         V8        V9  ...       V21       V22       V23       V24       V25  \\\n",
       "0  0.098698  0.363787  ... -0.018307  0.277838 -0.110474  0.066928  0.128539   \n",
       "1  0.085102 -0.255425  ... -0.225775 -0.638672  0.101288 -0.339846  0.167170   \n",
       "2  0.247676 -1.514654  ...  0.247998  0.771679  0.909412 -0.689281 -0.327642   \n",
       "3  0.377436 -1.387024  ... -0.108300  0.005274 -0.190321 -1.175575  0.647376   \n",
       "4 -0.270533  0.817739  ... -0.009431  0.798278 -0.137458  0.141267 -0.206010   \n",
       "\n",
       "        V26       V27       V28  Amount  Class  \n",
       "0 -0.189115  0.133558 -0.021053  149.62      0  \n",
       "1  0.125895 -0.008983  0.014724    2.69      0  \n",
       "2 -0.139097 -0.055353 -0.059752  378.66      0  \n",
       "3 -0.221929  0.062723  0.061458  123.50      0  \n",
       "4  0.502292  0.219422  0.215153   69.99      0  \n",
       "\n",
       "[5 rows x 31 columns]"
      ]
     },
     "execution_count": 7,
     "metadata": {},
     "output_type": "execute_result"
    }
   ],
   "source": [
    "data =pd.read_csv('datasets/creditcard.csv')\n",
    "data.head()"
   ]
  },
  {
   "cell_type": "code",
   "execution_count": 8,
   "id": "ed12c5d7-b636-4632-be17-4cc7458abfca",
   "metadata": {},
   "outputs": [
    {
     "data": {
      "text/plain": [
       "(284807, 31)"
      ]
     },
     "execution_count": 8,
     "metadata": {},
     "output_type": "execute_result"
    }
   ],
   "source": [
    "data.shape"
   ]
  },
  {
   "cell_type": "markdown",
   "id": "f3b8645c-5d36-43b0-9f0a-c5fad1164727",
   "metadata": {},
   "source": [
    "# inflating the values by 10"
   ]
  },
  {
   "cell_type": "code",
   "execution_count": 21,
   "id": "36b5f5b6-f42b-4c59-ba80-af0d6f9eb7c9",
   "metadata": {},
   "outputs": [],
   "source": [
    "big_data=pd.DataFrame(np.repeat(data.values,10,axis=0),columns=data.columns)"
   ]
  },
  {
   "cell_type": "code",
   "execution_count": 22,
   "id": "aa9a2ba3-8d27-4aa0-9488-db4aa71001c7",
   "metadata": {},
   "outputs": [
    {
     "data": {
      "text/plain": [
       "(2848070, 31)"
      ]
     },
     "execution_count": 22,
     "metadata": {},
     "output_type": "execute_result"
    }
   ],
   "source": [
    "big_data.shape"
   ]
  },
  {
   "cell_type": "code",
   "execution_count": 23,
   "id": "65d3e358-4f5b-4ab5-a90a-defd82787046",
   "metadata": {},
   "outputs": [
    {
     "data": {
      "image/png": "[encoded data removed]",
      "text/plain": [
       "<Figure size 640x480 with 1 Axes>"
      ]
     },
     "metadata": {},
     "output_type": "display_data"
    }
   ],
   "source": [
    "plt.hist(big_data['Amount'],6,histtype='bar',facecolor='g')\n",
    "plt.show()"
   ]
  },
  {
   "cell_type": "markdown",
   "id": "3a38bcdf-8fc0-4664-b5b6-30514899f733",
   "metadata": {},
   "source": [
    "# dataset preparation"
   ]
  },
  {
   "cell_type": "code",
   "execution_count": 24,
   "id": "2671065c-999e-4ca5-8c87-fffaa3154e76",
   "metadata": {},
   "outputs": [],
   "source": [
    "big_data.iloc[:,1:30]=StandardScaler().fit_transform(big_data.iloc[:,1:30])"
   ]
  },
  {
   "cell_type": "code",
   "execution_count": 28,
   "id": "cc547366-418e-4db6-a802-f01ab7e4ba58",
   "metadata": {},
   "outputs": [],
   "source": [
    "x=big_data.iloc[:,1:30]\n",
    "y=big_data.iloc[:,30]"
   ]
  },
  {
   "cell_type": "code",
   "execution_count": 30,
   "id": "474ea9e3-dc31-4195-b680-817570d201a6",
   "metadata": {},
   "outputs": [],
   "source": [
    "x=normalize(x,norm='l1')"
   ]
  },
  {
   "cell_type": "code",
   "execution_count": 31,
   "id": "565f5baf-cad1-4afd-8abe-4865334926a4",
   "metadata": {},
   "outputs": [
    {
     "data": {
      "text/plain": [
       "((2848070, 29), (2848070,))"
      ]
     },
     "execution_count": 31,
     "metadata": {},
     "output_type": "execute_result"
    }
   ],
   "source": [
    "x.shape, y.shape"
   ]
  },
  {
   "cell_type": "code",
   "execution_count": 32,
   "id": "175a038f-fd2c-49d2-a2f7-0bd34188b294",
   "metadata": {},
   "outputs": [
    {
     "data": {
      "text/plain": [
       "((2278456, 29), (569614, 29), (2278456,), (569614,))"
      ]
     },
     "execution_count": 32,
     "metadata": {},
     "output_type": "execute_result"
    }
   ],
   "source": [
    "xtrain,xtest,ytrain,ytest=train_test_split(x,y,test_size=0.2,random_state=42,stratify=y)\n",
    "xtrain.shape,xtest.shape,ytrain.shape,ytest.shape"
   ]
  },
  {
   "cell_type": "markdown",
   "id": "02cb939e-cd6d-4909-9571-55e019d3321a",
   "metadata": {},
   "source": [
    "# build a decision tree classifier model with scikit-learn"
   ]
  },
  {
   "cell_type": "code",
   "execution_count": 34,
   "id": "20356700-ffe7-414f-a723-482800310f0f",
   "metadata": {},
   "outputs": [
    {
     "data": {
      "text/plain": [
       "array([0.50086524, 0.50086524, 0.50086524, ..., 0.50086524, 0.50086524,\n",
       "       0.50086524])"
      ]
     },
     "execution_count": 34,
     "metadata": {},
     "output_type": "execute_result"
    }
   ],
   "source": [
    "w_train=compute_sample_weight('balanced',ytrain)\n",
    "w_train"
   ]
  },
  {
   "cell_type": "code",
   "execution_count": 35,
   "id": "c588e4ef-2e7b-488a-8da4-baa65ec49340",
   "metadata": {},
   "outputs": [],
   "source": [
    "model_dt=DecisionTreeClassifier(max_depth=4,random_state=35)"
   ]
  },
  {
   "cell_type": "code",
   "execution_count": 46,
   "id": "60029ef8-f022-4e60-b7fc-6afc8ce2d754",
   "metadata": {},
   "outputs": [
    {
     "name": "stdout",
     "output_type": "stream",
     "text": [
      "41.85692095756531\n"
     ]
    }
   ],
   "source": [
    "t0=time.time()\n",
    "model_dt.fit(xtrain,ytrain,sample_weight=w_train)\n",
    "sk_time=time.time()-t0\n",
    "print(sk_time)"
   ]
  },
  {
   "cell_type": "markdown",
   "id": "03bc8a53-33e2-4000-999f-eb4b89f03438",
   "metadata": {},
   "source": [
    "# build a decision tree classifier model with snap ML"
   ]
  },
  {
   "cell_type": "code",
   "execution_count": 44,
   "id": "5caa6e2c-f121-4982-9e53-456f973daff2",
   "metadata": {},
   "outputs": [],
   "source": [
    "from snapml import DecisionTreeClassifier"
   ]
  },
  {
   "cell_type": "code",
   "execution_count": 45,
   "id": "678e1148-dd1a-4fcf-987d-119ad4616bd0",
   "metadata": {},
   "outputs": [],
   "source": [
    "snapml_model=DecisionTreeClassifier(max_depth=4,random_state=45,n_jobs=4)"
   ]
  },
  {
   "cell_type": "code",
   "execution_count": 47,
   "id": "723ee328-0253-4805-b78f-fac446040718",
   "metadata": {},
   "outputs": [
    {
     "name": "stdout",
     "output_type": "stream",
     "text": [
      "2.6090142726898193\n"
     ]
    }
   ],
   "source": [
    "t0=time.time()\n",
    "snapml_model.fit(xtrain,ytrain,sample_weight=w_train)\n",
    "snapml_time=time.time()-t0\n",
    "print(snapml_time)"
   ]
  },
  {
   "cell_type": "code",
   "execution_count": 49,
   "id": "69441eb6-76b0-436f-9590-6a430220371d",
   "metadata": {},
   "outputs": [
    {
     "name": "stdout",
     "output_type": "stream",
     "text": [
      "[Support Vector Machine] Snap ML vs. Scikit-Learn training speedup : 16.04x \n"
     ]
    }
   ],
   "source": [
    "training_speedup = sk_time/snapml_time\n",
    "print('[Support Vector Machine] Snap ML vs. Scikit-Learn training speedup : {0:.2f}x '.format(training_speedup))\n"
   ]
  },
  {
   "cell_type": "code",
   "execution_count": 62,
   "id": "7b838cd8-0f96-4fd7-a077-d9e936912801",
   "metadata": {},
   "outputs": [
    {
     "data": {
      "text/plain": [
       "array([0.0997819 , 0.03271422, 0.03271422, ..., 0.0997819 , 0.03271422,\n",
       "       0.0997819 ])"
      ]
     },
     "execution_count": 62,
     "metadata": {},
     "output_type": "execute_result"
    }
   ],
   "source": [
    "sk_pred=model_dt.predict_proba(xtest)[:,1]\n",
    "sk_pred"
   ]
  },
  {
   "cell_type": "code",
   "execution_count": 63,
   "id": "79604e6f-52da-4c5c-944a-1ea3b2ff4285",
   "metadata": {},
   "outputs": [
    {
     "data": {
      "text/plain": [
       "array([0.09748348, 0.03764921, 0.03764921, ..., 0.09748348, 0.03764921,\n",
       "       0.09748348])"
      ]
     },
     "execution_count": 63,
     "metadata": {},
     "output_type": "execute_result"
    }
   ],
   "source": [
    "snapml_pred=snapml_model.predict_proba(xtest)[:,1]\n",
    "snapml_pred"
   ]
  },
  {
   "cell_type": "code",
   "execution_count": 67,
   "id": "bc3ece9a-a9a6-47d0-b73c-0a508b6509ca",
   "metadata": {},
   "outputs": [
    {
     "data": {
      "text/plain": [
       "(0.9724840470227328, 0.9637966972465127)"
      ]
     },
     "execution_count": 67,
     "metadata": {},
     "output_type": "execute_result"
    }
   ],
   "source": [
    "sklearn_roc_auc=roc_auc_score(ytest,sk_pred)\n",
    "# ytest.shape, sk_pred.shape\n",
    "sklearn_roc_auc\n",
    "snap_roc_auc=roc_auc_score(ytest,snapml_pred)\n",
    "sklearn_roc_auc, snap_roc_auc"
   ]
  },
  {
   "cell_type": "markdown",
   "id": "a148635a-f6a9-4b44-9490-c8b0952865d4",
   "metadata": {},
   "source": [
    "# build a support vector machine"
   ]
  },
  {
   "cell_type": "code",
   "execution_count": 68,
   "id": "ccf9f280-e5d3-42b4-ba0d-6dc36b7cc44e",
   "metadata": {},
   "outputs": [],
   "source": [
    "from sklearn.svm import LinearSVC"
   ]
  },
  {
   "cell_type": "code",
   "execution_count": 69,
   "id": "a792854f-8257-4f06-b1a0-47defc2827a5",
   "metadata": {},
   "outputs": [],
   "source": [
    "sklearn_svm=LinearSVC(class_weight='balanced',random_state=31,loss='hinge',fit_intercept=False)"
   ]
  },
  {
   "cell_type": "code",
   "execution_count": 70,
   "id": "0cbd4971-2e58-47b6-94c9-9f790e3a9cfb",
   "metadata": {},
   "outputs": [
    {
     "name": "stderr",
     "output_type": "stream",
     "text": [
      "E:\\anaconda3\\envs\\tf\\lib\\site-packages\\sklearn\\svm\\_classes.py:31: FutureWarning: The default value of `dual` will change from `True` to `'auto'` in 1.5. Set the value of `dual` explicitly to suppress the warning.\n",
      "  warnings.warn(\n",
      "E:\\anaconda3\\envs\\tf\\lib\\site-packages\\sklearn\\svm\\_base.py:1237: ConvergenceWarning: Liblinear failed to converge, increase the number of iterations.\n",
      "  warnings.warn(\n"
     ]
    }
   ],
   "source": [
    "t0=time.time()\n",
    "sklearn_svm.fit(xtrain,ytrain)\n",
    "sklearn_time=time.time() - t0"
   ]
  },
  {
   "cell_type": "code",
   "execution_count": 71,
   "id": "62281758-85d6-47de-bfbe-8743d2b03d49",
   "metadata": {},
   "outputs": [
    {
     "data": {
      "text/plain": [
       "60.84009337425232"
      ]
     },
     "execution_count": 71,
     "metadata": {},
     "output_type": "execute_result"
    }
   ],
   "source": [
    "sklearn_time"
   ]
  },
  {
   "cell_type": "code",
   "execution_count": 72,
   "id": "fd733f32-a441-4912-90bd-28268062f222",
   "metadata": {},
   "outputs": [],
   "source": [
    "from snapml import SupportVectorMachine\n",
    "snapml_svm=SupportVectorMachine(class_weight='balanced',random_state=25,n_jobs=4,fit_intercept=False)"
   ]
  },
  {
   "cell_type": "code",
   "execution_count": 73,
   "id": "739cb83b-6264-4f76-8c22-b310172d0093",
   "metadata": {},
   "outputs": [
    {
     "data": {
      "text/plain": [
       "7.744500398635864"
      ]
     },
     "execution_count": 73,
     "metadata": {},
     "output_type": "execute_result"
    }
   ],
   "source": [
    "t0=time.time()\n",
    "model=snapml_svm.fit(xtrain,ytrain)\n",
    "snapml_time=time.time()-t0\n",
    "snapml_time"
   ]
  },
  {
   "cell_type": "code",
   "execution_count": 74,
   "id": "0d9e44ca-04ad-4746-80ae-bf7eb27f538f",
   "metadata": {},
   "outputs": [
    {
     "data": {
      "text/plain": [
       "array([-0.97536008, -0.73222166, -2.1243416 , ..., -0.79095356,\n",
       "       -1.11373453, -1.07423129])"
      ]
     },
     "execution_count": 74,
     "metadata": {},
     "output_type": "execute_result"
    }
   ],
   "source": [
    "sk_pred=sklearn_svm.decision_function(xtest)\n",
    "sk_pred"
   ]
  },
  {
   "cell_type": "code",
   "execution_count": 75,
   "id": "97539c74-f29f-4ae1-b6d5-f3b9cb42388f",
   "metadata": {},
   "outputs": [
    {
     "data": {
      "text/plain": [
       "array([-0.95683783, -0.7349642 , -2.1244232 , ..., -0.78612204,\n",
       "       -1.10701218, -1.06875786])"
      ]
     },
     "execution_count": 75,
     "metadata": {},
     "output_type": "execute_result"
    }
   ],
   "source": [
    "ml_pred=snapml_svm.decision_function(xtest)\n",
    "ml_pred"
   ]
  },
  {
   "cell_type": "code",
   "execution_count": 76,
   "id": "9b4726a4-c5fa-4827-81f8-1bd2c98624d9",
   "metadata": {},
   "outputs": [
    {
     "data": {
      "text/plain": [
       "(0.9853213271550263, 0.985289706081469)"
      ]
     },
     "execution_count": 76,
     "metadata": {},
     "output_type": "execute_result"
    }
   ],
   "source": [
    "roc_auc_score(ytest,sk_pred),roc_auc_score(ytest,ml_pred)"
   ]
  },
  {
   "cell_type": "code",
   "execution_count": null,
   "id": "4d701d94-b9b2-497a-a4ed-ee3668be355d",
   "metadata": {},
   "outputs": [],
   "source": []
  }
 ],
 "metadata": {
  "kernelspec": {
   "display_name": "tf",
   "language": "python",
   "name": "tf"
  },
  "language_info": {
   "codemirror_mode": {
    "name": "ipython",
    "version": 3
   },
   "file_extension": ".py",
   "mimetype": "text/x-python",
   "name": "python",
   "nbconvert_exporter": "python",
   "pygments_lexer": "ipython3",
   "version": "3.9.18"
  }
 },
 "nbformat": 4,
 "nbformat_minor": 5
}
