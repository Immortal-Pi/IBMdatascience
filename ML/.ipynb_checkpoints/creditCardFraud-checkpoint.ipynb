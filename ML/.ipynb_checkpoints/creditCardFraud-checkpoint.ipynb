{
 "cells": [
  {
   "cell_type": "markdown",
   "id": "f5997361-a2ff-4b0e-9f87-e2f32b35db8c",
   "metadata": {},
   "source": [
    "# **Credit Card Fraud Detection using Scikit-Learn and Snap ML**"
   ]
  },
  {
   "cell_type": "code",
   "execution_count": null,
   "id": "613dbedb-7207-4f60-a6c3-56514d37cd12",
   "metadata": {},
   "outputs": [],
   "source": []
  }
 ],
 "metadata": {
  "kernelspec": {
   "display_name": "tf",
   "language": "python",
   "name": "tf"
  },
  "language_info": {
   "codemirror_mode": {
    "name": "ipython",
    "version": 3
   },
   "file_extension": ".py",
   "mimetype": "text/x-python",
   "name": "python",
   "nbconvert_exporter": "python",
   "pygments_lexer": "ipython3",
   "version": "3.9.18"
  }
 },
 "nbformat": 4,
 "nbformat_minor": 5
}
