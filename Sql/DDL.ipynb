{
 "cells": [
  {
   "cell_type": "markdown",
   "id": "2f908c6f-8d9e-43f0-bac9-8813a63b0380",
   "metadata": {},
   "source": [
    "# DDL (Data Definition Language)"
   ]
  },
  {
   "cell_type": "code",
   "execution_count": 2,
   "id": "754c9c65-634c-475b-b39f-b7b756857087",
   "metadata": {},
   "outputs": [],
   "source": [
    "import pandas as pd\n",
    "import sqlite3 as sql"
   ]
  },
  {
   "cell_type": "code",
   "execution_count": 3,
   "id": "5a9e8e36-920c-4faa-a32c-115492291460",
   "metadata": {},
   "outputs": [],
   "source": [
    "cnn=sql.connect('test.db')"
   ]
  },
  {
   "cell_type": "code",
   "execution_count": 10,
   "id": "adbd66d5-35a3-4d59-8ab9-64332b91dd67",
   "metadata": {},
   "outputs": [],
   "source": [
    "%sql sqlite:///test.db"
   ]
  },
  {
   "attachments": {
    "0d2db603-1c31-4f74-97e0-6116f5e8bc78.png": {
     "image/png": "[encoded data removed]"
    },
    "61f854dd-8a5f-4a11-afb1-32de5a02c5ac.png": {
     "image/png": "[encoded data removed]"
    }
   },
   "cell_type": "markdown",
   "id": "8514d3d3-eeec-4831-8ee2-c2c516967fb5",
   "metadata": {},
   "source": [
    "# CREATE TABLE\n",
    "\n",
    "![image.png](attachment:61f854dd-8a5f-4a11-afb1-32de5a02c5ac.png)\n",
    "![image.png](attachment:0d2db603-1c31-4f74-97e0-6116f5e8bc78.png)"
   ]
  },
  {
   "cell_type": "code",
   "execution_count": 11,
   "id": "9a5cf922-79db-4194-aa6c-6d0f9fdfe9b8",
   "metadata": {},
   "outputs": [
    {
     "name": "stdout",
     "output_type": "stream",
     "text": [
      " * sqlite:///test.db\n",
      "Done.\n",
      "Done.\n"
     ]
    },
    {
     "data": {
      "text/plain": [
       "[]"
      ]
     },
     "execution_count": 11,
     "metadata": {},
     "output_type": "execute_result"
    }
   ],
   "source": [
    "%%sql\n",
    "CREATE TABLE PETSALE (\n",
    "        ID INTEGER NOT NULL,\n",
    "        PET CHAR(20),\n",
    "        SALEPRICE DECIMAL(6,2),\n",
    "        PROFIT DECIMAL(6,2),\n",
    "        SALEDATE DATE\n",
    "        );\n",
    "CREATE TABLE PET (\n",
    "        ID INTEGER NOT NULL,\n",
    "        ANIMAL VARCHAR(20),\n",
    "        QUANTITY INTEGER\n",
    "        );"
   ]
  },
  {
   "cell_type": "code",
   "execution_count": 12,
   "id": "c111b420-a265-4c9a-b29f-26692242636d",
   "metadata": {},
   "outputs": [
    {
     "name": "stdout",
     "output_type": "stream",
     "text": [
      " * sqlite:///test.db\n",
      "5 rows affected.\n",
      "3 rows affected.\n"
     ]
    },
    {
     "data": {
      "text/plain": [
       "[]"
      ]
     },
     "execution_count": 12,
     "metadata": {},
     "output_type": "execute_result"
    }
   ],
   "source": [
    "%%sql\n",
    "INSERT INTO PETSALE VALUES\n",
    "        (1,'Cat',450.09,100.47,'2018-05-29'),\n",
    "        (2,'Dog',666.66,150.76,'2018-06-01'),\n",
    "        (3,'Parrot',50.00,8.9,'2018-06-04'),\n",
    "        (4,'Hamster',60.60,12,'2018-06-11'),\n",
    "        (5,'Goldfish',48.48,3.5,'2018-06-14');\n",
    "        \n",
    "INSERT INTO PET VALUES\n",
    "        (1,'Cat',3),\n",
    "        (2,'Dog',4),\n",
    "        (3,'Hamster',2);"
   ]
  },
  {
   "cell_type": "code",
   "execution_count": 18,
   "id": "cdb24340-9f65-4125-8131-11f8742a50d8",
   "metadata": {},
   "outputs": [
    {
     "name": "stdout",
     "output_type": "stream",
     "text": [
      " * sqlite:///test.db\n",
      "Done.\n"
     ]
    },
    {
     "data": {
      "text/html": [
       "<table>\n",
       "    <thead>\n",
       "        <tr>\n",
       "            <th>ID</th>\n",
       "            <th>PET</th>\n",
       "            <th>SALEPRICE</th>\n",
       "            <th>PROFIT</th>\n",
       "            <th>SALEDATE</th>\n",
       "        </tr>\n",
       "    </thead>\n",
       "    <tbody>\n",
       "        <tr>\n",
       "            <td>1</td>\n",
       "            <td>Cat</td>\n",
       "            <td>450.09</td>\n",
       "            <td>100.47</td>\n",
       "            <td>2018-05-29</td>\n",
       "        </tr>\n",
       "        <tr>\n",
       "            <td>2</td>\n",
       "            <td>Dog</td>\n",
       "            <td>666.66</td>\n",
       "            <td>150.76</td>\n",
       "            <td>2018-06-01</td>\n",
       "        </tr>\n",
       "        <tr>\n",
       "            <td>3</td>\n",
       "            <td>Parrot</td>\n",
       "            <td>50</td>\n",
       "            <td>8.9</td>\n",
       "            <td>2018-06-04</td>\n",
       "        </tr>\n",
       "        <tr>\n",
       "            <td>4</td>\n",
       "            <td>Hamster</td>\n",
       "            <td>60.6</td>\n",
       "            <td>12</td>\n",
       "            <td>2018-06-11</td>\n",
       "        </tr>\n",
       "        <tr>\n",
       "            <td>5</td>\n",
       "            <td>Goldfish</td>\n",
       "            <td>48.48</td>\n",
       "            <td>3.5</td>\n",
       "            <td>2018-06-14</td>\n",
       "        </tr>\n",
       "    </tbody>\n",
       "</table>"
      ],
      "text/plain": [
       "[(1, 'Cat', 450.09, 100.47, '2018-05-29'),\n",
       " (2, 'Dog', 666.66, 150.76, '2018-06-01'),\n",
       " (3, 'Parrot', 50, 8.9, '2018-06-04'),\n",
       " (4, 'Hamster', 60.6, 12, '2018-06-11'),\n",
       " (5, 'Goldfish', 48.48, 3.5, '2018-06-14')]"
      ]
     },
     "execution_count": 18,
     "metadata": {},
     "output_type": "execute_result"
    }
   ],
   "source": [
    "%%sql\n",
    "select * from petsale;"
   ]
  },
  {
   "cell_type": "code",
   "execution_count": 19,
   "id": "923a5ea5-c7a6-4684-8d56-d0386d5a2605",
   "metadata": {},
   "outputs": [
    {
     "name": "stdout",
     "output_type": "stream",
     "text": [
      " * sqlite:///test.db\n",
      "Done.\n"
     ]
    },
    {
     "data": {
      "text/html": [
       "<table>\n",
       "    <thead>\n",
       "        <tr>\n",
       "            <th>ID</th>\n",
       "            <th>ANIMAL</th>\n",
       "            <th>QUANTITY</th>\n",
       "        </tr>\n",
       "    </thead>\n",
       "    <tbody>\n",
       "        <tr>\n",
       "            <td>1</td>\n",
       "            <td>Cat</td>\n",
       "            <td>3</td>\n",
       "        </tr>\n",
       "        <tr>\n",
       "            <td>2</td>\n",
       "            <td>Dog</td>\n",
       "            <td>4</td>\n",
       "        </tr>\n",
       "        <tr>\n",
       "            <td>3</td>\n",
       "            <td>Hamster</td>\n",
       "            <td>2</td>\n",
       "        </tr>\n",
       "    </tbody>\n",
       "</table>"
      ],
      "text/plain": [
       "[(1, 'Cat', 3), (2, 'Dog', 4), (3, 'Hamster', 2)]"
      ]
     },
     "execution_count": 19,
     "metadata": {},
     "output_type": "execute_result"
    }
   ],
   "source": [
    "%%sql\n",
    "select * from pet;"
   ]
  },
  {
   "attachments": {
    "d2cfefca-9d02-4504-8e1e-37c8ad01a78c.png": {
     "image/png": "[encoded data removed]"
    },
    "ee108f98-71b7-4c14-b701-0a9e7e08f441.png": {
     "image/png": "[encoded data removed]"
    }
   },
   "cell_type": "markdown",
   "id": "597bdf18-8394-4523-920a-3e0474f9388e",
   "metadata": {},
   "source": [
    "# ALTER TABLE\n",
    "- adding a column\n",
    "  \n",
    "  ![image.png](attachment:ee108f98-71b7-4c14-b701-0a9e7e08f441.png)\n",
    "- modify a column\n",
    "  \n",
    "  ![image.png](attachment:d2cfefca-9d02-4504-8e1e-37c8ad01a78c.png)"
   ]
  },
  {
   "cell_type": "code",
   "execution_count": 20,
   "id": "5f46ec05-2475-4b26-b299-962d214fd7b9",
   "metadata": {},
   "outputs": [
    {
     "name": "stdout",
     "output_type": "stream",
     "text": [
      " * sqlite:///test.db\n",
      "Done.\n"
     ]
    },
    {
     "data": {
      "text/plain": [
       "[]"
      ]
     },
     "execution_count": 20,
     "metadata": {},
     "output_type": "execute_result"
    }
   ],
   "source": [
    "%%sql\n",
    "alter table petsale add column quantity integer;"
   ]
  },
  {
   "cell_type": "code",
   "execution_count": 21,
   "id": "de0ef496-381d-4995-9375-1410e87351bf",
   "metadata": {},
   "outputs": [
    {
     "name": "stdout",
     "output_type": "stream",
     "text": [
      " * sqlite:///test.db\n",
      "1 rows affected.\n",
      "1 rows affected.\n",
      "1 rows affected.\n",
      "1 rows affected.\n",
      "1 rows affected.\n"
     ]
    },
    {
     "data": {
      "text/plain": [
       "[]"
      ]
     },
     "execution_count": 21,
     "metadata": {},
     "output_type": "execute_result"
    }
   ],
   "source": [
    "%%sql\n",
    "\n",
    "UPDATE PETSALE SET QUANTITY = 9 WHERE ID = 1;\n",
    "UPDATE PETSALE SET QUANTITY = 3 WHERE ID = 2;\n",
    "UPDATE PETSALE SET QUANTITY = 2 WHERE ID = 3;\n",
    "UPDATE PETSALE SET QUANTITY = 6 WHERE ID = 4;\n",
    "UPDATE PETSALE SET QUANTITY = 24 WHERE ID = 5;"
   ]
  },
  {
   "cell_type": "markdown",
   "id": "5e487b0f-f581-442d-af3a-792b5640b43c",
   "metadata": {},
   "source": [
    "# modify a column"
   ]
  },
  {
   "cell_type": "code",
   "execution_count": 46,
   "id": "d94ac991-fb72-4a79-b570-1e1679cfe465",
   "metadata": {},
   "outputs": [
    {
     "name": "stdout",
     "output_type": "stream",
     "text": [
      " * sqlite:///test.db\n",
      "(sqlite3.OperationalError) near \"modify\": syntax error\n",
      "[SQL: alter table petsale modify pet varchar(20)]\n",
      "(Background on this error at: https://sqlalche.me/e/20/e3q8)\n"
     ]
    }
   ],
   "source": [
    "%%sql\n",
    "alter table petsale modify pet varchar(20)"
   ]
  },
  {
   "cell_type": "code",
   "execution_count": 48,
   "id": "eba6af01-0583-4645-8859-abc82e87c244",
   "metadata": {},
   "outputs": [
    {
     "name": "stdout",
     "output_type": "stream",
     "text": [
      " * sqlite:///test.db\n",
      "(sqlite3.OperationalError) near \"CHANGE\": syntax error\n",
      "[SQL: ALTER TABLE PETSALE CHANGE `PET` `ANIMAL` varchar(20)]\n",
      "(Background on this error at: https://sqlalche.me/e/20/e3q8)\n"
     ]
    }
   ],
   "source": [
    "%%sql\n",
    "ALTER TABLE PETSALE CHANGE `PET` `ANIMAL` varchar(20)"
   ]
  },
  {
   "cell_type": "code",
   "execution_count": 45,
   "id": "8262b125-e8eb-40ea-872d-2e6c3a3f146d",
   "metadata": {},
   "outputs": [
    {
     "name": "stdout",
     "output_type": "stream",
     "text": [
      " * sqlite:///test.db\n",
      "Done.\n"
     ]
    },
    {
     "data": {
      "text/html": [
       "<table>\n",
       "    <thead>\n",
       "        <tr>\n",
       "            <th>cid</th>\n",
       "            <th>name</th>\n",
       "            <th>type</th>\n",
       "            <th>notnull</th>\n",
       "            <th>dflt_value</th>\n",
       "            <th>pk</th>\n",
       "        </tr>\n",
       "    </thead>\n",
       "    <tbody>\n",
       "        <tr>\n",
       "            <td>0</td>\n",
       "            <td>ID</td>\n",
       "            <td>INTEGER</td>\n",
       "            <td>1</td>\n",
       "            <td>None</td>\n",
       "            <td>0</td>\n",
       "        </tr>\n",
       "        <tr>\n",
       "            <td>1</td>\n",
       "            <td>PET</td>\n",
       "            <td>CHAR(20)</td>\n",
       "            <td>0</td>\n",
       "            <td>None</td>\n",
       "            <td>0</td>\n",
       "        </tr>\n",
       "        <tr>\n",
       "            <td>2</td>\n",
       "            <td>SALEPRICE</td>\n",
       "            <td>DECIMAL(6,2)</td>\n",
       "            <td>0</td>\n",
       "            <td>None</td>\n",
       "            <td>0</td>\n",
       "        </tr>\n",
       "        <tr>\n",
       "            <td>3</td>\n",
       "            <td>SALEDATE</td>\n",
       "            <td>DATE</td>\n",
       "            <td>0</td>\n",
       "            <td>None</td>\n",
       "            <td>0</td>\n",
       "        </tr>\n",
       "        <tr>\n",
       "            <td>4</td>\n",
       "            <td>quantity</td>\n",
       "            <td>INTEGER</td>\n",
       "            <td>0</td>\n",
       "            <td>None</td>\n",
       "            <td>0</td>\n",
       "        </tr>\n",
       "    </tbody>\n",
       "</table>"
      ],
      "text/plain": [
       "[(0, 'ID', 'INTEGER', 1, None, 0),\n",
       " (1, 'PET', 'CHAR(20)', 0, None, 0),\n",
       " (2, 'SALEPRICE', 'DECIMAL(6,2)', 0, None, 0),\n",
       " (3, 'SALEDATE', 'DATE', 0, None, 0),\n",
       " (4, 'quantity', 'INTEGER', 0, None, 0)]"
      ]
     },
     "execution_count": 45,
     "metadata": {},
     "output_type": "execute_result"
    }
   ],
   "source": [
    "%%sql\n",
    "PRAGMA table_info(petsale);"
   ]
  },
  {
   "attachments": {
    "8f75dbc7-0572-4b36-9427-38f48664a684.png": {
     "image/png": "[encoded data removed]"
    }
   },
   "cell_type": "markdown",
   "id": "f1d2f811-0193-4b5d-ac21-770ddcc36970",
   "metadata": {},
   "source": [
    "# DROP TABLE\n",
    "![image.png](attachment:8f75dbc7-0572-4b36-9427-38f48664a684.png)"
   ]
  },
  {
   "cell_type": "markdown",
   "id": "0962fe73-9bc9-466c-bd69-6632de6b9c12",
   "metadata": {},
   "source": [
    "# Deleting a column"
   ]
  },
  {
   "cell_type": "code",
   "execution_count": 22,
   "id": "4df5a063-067c-4319-bf07-460b880ecd97",
   "metadata": {},
   "outputs": [
    {
     "name": "stdout",
     "output_type": "stream",
     "text": [
      " * sqlite:///test.db\n",
      "Done.\n"
     ]
    },
    {
     "data": {
      "text/plain": [
       "[]"
      ]
     },
     "execution_count": 22,
     "metadata": {},
     "output_type": "execute_result"
    }
   ],
   "source": [
    "%%sql\n",
    "alter table petsale\n",
    "drop column profit;"
   ]
  },
  {
   "cell_type": "code",
   "execution_count": 23,
   "id": "3c25b54b-4a25-4c98-a276-85f5f1c20d11",
   "metadata": {},
   "outputs": [
    {
     "name": "stdout",
     "output_type": "stream",
     "text": [
      " * sqlite:///test.db\n",
      "Done.\n"
     ]
    },
    {
     "data": {
      "text/html": [
       "<table>\n",
       "    <thead>\n",
       "        <tr>\n",
       "            <th>ID</th>\n",
       "            <th>PET</th>\n",
       "            <th>SALEPRICE</th>\n",
       "            <th>SALEDATE</th>\n",
       "            <th>quantity</th>\n",
       "        </tr>\n",
       "    </thead>\n",
       "    <tbody>\n",
       "        <tr>\n",
       "            <td>1</td>\n",
       "            <td>Cat</td>\n",
       "            <td>450.09</td>\n",
       "            <td>2018-05-29</td>\n",
       "            <td>9</td>\n",
       "        </tr>\n",
       "        <tr>\n",
       "            <td>2</td>\n",
       "            <td>Dog</td>\n",
       "            <td>666.66</td>\n",
       "            <td>2018-06-01</td>\n",
       "            <td>3</td>\n",
       "        </tr>\n",
       "        <tr>\n",
       "            <td>3</td>\n",
       "            <td>Parrot</td>\n",
       "            <td>50</td>\n",
       "            <td>2018-06-04</td>\n",
       "            <td>2</td>\n",
       "        </tr>\n",
       "        <tr>\n",
       "            <td>4</td>\n",
       "            <td>Hamster</td>\n",
       "            <td>60.6</td>\n",
       "            <td>2018-06-11</td>\n",
       "            <td>6</td>\n",
       "        </tr>\n",
       "        <tr>\n",
       "            <td>5</td>\n",
       "            <td>Goldfish</td>\n",
       "            <td>48.48</td>\n",
       "            <td>2018-06-14</td>\n",
       "            <td>24</td>\n",
       "        </tr>\n",
       "    </tbody>\n",
       "</table>"
      ],
      "text/plain": [
       "[(1, 'Cat', 450.09, '2018-05-29', 9),\n",
       " (2, 'Dog', 666.66, '2018-06-01', 3),\n",
       " (3, 'Parrot', 50, '2018-06-04', 2),\n",
       " (4, 'Hamster', 60.6, '2018-06-11', 6),\n",
       " (5, 'Goldfish', 48.48, '2018-06-14', 24)]"
      ]
     },
     "execution_count": 23,
     "metadata": {},
     "output_type": "execute_result"
    }
   ],
   "source": [
    "%%sql\n",
    "select * from petsale"
   ]
  },
  {
   "cell_type": "code",
   "execution_count": 25,
   "id": "67f83d27-a8f1-4dac-ba3a-ac0f4473a547",
   "metadata": {},
   "outputs": [
    {
     "name": "stdout",
     "output_type": "stream",
     "text": [
      " * sqlite:///test.db\n",
      "(sqlite3.OperationalError) near \"describe\": syntax error\n",
      "[SQL: describe petsale]\n",
      "(Background on this error at: https://sqlalche.me/e/20/e3q8)\n"
     ]
    }
   ],
   "source": [
    "%%sql\n",
    "describe petsale"
   ]
  },
  {
   "cell_type": "markdown",
   "id": "a0f208f8-7b1c-4d5f-ae3f-2d330e74ae5d",
   "metadata": {},
   "source": [
    "# TRUNCATE\n",
    "- delete all rows in a table (bery fast compared to delete statement)"
   ]
  },
  {
   "attachments": {
    "e84963a5-1021-45bf-a00b-919ddb551de6.png": {
     "image/png": "[encoded data removed]"
    }
   },
   "cell_type": "markdown",
   "id": "80bc0066-2081-4e54-aaa5-d022dbbcb669",
   "metadata": {},
   "source": [
    "# SQL Scripts - User and Applications\n",
    "- series of commands or program that will execute on SQL server\n",
    "    ![image.png](attachment:e84963a5-1021-45bf-a00b-919ddb551de6.png)"
   ]
  },
  {
   "cell_type": "code",
   "execution_count": 49,
   "id": "b0dcb2a3-5d5b-4608-b06a-518a4d79477e",
   "metadata": {},
   "outputs": [
    {
     "name": "stdout",
     "output_type": "stream",
     "text": [
      " * sqlite:///test.db\n",
      "Done.\n",
      "Done.\n",
      "Done.\n",
      "Done.\n",
      "Done.\n",
      "Done.\n",
      "Done.\n",
      "Done.\n",
      "Done.\n",
      "Done.\n"
     ]
    },
    {
     "data": {
      "text/plain": [
       "[]"
      ]
     },
     "execution_count": 49,
     "metadata": {},
     "output_type": "execute_result"
    }
   ],
   "source": [
    "%%sql\n",
    "\n",
    "DROP TABLE IF EXISTS PATIENTS;\n",
    "DROP TABLE IF EXISTS MEDICAL_HISTORY;\n",
    "DROP TABLE IF EXISTS MEDICAL_PROCEDURES;\n",
    "DROP TABLE IF EXISTS MEDICAL_DEPARTMENTS;\n",
    "DROP TABLE IF EXISTS MEDICAL_LOCATIONS;\n",
    "CREATE TABLE PATIENTS (\n",
    "  PATIENT_ID CHAR(9) NOT NULL,\n",
    "  FIRST_NAME VARCHAR(15) NOT NULL,\n",
    "  LAST_NAME VARCHAR(15) NOT NULL,\n",
    "  SSN CHAR(9),\n",
    "  BIRTH_DATE DATE,\n",
    "  SEX CHAR,\n",
    "  ADDRESS VARCHAR(30),\n",
    "  DEPT_ID CHAR(9) NOT NULL,\n",
    "  PRIMARY KEY (PATIENT_ID)\n",
    ");\n",
    "CREATE TABLE MEDICAL_HISTORY (\n",
    "  MEDICAL_HISTORY_ID CHAR(9) NOT NULL,\n",
    "  PATIENT_ID CHAR(9) NOT NULL,\n",
    "  DIAGNOSIS_DATE DATE,\n",
    "  DIAGNOSIS_CODE VARCHAR(10),\n",
    "  MEDICAL_CONDITION VARCHAR(100),\n",
    "  DEPT_ID CHAR(9),\n",
    "  PRIMARY KEY (MEDICAL_HISTORY_ID)\n",
    ");\n",
    "CREATE TABLE MEDICAL_PROCEDURES (\n",
    "  PROCEDURE_ID CHAR(9) NOT NULL,\n",
    "  PROCEDURE_NAME VARCHAR(30),\n",
    "  PROCEDURE_DATE DATE,\n",
    "  PATIENT_ID CHAR(9) NOT NULL,\n",
    "  DEPT_ID CHAR(9),\n",
    "  PRIMARY KEY (PROCEDURE_ID)\n",
    ");\n",
    "CREATE TABLE MEDICAL_DEPARTMENTS (\n",
    "  DEPT_ID CHAR(9) NOT NULL,\n",
    "  DEPT_NAME VARCHAR(15),\n",
    "  MANAGER_ID CHAR(9),\n",
    "  LOCATION_ID CHAR(9),\n",
    "  PRIMARY KEY (DEPT_ID)\n",
    ");\n",
    "CREATE TABLE MEDICAL_LOCATIONS (\n",
    "  LOCATION_ID CHAR(9) NOT NULL,\n",
    "  DEPT_ID CHAR(9) NOT NULL,\n",
    "  LOCATION_NAME VARCHAR(50),\n",
    "  PRIMARY KEY (LOCATION_ID, DEPT_ID)\n",
    ");"
   ]
  },
  {
   "cell_type": "code",
   "execution_count": null,
   "id": "0f6e46d4-9db7-4d70-bde9-8e3afd94032a",
   "metadata": {},
   "outputs": [],
   "source": []
  }
 ],
 "metadata": {
  "kernelspec": {
   "display_name": "tf",
   "language": "python",
   "name": "tf"
  },
  "language_info": {
   "codemirror_mode": {
    "name": "ipython",
    "version": 3
   },
   "file_extension": ".py",
   "mimetype": "text/x-python",
   "name": "python",
   "nbconvert_exporter": "python",
   "pygments_lexer": "ipython3",
   "version": "3.9.18"
  }
 },
 "nbformat": 4,
 "nbformat_minor": 5
}
