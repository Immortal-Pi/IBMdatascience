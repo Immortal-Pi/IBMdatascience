{
 "cells": [
  {
   "cell_type": "markdown",
   "id": "2ee1cd2f-5be8-4cf9-bb1a-90a841feab9a",
   "metadata": {},
   "source": [
    "# HR Schema"
   ]
  },
  {
   "cell_type": "code",
   "execution_count": 1,
   "id": "36ecffcf-aac9-4876-bb0c-db9e766492a8",
   "metadata": {},
   "outputs": [],
   "source": [
    "import pandas as pd\n",
    "import sqlite3 as sql"
   ]
  },
  {
   "cell_type": "code",
   "execution_count": 2,
   "id": "6b4541e8-912d-468f-baf2-871090831ea2",
   "metadata": {},
   "outputs": [],
   "source": [
    "cnn=sql.connect('HR.db')"
   ]
  },
  {
   "cell_type": "code",
   "execution_count": 3,
   "id": "e6166668-98d4-424c-b411-528eb0a786a7",
   "metadata": {},
   "outputs": [],
   "source": [
    "%load_ext sql"
   ]
  },
  {
   "cell_type": "code",
   "execution_count": 4,
   "id": "d39ba8ea-8bca-450d-8068-574deee2fbbc",
   "metadata": {},
   "outputs": [],
   "source": [
    "%sql sqlite:///Hr.db"
   ]
  },
  {
   "cell_type": "code",
   "execution_count": 38,
   "id": "dbae53c0-ab7f-47f0-8669-4df5afec31b1",
   "metadata": {},
   "outputs": [
    {
     "name": "stdout",
     "output_type": "stream",
     "text": [
      " * sqlite:///Hr.db\n",
      "Done.\n",
      "Done.\n",
      "Done.\n",
      "Done.\n",
      "Done.\n",
      "Done.\n",
      "Done.\n",
      "Done.\n",
      "Done.\n",
      "Done.\n"
     ]
    },
    {
     "data": {
      "text/plain": [
       "[]"
      ]
     },
     "execution_count": 38,
     "metadata": {},
     "output_type": "execute_result"
    }
   ],
   "source": [
    "%%sql\n",
    "drop table if exists employees;\n",
    "drop table if exists job_history;\n",
    "drop table if exists jobs;\n",
    "drop table if exists departments;\n",
    "drop table if exists locations;\n",
    "CREATE TABLE EMPLOYEES (\n",
    "                            EMP_ID CHAR(9) NOT NULL, \n",
    "                            F_NAME VARCHAR(15) NOT NULL,\n",
    "                            L_NAME VARCHAR(15) NOT NULL,\n",
    "                            SSN CHAR(9),\n",
    "                            B_DATE DATE,\n",
    "                            SEX CHAR,\n",
    "                            ADDRESS VARCHAR(30),\n",
    "                            JOB_ID CHAR(9),\n",
    "                            SALARY DECIMAL(10,2),\n",
    "                            MANAGER_ID CHAR(9),\n",
    "                            DEP_ID CHAR(9) NOT NULL,\n",
    "                            PRIMARY KEY (EMP_ID));\n",
    "                            \n",
    "  CREATE TABLE JOB_HISTORY (\n",
    "                            EMPL_ID CHAR(9) NOT NULL, \n",
    "                            START_DATE DATE,\n",
    "                            JOBS_ID CHAR(9) NOT NULL,\n",
    "                            DEPT_ID CHAR(9),\n",
    "                            PRIMARY KEY (EMPL_ID,JOBS_ID));\n",
    " \n",
    " CREATE TABLE JOBS (\n",
    "                            JOB_IDENT CHAR(9) NOT NULL, \n",
    "                            JOB_TITLE VARCHAR(30),\n",
    "                            MIN_SALARY DECIMAL(10,2),\n",
    "                            MAX_SALARY DECIMAL(10,2),\n",
    "                            PRIMARY KEY (JOB_IDENT));\n",
    "\n",
    "CREATE TABLE DEPARTMENTS (\n",
    "                            DEPT_ID_DEP CHAR(9) NOT NULL, \n",
    "                            DEP_NAME VARCHAR(15) ,\n",
    "                            MANAGER_ID CHAR(9),\n",
    "                            LOC_ID CHAR(9),\n",
    "                            PRIMARY KEY (DEPT_ID_DEP));\n",
    "\n",
    "CREATE TABLE LOCATIONS (\n",
    "                            LOCT_ID CHAR(9) NOT NULL,\n",
    "                            DEP_ID_LOC CHAR(9) NOT NULL,\n",
    "                            PRIMARY KEY (LOCT_ID,DEP_ID_LOC));\n",
    "                            "
   ]
  },
  {
   "cell_type": "code",
   "execution_count": 39,
   "id": "f9c8f775-8536-4685-abec-e73853c2bcfe",
   "metadata": {},
   "outputs": [
    {
     "data": {
      "text/html": [
       "<div>\n",
       "<style scoped>\n",
       "    .dataframe tbody tr th:only-of-type {\n",
       "        vertical-align: middle;\n",
       "    }\n",
       "\n",
       "    .dataframe tbody tr th {\n",
       "        vertical-align: top;\n",
       "    }\n",
       "\n",
       "    .dataframe thead th {\n",
       "        text-align: right;\n",
       "    }\n",
       "</style>\n",
       "<table border=\"1\" class=\"dataframe\">\n",
       "  <thead>\n",
       "    <tr style=\"text-align: right;\">\n",
       "      <th></th>\n",
       "      <th>DEP_NAME</th>\n",
       "      <th>MANAGER_ID</th>\n",
       "      <th>LOC_ID</th>\n",
       "    </tr>\n",
       "    <tr>\n",
       "      <th>DEPT_ID_DEP</th>\n",
       "      <th></th>\n",
       "      <th></th>\n",
       "      <th></th>\n",
       "    </tr>\n",
       "  </thead>\n",
       "  <tbody>\n",
       "    <tr>\n",
       "      <th>2</th>\n",
       "      <td>Architect Group</td>\n",
       "      <td>30001</td>\n",
       "      <td>L0001</td>\n",
       "    </tr>\n",
       "    <tr>\n",
       "      <th>5</th>\n",
       "      <td>Software Group</td>\n",
       "      <td>30002</td>\n",
       "      <td>L0002</td>\n",
       "    </tr>\n",
       "    <tr>\n",
       "      <th>7</th>\n",
       "      <td>Design Team</td>\n",
       "      <td>30003</td>\n",
       "      <td>L0003</td>\n",
       "    </tr>\n",
       "  </tbody>\n",
       "</table>\n",
       "</div>"
      ],
      "text/plain": [
       "                    DEP_NAME  MANAGER_ID LOC_ID\n",
       "DEPT_ID_DEP                                    \n",
       "2            Architect Group       30001  L0001\n",
       "5             Software Group       30002  L0002\n",
       "7                Design Team       30003  L0003"
      ]
     },
     "execution_count": 39,
     "metadata": {},
     "output_type": "execute_result"
    }
   ],
   "source": [
    "department=pd.read_csv('datasets/Departments.csv', index_col='DEPT_ID_DEP')\n",
    "department.to_sql(name='DEPARTMENTS',con=cnn, schema='HR',if_exists='append')\n",
    "department"
   ]
  },
  {
   "cell_type": "code",
   "execution_count": 40,
   "id": "2fba1437-99e7-402c-8a5c-c09e482eb7bd",
   "metadata": {},
   "outputs": [
    {
     "data": {
      "text/plain": [
       "10"
      ]
     },
     "execution_count": 40,
     "metadata": {},
     "output_type": "execute_result"
    }
   ],
   "source": [
    "jobs=pd.read_csv('datasets/Jobs.csv',index_col='JOB_IDENT')\n",
    "jobs.to_sql('JOBS',cnn,if_exists='append')\n",
    "jobs_history=pd.read_csv('datasets/JobsHistory.csv',index_col='EMPL_ID')\n",
    "jobs_history.to_sql('JOB_HISTORY',cnn, if_exists='append')\n",
    "locations=pd.read_csv('datasets/Locations.csv',index_col='LOCT_ID')\n",
    "locations.to_sql('LOCATIONS',cnn,if_exists='append')\n",
    "employee=pd.read_csv('datasets/Employees.csv',index_col='EMP_ID')\n",
    "employee.to_sql('EMPLOYEES',cnn,if_exists='append')"
   ]
  },
  {
   "cell_type": "code",
   "execution_count": 42,
   "id": "fafcc9cb-8f83-49cc-a508-699e967cef34",
   "metadata": {},
   "outputs": [
    {
     "name": "stdout",
     "output_type": "stream",
     "text": [
      " * sqlite:///Hr.db\n",
      "Done.\n"
     ]
    },
    {
     "data": {
      "text/html": [
       "<table>\n",
       "    <thead>\n",
       "        <tr>\n",
       "            <th>EMP_ID</th>\n",
       "            <th>F_NAME</th>\n",
       "            <th>L_NAME</th>\n",
       "            <th>SSN</th>\n",
       "            <th>B_DATE</th>\n",
       "            <th>SEX</th>\n",
       "            <th>ADDRESS</th>\n",
       "            <th>JOB_ID</th>\n",
       "            <th>SALARY</th>\n",
       "            <th>MANAGER_ID</th>\n",
       "            <th>DEP_ID</th>\n",
       "        </tr>\n",
       "    </thead>\n",
       "    <tbody>\n",
       "        <tr>\n",
       "            <td>E1001</td>\n",
       "            <td>John</td>\n",
       "            <td>Thomas</td>\n",
       "            <td>123456</td>\n",
       "            <td>01-09-1976</td>\n",
       "            <td>M</td>\n",
       "            <td>5631 Rice, OakPark,IL</td>\n",
       "            <td>100</td>\n",
       "            <td>100000</td>\n",
       "            <td>30001</td>\n",
       "            <td>2</td>\n",
       "        </tr>\n",
       "        <tr>\n",
       "            <td>E1002</td>\n",
       "            <td>Alice</td>\n",
       "            <td>James</td>\n",
       "            <td>123457</td>\n",
       "            <td>31-07-1972</td>\n",
       "            <td>F</td>\n",
       "            <td>980 Berry ln, Elgin,IL</td>\n",
       "            <td>200</td>\n",
       "            <td>80000</td>\n",
       "            <td>30002</td>\n",
       "            <td>5</td>\n",
       "        </tr>\n",
       "        <tr>\n",
       "            <td>E1003</td>\n",
       "            <td>Steve</td>\n",
       "            <td>Wells</td>\n",
       "            <td>123458</td>\n",
       "            <td>08-10-1980</td>\n",
       "            <td>M</td>\n",
       "            <td>291 Springs, Gary,IL</td>\n",
       "            <td>300</td>\n",
       "            <td>50000</td>\n",
       "            <td>30002</td>\n",
       "            <td>5</td>\n",
       "        </tr>\n",
       "        <tr>\n",
       "            <td>E1004</td>\n",
       "            <td>Santosh</td>\n",
       "            <td>Kumar</td>\n",
       "            <td>123459</td>\n",
       "            <td>20-07-1985</td>\n",
       "            <td>M</td>\n",
       "            <td>511 Aurora Av, Aurora,IL</td>\n",
       "            <td>400</td>\n",
       "            <td>60000</td>\n",
       "            <td>30002</td>\n",
       "            <td>5</td>\n",
       "        </tr>\n",
       "        <tr>\n",
       "            <td>E1005</td>\n",
       "            <td>Ahmed</td>\n",
       "            <td>Hussain</td>\n",
       "            <td>123410</td>\n",
       "            <td>01-04-1981</td>\n",
       "            <td>M</td>\n",
       "            <td>216 Oak Tree, Geneva,IL</td>\n",
       "            <td>500</td>\n",
       "            <td>70000</td>\n",
       "            <td>30001</td>\n",
       "            <td>2</td>\n",
       "        </tr>\n",
       "        <tr>\n",
       "            <td>E1006</td>\n",
       "            <td>Nancy</td>\n",
       "            <td>Allen</td>\n",
       "            <td>123411</td>\n",
       "            <td>02-06-1978</td>\n",
       "            <td>F</td>\n",
       "            <td>111 Green Pl, Elgin,IL</td>\n",
       "            <td>600</td>\n",
       "            <td>90000</td>\n",
       "            <td>30001</td>\n",
       "            <td>2</td>\n",
       "        </tr>\n",
       "        <tr>\n",
       "            <td>E1007</td>\n",
       "            <td>Mary</td>\n",
       "            <td>Thomas</td>\n",
       "            <td>123412</td>\n",
       "            <td>05-05-1975</td>\n",
       "            <td>F</td>\n",
       "            <td>100 Rose Pl, Gary,IL</td>\n",
       "            <td>650</td>\n",
       "            <td>65000</td>\n",
       "            <td>30003</td>\n",
       "            <td>7</td>\n",
       "        </tr>\n",
       "        <tr>\n",
       "            <td>E1008</td>\n",
       "            <td>Bharath</td>\n",
       "            <td>Gupta</td>\n",
       "            <td>123413</td>\n",
       "            <td>05-06-1985</td>\n",
       "            <td>M</td>\n",
       "            <td>145 Berry Ln, Naperville,IL</td>\n",
       "            <td>660</td>\n",
       "            <td>65000</td>\n",
       "            <td>30003</td>\n",
       "            <td>7</td>\n",
       "        </tr>\n",
       "        <tr>\n",
       "            <td>E1009</td>\n",
       "            <td>Andrea</td>\n",
       "            <td>Jones</td>\n",
       "            <td>123414</td>\n",
       "            <td>07-09-1990</td>\n",
       "            <td>F</td>\n",
       "            <td>120 Fall Creek, Gary,IL</td>\n",
       "            <td>234</td>\n",
       "            <td>70000</td>\n",
       "            <td>30003</td>\n",
       "            <td>7</td>\n",
       "        </tr>\n",
       "        <tr>\n",
       "            <td>E1010</td>\n",
       "            <td>Ann</td>\n",
       "            <td>Jacob</td>\n",
       "            <td>123415</td>\n",
       "            <td>30-03-1982</td>\n",
       "            <td>F</td>\n",
       "            <td>111 Britany Springs,Elgin,IL</td>\n",
       "            <td>220</td>\n",
       "            <td>70000</td>\n",
       "            <td>30002</td>\n",
       "            <td>5</td>\n",
       "        </tr>\n",
       "    </tbody>\n",
       "</table>"
      ],
      "text/plain": [
       "[('E1001', 'John', 'Thomas', '123456', '01-09-1976', 'M', '5631 Rice, OakPark,IL', '100', 100000, '30001', '2'),\n",
       " ('E1002', 'Alice', 'James', '123457', '31-07-1972', 'F', '980 Berry ln, Elgin,IL', '200', 80000, '30002', '5'),\n",
       " ('E1003', 'Steve', 'Wells', '123458', '08-10-1980', 'M', '291 Springs, Gary,IL', '300', 50000, '30002', '5'),\n",
       " ('E1004', 'Santosh', 'Kumar', '123459', '20-07-1985', 'M', '511 Aurora Av, Aurora,IL', '400', 60000, '30002', '5'),\n",
       " ('E1005', 'Ahmed', 'Hussain', '123410', '01-04-1981', 'M', '216 Oak Tree, Geneva,IL', '500', 70000, '30001', '2'),\n",
       " ('E1006', 'Nancy', 'Allen', '123411', '02-06-1978', 'F', '111 Green Pl, Elgin,IL', '600', 90000, '30001', '2'),\n",
       " ('E1007', 'Mary', 'Thomas', '123412', '05-05-1975', 'F', '100 Rose Pl, Gary,IL', '650', 65000, '30003', '7'),\n",
       " ('E1008', 'Bharath', 'Gupta', '123413', '05-06-1985', 'M', '145 Berry Ln, Naperville,IL', '660', 65000, '30003', '7'),\n",
       " ('E1009', 'Andrea', 'Jones', '123414', '07-09-1990', 'F', '120 Fall Creek, Gary,IL', '234', 70000, '30003', '7'),\n",
       " ('E1010', 'Ann', 'Jacob', '123415', '30-03-1982', 'F', '111 Britany Springs,Elgin,IL', '220', 70000, '30002', '5')]"
      ]
     },
     "execution_count": 42,
     "metadata": {},
     "output_type": "execute_result"
    }
   ],
   "source": [
    "%%sql\n",
    "select * from employees"
   ]
  },
  {
   "cell_type": "code",
   "execution_count": 43,
   "id": "f8352d6d-f348-466b-b164-be4d7c13e0cb",
   "metadata": {},
   "outputs": [
    {
     "name": "stdout",
     "output_type": "stream",
     "text": [
      " * sqlite:///Hr.db\n",
      "Done.\n"
     ]
    },
    {
     "data": {
      "text/html": [
       "<table>\n",
       "    <thead>\n",
       "        <tr>\n",
       "            <th>F_NAME</th>\n",
       "            <th>L_NAME</th>\n",
       "        </tr>\n",
       "    </thead>\n",
       "    <tbody>\n",
       "        <tr>\n",
       "            <td>Alice</td>\n",
       "            <td>James</td>\n",
       "        </tr>\n",
       "        <tr>\n",
       "            <td>Nancy</td>\n",
       "            <td>Allen</td>\n",
       "        </tr>\n",
       "        <tr>\n",
       "            <td>Ann</td>\n",
       "            <td>Jacob</td>\n",
       "        </tr>\n",
       "    </tbody>\n",
       "</table>"
      ],
      "text/plain": [
       "[('Alice', 'James'), ('Nancy', 'Allen'), ('Ann', 'Jacob')]"
      ]
     },
     "execution_count": 43,
     "metadata": {},
     "output_type": "execute_result"
    }
   ],
   "source": [
    "%%sql\n",
    "select f_name, l_name from employees where address like '%Elgin,IL'"
   ]
  },
  {
   "cell_type": "code",
   "execution_count": 47,
   "id": "7aaf0256-c860-4634-8201-73ed3dcbf121",
   "metadata": {},
   "outputs": [
    {
     "name": "stdout",
     "output_type": "stream",
     "text": [
      " * sqlite:///Hr.db\n",
      "Done.\n"
     ]
    },
    {
     "data": {
      "text/html": [
       "<table>\n",
       "    <thead>\n",
       "        <tr>\n",
       "            <th>F_NAME</th>\n",
       "            <th>L_NAME</th>\n",
       "        </tr>\n",
       "    </thead>\n",
       "    <tbody>\n",
       "        <tr>\n",
       "            <td>John</td>\n",
       "            <td>Thomas</td>\n",
       "        </tr>\n",
       "        <tr>\n",
       "            <td>Alice</td>\n",
       "            <td>James</td>\n",
       "        </tr>\n",
       "        <tr>\n",
       "            <td>Nancy</td>\n",
       "            <td>Allen</td>\n",
       "        </tr>\n",
       "        <tr>\n",
       "            <td>Mary</td>\n",
       "            <td>Thomas</td>\n",
       "        </tr>\n",
       "    </tbody>\n",
       "</table>"
      ],
      "text/plain": [
       "[('John', 'Thomas'),\n",
       " ('Alice', 'James'),\n",
       " ('Nancy', 'Allen'),\n",
       " ('Mary', 'Thomas')]"
      ]
     },
     "execution_count": 47,
     "metadata": {},
     "output_type": "execute_result"
    }
   ],
   "source": [
    "%%sql\n",
    "select f_name, l_name from employees where B_DATE like '%197%'"
   ]
  },
  {
   "cell_type": "code",
   "execution_count": 50,
   "id": "f9f5980c-1259-4795-8a71-e1bb430bad96",
   "metadata": {},
   "outputs": [
    {
     "name": "stdout",
     "output_type": "stream",
     "text": [
      " * sqlite:///Hr.db\n",
      "Done.\n"
     ]
    },
    {
     "data": {
      "text/html": [
       "<table>\n",
       "    <thead>\n",
       "        <tr>\n",
       "            <th>EMP_ID</th>\n",
       "            <th>F_NAME</th>\n",
       "            <th>L_NAME</th>\n",
       "            <th>SSN</th>\n",
       "            <th>B_DATE</th>\n",
       "            <th>SEX</th>\n",
       "            <th>ADDRESS</th>\n",
       "            <th>JOB_ID</th>\n",
       "            <th>SALARY</th>\n",
       "            <th>MANAGER_ID</th>\n",
       "            <th>DEP_ID</th>\n",
       "        </tr>\n",
       "    </thead>\n",
       "    <tbody>\n",
       "        <tr>\n",
       "            <td>E1004</td>\n",
       "            <td>Santosh</td>\n",
       "            <td>Kumar</td>\n",
       "            <td>123459</td>\n",
       "            <td>20-07-1985</td>\n",
       "            <td>M</td>\n",
       "            <td>511 Aurora Av, Aurora,IL</td>\n",
       "            <td>400</td>\n",
       "            <td>60000</td>\n",
       "            <td>30002</td>\n",
       "            <td>5</td>\n",
       "        </tr>\n",
       "        <tr>\n",
       "            <td>E1010</td>\n",
       "            <td>Ann</td>\n",
       "            <td>Jacob</td>\n",
       "            <td>123415</td>\n",
       "            <td>30-03-1982</td>\n",
       "            <td>F</td>\n",
       "            <td>111 Britany Springs,Elgin,IL</td>\n",
       "            <td>220</td>\n",
       "            <td>70000</td>\n",
       "            <td>30002</td>\n",
       "            <td>5</td>\n",
       "        </tr>\n",
       "    </tbody>\n",
       "</table>"
      ],
      "text/plain": [
       "[('E1004', 'Santosh', 'Kumar', '123459', '20-07-1985', 'M', '511 Aurora Av, Aurora,IL', '400', 60000, '30002', '5'),\n",
       " ('E1010', 'Ann', 'Jacob', '123415', '30-03-1982', 'F', '111 Britany Springs,Elgin,IL', '220', 70000, '30002', '5')]"
      ]
     },
     "execution_count": 50,
     "metadata": {},
     "output_type": "execute_result"
    }
   ],
   "source": [
    "%%sql\n",
    "select * from employees where salary between 60000 and 70000 and dep_id=5"
   ]
  },
  {
   "cell_type": "markdown",
   "id": "9dd8b3d0-9635-48a3-8206-86190299570f",
   "metadata": {},
   "source": [
    "# Sorting "
   ]
  },
  {
   "cell_type": "code",
   "execution_count": 51,
   "id": "9e52fc2c-c37e-4a35-9c7e-b6abb7e21b82",
   "metadata": {},
   "outputs": [
    {
     "name": "stdout",
     "output_type": "stream",
     "text": [
      " * sqlite:///Hr.db\n",
      "Done.\n"
     ]
    },
    {
     "data": {
      "text/html": [
       "<table>\n",
       "    <thead>\n",
       "        <tr>\n",
       "            <th>F_NAME</th>\n",
       "            <th>L_NAME</th>\n",
       "            <th>DEP_ID</th>\n",
       "        </tr>\n",
       "    </thead>\n",
       "    <tbody>\n",
       "        <tr>\n",
       "            <td>John</td>\n",
       "            <td>Thomas</td>\n",
       "            <td>2</td>\n",
       "        </tr>\n",
       "        <tr>\n",
       "            <td>Ahmed</td>\n",
       "            <td>Hussain</td>\n",
       "            <td>2</td>\n",
       "        </tr>\n",
       "        <tr>\n",
       "            <td>Nancy</td>\n",
       "            <td>Allen</td>\n",
       "            <td>2</td>\n",
       "        </tr>\n",
       "        <tr>\n",
       "            <td>Alice</td>\n",
       "            <td>James</td>\n",
       "            <td>5</td>\n",
       "        </tr>\n",
       "        <tr>\n",
       "            <td>Steve</td>\n",
       "            <td>Wells</td>\n",
       "            <td>5</td>\n",
       "        </tr>\n",
       "        <tr>\n",
       "            <td>Santosh</td>\n",
       "            <td>Kumar</td>\n",
       "            <td>5</td>\n",
       "        </tr>\n",
       "        <tr>\n",
       "            <td>Ann</td>\n",
       "            <td>Jacob</td>\n",
       "            <td>5</td>\n",
       "        </tr>\n",
       "        <tr>\n",
       "            <td>Mary</td>\n",
       "            <td>Thomas</td>\n",
       "            <td>7</td>\n",
       "        </tr>\n",
       "        <tr>\n",
       "            <td>Bharath</td>\n",
       "            <td>Gupta</td>\n",
       "            <td>7</td>\n",
       "        </tr>\n",
       "        <tr>\n",
       "            <td>Andrea</td>\n",
       "            <td>Jones</td>\n",
       "            <td>7</td>\n",
       "        </tr>\n",
       "    </tbody>\n",
       "</table>"
      ],
      "text/plain": [
       "[('John', 'Thomas', '2'),\n",
       " ('Ahmed', 'Hussain', '2'),\n",
       " ('Nancy', 'Allen', '2'),\n",
       " ('Alice', 'James', '5'),\n",
       " ('Steve', 'Wells', '5'),\n",
       " ('Santosh', 'Kumar', '5'),\n",
       " ('Ann', 'Jacob', '5'),\n",
       " ('Mary', 'Thomas', '7'),\n",
       " ('Bharath', 'Gupta', '7'),\n",
       " ('Andrea', 'Jones', '7')]"
      ]
     },
     "execution_count": 51,
     "metadata": {},
     "output_type": "execute_result"
    }
   ],
   "source": [
    "%%sql\n",
    "SELECT F_NAME, L_NAME, DEP_ID \n",
    "FROM EMPLOYEES\n",
    "ORDER BY DEP_ID;"
   ]
  },
  {
   "cell_type": "code",
   "execution_count": 52,
   "id": "4f516d59-4090-42b8-8e9a-1af9c445271f",
   "metadata": {},
   "outputs": [
    {
     "name": "stdout",
     "output_type": "stream",
     "text": [
      " * sqlite:///Hr.db\n",
      "Done.\n"
     ]
    },
    {
     "data": {
      "text/html": [
       "<table>\n",
       "    <thead>\n",
       "        <tr>\n",
       "            <th>F_NAME</th>\n",
       "            <th>L_NAME</th>\n",
       "            <th>DEP_ID</th>\n",
       "        </tr>\n",
       "    </thead>\n",
       "    <tbody>\n",
       "        <tr>\n",
       "            <td>Mary</td>\n",
       "            <td>Thomas</td>\n",
       "            <td>7</td>\n",
       "        </tr>\n",
       "        <tr>\n",
       "            <td>Andrea</td>\n",
       "            <td>Jones</td>\n",
       "            <td>7</td>\n",
       "        </tr>\n",
       "        <tr>\n",
       "            <td>Bharath</td>\n",
       "            <td>Gupta</td>\n",
       "            <td>7</td>\n",
       "        </tr>\n",
       "        <tr>\n",
       "            <td>Steve</td>\n",
       "            <td>Wells</td>\n",
       "            <td>5</td>\n",
       "        </tr>\n",
       "        <tr>\n",
       "            <td>Santosh</td>\n",
       "            <td>Kumar</td>\n",
       "            <td>5</td>\n",
       "        </tr>\n",
       "        <tr>\n",
       "            <td>Alice</td>\n",
       "            <td>James</td>\n",
       "            <td>5</td>\n",
       "        </tr>\n",
       "        <tr>\n",
       "            <td>Ann</td>\n",
       "            <td>Jacob</td>\n",
       "            <td>5</td>\n",
       "        </tr>\n",
       "        <tr>\n",
       "            <td>John</td>\n",
       "            <td>Thomas</td>\n",
       "            <td>2</td>\n",
       "        </tr>\n",
       "        <tr>\n",
       "            <td>Ahmed</td>\n",
       "            <td>Hussain</td>\n",
       "            <td>2</td>\n",
       "        </tr>\n",
       "        <tr>\n",
       "            <td>Nancy</td>\n",
       "            <td>Allen</td>\n",
       "            <td>2</td>\n",
       "        </tr>\n",
       "    </tbody>\n",
       "</table>"
      ],
      "text/plain": [
       "[('Mary', 'Thomas', '7'),\n",
       " ('Andrea', 'Jones', '7'),\n",
       " ('Bharath', 'Gupta', '7'),\n",
       " ('Steve', 'Wells', '5'),\n",
       " ('Santosh', 'Kumar', '5'),\n",
       " ('Alice', 'James', '5'),\n",
       " ('Ann', 'Jacob', '5'),\n",
       " ('John', 'Thomas', '2'),\n",
       " ('Ahmed', 'Hussain', '2'),\n",
       " ('Nancy', 'Allen', '2')]"
      ]
     },
     "execution_count": 52,
     "metadata": {},
     "output_type": "execute_result"
    }
   ],
   "source": [
    "%%sql\n",
    "SELECT F_NAME, L_NAME, DEP_ID \n",
    "FROM EMPLOYEES\n",
    "ORDER BY DEP_ID DESC, L_NAME DESC;"
   ]
  },
  {
   "cell_type": "markdown",
   "id": "e2c3b926-9e8b-4b5a-9b7a-eb09de001add",
   "metadata": {},
   "source": [
    "# Grouping"
   ]
  },
  {
   "cell_type": "code",
   "execution_count": 54,
   "id": "fa61dccb-3bae-41bc-9573-327099b9e876",
   "metadata": {},
   "outputs": [
    {
     "name": "stdout",
     "output_type": "stream",
     "text": [
      " * sqlite:///Hr.db\n",
      "Done.\n"
     ]
    },
    {
     "data": {
      "text/html": [
       "<table>\n",
       "    <thead>\n",
       "        <tr>\n",
       "            <th>DEP_ID</th>\n",
       "            <th>COUNT(*)</th>\n",
       "        </tr>\n",
       "    </thead>\n",
       "    <tbody>\n",
       "        <tr>\n",
       "            <td>2</td>\n",
       "            <td>3</td>\n",
       "        </tr>\n",
       "        <tr>\n",
       "            <td>5</td>\n",
       "            <td>4</td>\n",
       "        </tr>\n",
       "        <tr>\n",
       "            <td>7</td>\n",
       "            <td>3</td>\n",
       "        </tr>\n",
       "    </tbody>\n",
       "</table>"
      ],
      "text/plain": [
       "[('2', 3), ('5', 4), ('7', 3)]"
      ]
     },
     "execution_count": 54,
     "metadata": {},
     "output_type": "execute_result"
    }
   ],
   "source": [
    "%%sql\n",
    "SELECT DEP_ID, COUNT(*)\n",
    "FROM EMPLOYEES\n",
    "GROUP BY DEP_ID;"
   ]
  },
  {
   "cell_type": "code",
   "execution_count": 56,
   "id": "db8f54f8-6c41-422c-82fa-577862197c49",
   "metadata": {},
   "outputs": [
    {
     "name": "stdout",
     "output_type": "stream",
     "text": [
      " * sqlite:///Hr.db\n",
      "Done.\n"
     ]
    },
    {
     "data": {
      "text/html": [
       "<table>\n",
       "    <thead>\n",
       "        <tr>\n",
       "            <th>DEP_ID</th>\n",
       "            <th>NUM_EMPLOYEES</th>\n",
       "            <th>AVG(SALARY)</th>\n",
       "        </tr>\n",
       "    </thead>\n",
       "    <tbody>\n",
       "        <tr>\n",
       "            <td>2</td>\n",
       "            <td>3</td>\n",
       "            <td>86666.66666666667</td>\n",
       "        </tr>\n",
       "        <tr>\n",
       "            <td>5</td>\n",
       "            <td>4</td>\n",
       "            <td>65000.0</td>\n",
       "        </tr>\n",
       "        <tr>\n",
       "            <td>7</td>\n",
       "            <td>3</td>\n",
       "            <td>66666.66666666667</td>\n",
       "        </tr>\n",
       "    </tbody>\n",
       "</table>"
      ],
      "text/plain": [
       "[('2', 3, 86666.66666666667), ('5', 4, 65000.0), ('7', 3, 66666.66666666667)]"
      ]
     },
     "execution_count": 56,
     "metadata": {},
     "output_type": "execute_result"
    }
   ],
   "source": [
    "%%sql\n",
    "SELECT DEP_ID, COUNT(*) as 'NUM_EMPLOYEES', AVG(SALARY)\n",
    "FROM EMPLOYEES\n",
    "GROUP BY DEP_ID;"
   ]
  },
  {
   "cell_type": "code",
   "execution_count": 57,
   "id": "c0e0eb86-e472-40a4-b7f3-baf3866313a3",
   "metadata": {},
   "outputs": [
    {
     "name": "stdout",
     "output_type": "stream",
     "text": [
      " * sqlite:///Hr.db\n",
      "Done.\n"
     ]
    },
    {
     "data": {
      "text/html": [
       "<table>\n",
       "    <thead>\n",
       "        <tr>\n",
       "            <th>DEP_ID</th>\n",
       "            <th>NUM_EMPLOYEES</th>\n",
       "            <th>AVG_SALARY</th>\n",
       "        </tr>\n",
       "    </thead>\n",
       "    <tbody>\n",
       "        <tr>\n",
       "            <td>5</td>\n",
       "            <td>4</td>\n",
       "            <td>65000.0</td>\n",
       "        </tr>\n",
       "        <tr>\n",
       "            <td>7</td>\n",
       "            <td>3</td>\n",
       "            <td>66666.66666666667</td>\n",
       "        </tr>\n",
       "        <tr>\n",
       "            <td>2</td>\n",
       "            <td>3</td>\n",
       "            <td>86666.66666666667</td>\n",
       "        </tr>\n",
       "    </tbody>\n",
       "</table>"
      ],
      "text/plain": [
       "[('5', 4, 65000.0), ('7', 3, 66666.66666666667), ('2', 3, 86666.66666666667)]"
      ]
     },
     "execution_count": 57,
     "metadata": {},
     "output_type": "execute_result"
    }
   ],
   "source": [
    "%%sql\n",
    "SELECT DEP_ID, COUNT(*) AS \"NUM_EMPLOYEES\", AVG(SALARY) AS \"AVG_SALARY\"\n",
    "FROM EMPLOYEES\n",
    "GROUP BY DEP_ID\n",
    "ORDER BY AVG_SALARY;"
   ]
  },
  {
   "cell_type": "code",
   "execution_count": 58,
   "id": "c4aa8783-6b02-48c4-9311-e767508a8137",
   "metadata": {},
   "outputs": [
    {
     "name": "stdout",
     "output_type": "stream",
     "text": [
      " * sqlite:///Hr.db\n",
      "Done.\n"
     ]
    },
    {
     "data": {
      "text/html": [
       "<table>\n",
       "    <thead>\n",
       "        <tr>\n",
       "            <th>DEP_ID</th>\n",
       "            <th>NUM_EMPLOYEES</th>\n",
       "            <th>AVG_SALARY</th>\n",
       "        </tr>\n",
       "    </thead>\n",
       "    <tbody>\n",
       "        <tr>\n",
       "            <td>7</td>\n",
       "            <td>3</td>\n",
       "            <td>66666.66666666667</td>\n",
       "        </tr>\n",
       "        <tr>\n",
       "            <td>2</td>\n",
       "            <td>3</td>\n",
       "            <td>86666.66666666667</td>\n",
       "        </tr>\n",
       "    </tbody>\n",
       "</table>"
      ],
      "text/plain": [
       "[('7', 3, 66666.66666666667), ('2', 3, 86666.66666666667)]"
      ]
     },
     "execution_count": 58,
     "metadata": {},
     "output_type": "execute_result"
    }
   ],
   "source": [
    "%%sql\n",
    "SELECT DEP_ID, COUNT(*) AS \"NUM_EMPLOYEES\", AVG(SALARY) AS \"AVG_SALARY\"\n",
    "FROM EMPLOYEES\n",
    "GROUP BY DEP_ID\n",
    "HAVING count(*) < 4\n",
    "ORDER BY AVG_SALARY;"
   ]
  },
  {
   "cell_type": "code",
   "execution_count": 62,
   "id": "3f96942f-b916-4839-a59b-e09fd1dcf484",
   "metadata": {},
   "outputs": [
    {
     "name": "stdout",
     "output_type": "stream",
     "text": [
      " * sqlite:///Hr.db\n",
      "Done.\n"
     ]
    },
    {
     "data": {
      "text/html": [
       "<table>\n",
       "    <thead>\n",
       "        <tr>\n",
       "            <th>DEP_ID</th>\n",
       "            <th>avg(salary)</th>\n",
       "        </tr>\n",
       "    </thead>\n",
       "    <tbody>\n",
       "        <tr>\n",
       "            <td>2</td>\n",
       "            <td>86666.66666666667</td>\n",
       "        </tr>\n",
       "        <tr>\n",
       "            <td>5</td>\n",
       "            <td>65000.0</td>\n",
       "        </tr>\n",
       "        <tr>\n",
       "            <td>7</td>\n",
       "            <td>66666.66666666667</td>\n",
       "        </tr>\n",
       "    </tbody>\n",
       "</table>"
      ],
      "text/plain": [
       "[('2', 86666.66666666667), ('5', 65000.0), ('7', 66666.66666666667)]"
      ]
     },
     "execution_count": 62,
     "metadata": {},
     "output_type": "execute_result"
    }
   ],
   "source": [
    "%%sql\n",
    "select DEP_ID, avg(salary) from employees group by dep_id having avg(salary)>=60000"
   ]
  },
  {
   "cell_type": "code",
   "execution_count": null,
   "id": "b4a342d5-b6fe-46cc-b49c-20916acf4dcd",
   "metadata": {},
   "outputs": [],
   "source": []
  }
 ],
 "metadata": {
  "kernelspec": {
   "display_name": "tf",
   "language": "python",
   "name": "tf"
  },
  "language_info": {
   "codemirror_mode": {
    "name": "ipython",
    "version": 3
   },
   "file_extension": ".py",
   "mimetype": "text/x-python",
   "name": "python",
   "nbconvert_exporter": "python",
   "pygments_lexer": "ipython3",
   "version": "3.9.18"
  }
 },
 "nbformat": 4,
 "nbformat_minor": 5
}
