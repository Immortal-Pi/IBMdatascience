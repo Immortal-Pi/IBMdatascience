{
 "cells": [
  {
   "cell_type": "markdown",
   "id": "7d33b296-e7f9-47c7-8079-ab6929aaa994",
   "metadata": {},
   "source": [
    "# stored procedure"
   ]
  },
  {
   "cell_type": "code",
   "execution_count": 1,
   "id": "8826102f-6c05-4b07-95b5-7662e8ccf938",
   "metadata": {},
   "outputs": [],
   "source": [
    "import pandas as pd\n",
    "import matplotlib.pyplot as plt\n",
    "import sqlite3 as sql"
   ]
  },
  {
   "cell_type": "code",
   "execution_count": 2,
   "id": "b899b2bd-5a14-4b0a-9d82-20e80706a4c7",
   "metadata": {},
   "outputs": [],
   "source": [
    "cnn=sql.connect('test.db')"
   ]
  },
  {
   "cell_type": "code",
   "execution_count": 3,
   "id": "4a7e20c8-8d13-4ccf-a313-7519973bef42",
   "metadata": {},
   "outputs": [],
   "source": [
    "%load_ext sql"
   ]
  },
  {
   "cell_type": "code",
   "execution_count": 4,
   "id": "3e3fb314-31cf-45c1-84a5-5162b588a89f",
   "metadata": {},
   "outputs": [],
   "source": [
    "%sql sqlite:///test.db"
   ]
  },
  {
   "cell_type": "code",
   "execution_count": 6,
   "id": "79daf82e-2f86-4ea9-9059-bf36984b3f8b",
   "metadata": {},
   "outputs": [
    {
     "name": "stdout",
     "output_type": "stream",
     "text": [
      " * sqlite:///test.db\n",
      "Done.\n"
     ]
    },
    {
     "data": {
      "text/html": [
       "<table>\n",
       "    <thead>\n",
       "        <tr>\n",
       "            <th>ID</th>\n",
       "            <th>PET</th>\n",
       "            <th>SALEPRICE</th>\n",
       "            <th>SALEDATE</th>\n",
       "            <th>quantity</th>\n",
       "        </tr>\n",
       "    </thead>\n",
       "    <tbody>\n",
       "        <tr>\n",
       "            <td>1</td>\n",
       "            <td>Cat</td>\n",
       "            <td>450.09</td>\n",
       "            <td>2018-05-29</td>\n",
       "            <td>9</td>\n",
       "        </tr>\n",
       "        <tr>\n",
       "            <td>2</td>\n",
       "            <td>Dog</td>\n",
       "            <td>666.66</td>\n",
       "            <td>2018-06-01</td>\n",
       "            <td>3</td>\n",
       "        </tr>\n",
       "        <tr>\n",
       "            <td>3</td>\n",
       "            <td>Parrot</td>\n",
       "            <td>50</td>\n",
       "            <td>2018-06-04</td>\n",
       "            <td>2</td>\n",
       "        </tr>\n",
       "        <tr>\n",
       "            <td>4</td>\n",
       "            <td>Hamster</td>\n",
       "            <td>60.6</td>\n",
       "            <td>2018-06-11</td>\n",
       "            <td>6</td>\n",
       "        </tr>\n",
       "        <tr>\n",
       "            <td>5</td>\n",
       "            <td>Goldfish</td>\n",
       "            <td>48.48</td>\n",
       "            <td>2018-06-14</td>\n",
       "            <td>24</td>\n",
       "        </tr>\n",
       "    </tbody>\n",
       "</table>"
      ],
      "text/plain": [
       "[(1, 'Cat', 450.09, '2018-05-29', 9),\n",
       " (2, 'Dog', 666.66, '2018-06-01', 3),\n",
       " (3, 'Parrot', 50, '2018-06-04', 2),\n",
       " (4, 'Hamster', 60.6, '2018-06-11', 6),\n",
       " (5, 'Goldfish', 48.48, '2018-06-14', 24)]"
      ]
     },
     "execution_count": 6,
     "metadata": {},
     "output_type": "execute_result"
    }
   ],
   "source": [
    "%%sql\n",
    "select * from petsale"
   ]
  },
  {
   "cell_type": "code",
   "execution_count": 7,
   "id": "de81331e-f5ff-4e08-b6be-27f97f0583fc",
   "metadata": {},
   "outputs": [
    {
     "name": "stdout",
     "output_type": "stream",
     "text": [
      " * sqlite:///test.db\n",
      "(sqlite3.OperationalError) near \"DELIMITER\": syntax error\n",
      "[SQL: DELIMITER //\n",
      "END //\n",
      "DELIMITER;]\n",
      "(Background on this error at: https://sqlalche.me/e/20/e3q8)\n"
     ]
    }
   ],
   "source": [
    "%%sql\n",
    "DELIMITER //\n",
    "END //\n",
    "DELIMITER;"
   ]
  },
  {
   "cell_type": "markdown",
   "id": "0b7353c8-c463-426f-8576-32462ab4a15c",
   "metadata": {},
   "source": [
    "# log table"
   ]
  },
  {
   "cell_type": "code",
   "execution_count": 32,
   "id": "46e377f9-53a6-4ecd-8d34-26269cfb35ae",
   "metadata": {},
   "outputs": [
    {
     "name": "stdout",
     "output_type": "stream",
     "text": [
      " * sqlite:///test.db\n",
      "Done.\n"
     ]
    },
    {
     "data": {
      "text/plain": [
       "[]"
      ]
     },
     "execution_count": 32,
     "metadata": {},
     "output_type": "execute_result"
    }
   ],
   "source": [
    "%%sql\n",
    "\n",
    "CREATE TABLE IF NOT EXISTS sales_log (\n",
    "    log_id INTEGER PRIMARY KEY,\n",
    "    action TEXT,\n",
    "    sale_id INTEGER,\n",
    "    timestamp DATETIME DEFAULT CURRENT_TIMESTAMP\n",
    ");"
   ]
  },
  {
   "cell_type": "markdown",
   "id": "f7f1ef6e-5e69-4ccc-8979-c103ed033d31",
   "metadata": {},
   "source": [
    "# INSERT Trigger"
   ]
  },
  {
   "cell_type": "code",
   "execution_count": 34,
   "id": "3db3a102-4f66-4a99-8ee3-9356f47fc8d3",
   "metadata": {},
   "outputs": [
    {
     "name": "stdout",
     "output_type": "stream",
     "text": [
      " * sqlite:///test.db\n",
      "Done.\n"
     ]
    },
    {
     "data": {
      "text/plain": [
       "[]"
      ]
     },
     "execution_count": 34,
     "metadata": {},
     "output_type": "execute_result"
    }
   ],
   "source": [
    "%%sql\n",
    "CREATE TRIGGER insert_sale_trigger\n",
    "AFTER INSERT ON petsale\n",
    "BEGIN\n",
    "    INSERT INTO sales_log (action, sale_id) VALUES ('INSERT', NEW.ID);\n",
    "END;"
   ]
  },
  {
   "cell_type": "markdown",
   "id": "6621e4a8-6b84-4f4c-aed0-58c4fd408f4e",
   "metadata": {},
   "source": [
    "# upate trigger"
   ]
  },
  {
   "cell_type": "code",
   "execution_count": 50,
   "id": "34c64f21-3770-465b-a7c6-b506880a8fe2",
   "metadata": {},
   "outputs": [
    {
     "name": "stdout",
     "output_type": "stream",
     "text": [
      " * sqlite:///test.db\n",
      "Done.\n",
      "Done.\n"
     ]
    },
    {
     "data": {
      "text/plain": [
       "[]"
      ]
     },
     "execution_count": 50,
     "metadata": {},
     "output_type": "execute_result"
    }
   ],
   "source": [
    "%%sql\n",
    " --drop trigger update_sale_trigger;\n",
    "CREATE TRIGGER update_sale_trigger\n",
    "AFTER UPDATE ON petsale\n",
    "BEGIN\n",
    "    INSERT INTO sales_log (action, sale_id) VALUES ('UPDATE', OLD.ID);\n",
    "END;"
   ]
  },
  {
   "cell_type": "markdown",
   "id": "b510d001-b5f5-470b-a093-e325f707c3ed",
   "metadata": {},
   "source": [
    "# Delete trigger"
   ]
  },
  {
   "cell_type": "code",
   "execution_count": 52,
   "id": "38f7e4a2-f340-40d7-9a9e-e438a7ed44e1",
   "metadata": {},
   "outputs": [
    {
     "name": "stdout",
     "output_type": "stream",
     "text": [
      " * sqlite:///test.db\n",
      "Done.\n"
     ]
    },
    {
     "data": {
      "text/plain": [
       "[]"
      ]
     },
     "execution_count": 52,
     "metadata": {},
     "output_type": "execute_result"
    }
   ],
   "source": [
    "%%sql\n",
    "create trigger delete_sale_trigger\n",
    "after delete on petsale\n",
    "begin \n",
    "    insert into sales_log (action, sale_id) values('DELETE',OLD.ID);\n",
    "END;"
   ]
  },
  {
   "cell_type": "code",
   "execution_count": 35,
   "id": "345cfd4c-bd64-4b69-a19e-1a51e8839ef5",
   "metadata": {},
   "outputs": [
    {
     "name": "stdout",
     "output_type": "stream",
     "text": [
      " * sqlite:///test.db\n",
      "1 rows affected.\n"
     ]
    },
    {
     "data": {
      "text/plain": [
       "[]"
      ]
     },
     "execution_count": 35,
     "metadata": {},
     "output_type": "execute_result"
    }
   ],
   "source": [
    "%%sql\n",
    "insert into petsale values (6,'donkey',0,'2069-04-20',10)"
   ]
  },
  {
   "cell_type": "code",
   "execution_count": 48,
   "id": "86c48258-b287-49fc-bda8-8a9a304aad26",
   "metadata": {},
   "outputs": [
    {
     "name": "stdout",
     "output_type": "stream",
     "text": [
      " * sqlite:///test.db\n",
      "4 rows affected.\n"
     ]
    },
    {
     "data": {
      "text/plain": [
       "[]"
      ]
     },
     "execution_count": 48,
     "metadata": {},
     "output_type": "execute_result"
    }
   ],
   "source": [
    "%%sql\n",
    "update petsale set quantity=20 where pet='donkey'"
   ]
  },
  {
   "cell_type": "code",
   "execution_count": 49,
   "id": "0a7ee036-d1db-4f24-900e-fa14461c3775",
   "metadata": {},
   "outputs": [
    {
     "name": "stdout",
     "output_type": "stream",
     "text": [
      " * sqlite:///test.db\n",
      "Done.\n"
     ]
    },
    {
     "data": {
      "text/html": [
       "<table>\n",
       "    <thead>\n",
       "        <tr>\n",
       "            <th>log_id</th>\n",
       "            <th>action</th>\n",
       "            <th>sale_id</th>\n",
       "            <th>timestamp</th>\n",
       "        </tr>\n",
       "    </thead>\n",
       "    <tbody>\n",
       "        <tr>\n",
       "            <td>1</td>\n",
       "            <td>INSERT</td>\n",
       "            <td>6</td>\n",
       "            <td>2024-04-22 17:04:58</td>\n",
       "        </tr>\n",
       "        <tr>\n",
       "            <td>2</td>\n",
       "            <td>UPDATE</td>\n",
       "            <td>6</td>\n",
       "            <td>2024-04-22 17:08:49</td>\n",
       "        </tr>\n",
       "        <tr>\n",
       "            <td>3</td>\n",
       "            <td>UPDATE</td>\n",
       "            <td>6</td>\n",
       "            <td>2024-04-22 17:08:49</td>\n",
       "        </tr>\n",
       "        <tr>\n",
       "            <td>4</td>\n",
       "            <td>UPDATE</td>\n",
       "            <td>6</td>\n",
       "            <td>2024-04-22 17:08:49</td>\n",
       "        </tr>\n",
       "        <tr>\n",
       "            <td>5</td>\n",
       "            <td>UPDATE</td>\n",
       "            <td>6</td>\n",
       "            <td>2024-04-22 17:08:49</td>\n",
       "        </tr>\n",
       "    </tbody>\n",
       "</table>"
      ],
      "text/plain": [
       "[(1, 'INSERT', 6, '2024-04-22 17:04:58'),\n",
       " (2, 'UPDATE', 6, '2024-04-22 17:08:49'),\n",
       " (3, 'UPDATE', 6, '2024-04-22 17:08:49'),\n",
       " (4, 'UPDATE', 6, '2024-04-22 17:08:49'),\n",
       " (5, 'UPDATE', 6, '2024-04-22 17:08:49')]"
      ]
     },
     "execution_count": 49,
     "metadata": {},
     "output_type": "execute_result"
    }
   ],
   "source": [
    "%%sql\n",
    "select * from sales_log"
   ]
  },
  {
   "cell_type": "code",
   "execution_count": null,
   "id": "bd2c2670-3ef1-4e44-811d-2c31ab233676",
   "metadata": {},
   "outputs": [],
   "source": []
  }
 ],
 "metadata": {
  "kernelspec": {
   "display_name": "tf",
   "language": "python",
   "name": "tf"
  },
  "language_info": {
   "codemirror_mode": {
    "name": "ipython",
    "version": 3
   },
   "file_extension": ".py",
   "mimetype": "text/x-python",
   "name": "python",
   "nbconvert_exporter": "python",
   "pygments_lexer": "ipython3",
   "version": "3.9.18"
  }
 },
 "nbformat": 4,
 "nbformat_minor": 5
}
