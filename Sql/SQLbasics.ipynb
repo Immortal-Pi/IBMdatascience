{
 "cells": [
  {
   "cell_type": "markdown",
   "id": "d1bf927a-0b43-4bc2-8583-32466a3907a5",
   "metadata": {},
   "source": [
    "# Running SQL from jupyter notebook"
   ]
  },
  {
   "cell_type": "code",
   "execution_count": 6,
   "id": "41b65037-0ca9-405f-a77c-ed1aaffbf28d",
   "metadata": {},
   "outputs": [],
   "source": [
    "import pandas as pd\n",
    "import sqlite3 as sql"
   ]
  },
  {
   "cell_type": "code",
   "execution_count": 2,
   "id": "91b22edb-a2dc-4f01-b413-1921b5659f56",
   "metadata": {},
   "outputs": [],
   "source": [
    "df=pd.DataFrame({'name':['amruth','akshath','sharath','subu'],\n",
    "                 'age':[23,34,32,23],\n",
    "                 'city':['richardson','bangalore','tonoto','cali']\n",
    "                \n",
    "                })"
   ]
  },
  {
   "cell_type": "code",
   "execution_count": 3,
   "id": "67dfd6c8-e259-4606-9d42-542d19d64895",
   "metadata": {},
   "outputs": [
    {
     "data": {
      "text/html": [
       "<div>\n",
       "<style scoped>\n",
       "    .dataframe tbody tr th:only-of-type {\n",
       "        vertical-align: middle;\n",
       "    }\n",
       "\n",
       "    .dataframe tbody tr th {\n",
       "        vertical-align: top;\n",
       "    }\n",
       "\n",
       "    .dataframe thead th {\n",
       "        text-align: right;\n",
       "    }\n",
       "</style>\n",
       "<table border=\"1\" class=\"dataframe\">\n",
       "  <thead>\n",
       "    <tr style=\"text-align: right;\">\n",
       "      <th></th>\n",
       "      <th>name</th>\n",
       "      <th>age</th>\n",
       "      <th>city</th>\n",
       "    </tr>\n",
       "  </thead>\n",
       "  <tbody>\n",
       "    <tr>\n",
       "      <th>0</th>\n",
       "      <td>amruth</td>\n",
       "      <td>23</td>\n",
       "      <td>richardson</td>\n",
       "    </tr>\n",
       "    <tr>\n",
       "      <th>1</th>\n",
       "      <td>akshath</td>\n",
       "      <td>34</td>\n",
       "      <td>bangalore</td>\n",
       "    </tr>\n",
       "    <tr>\n",
       "      <th>2</th>\n",
       "      <td>sharath</td>\n",
       "      <td>32</td>\n",
       "      <td>tonoto</td>\n",
       "    </tr>\n",
       "    <tr>\n",
       "      <th>3</th>\n",
       "      <td>subu</td>\n",
       "      <td>23</td>\n",
       "      <td>cali</td>\n",
       "    </tr>\n",
       "  </tbody>\n",
       "</table>\n",
       "</div>"
      ],
      "text/plain": [
       "      name  age        city\n",
       "0   amruth   23  richardson\n",
       "1  akshath   34   bangalore\n",
       "2  sharath   32      tonoto\n",
       "3     subu   23        cali"
      ]
     },
     "execution_count": 3,
     "metadata": {},
     "output_type": "execute_result"
    }
   ],
   "source": [
    "df"
   ]
  },
  {
   "cell_type": "code",
   "execution_count": 8,
   "id": "c49158d4-30aa-4e63-a2cf-5cf54664bf6e",
   "metadata": {},
   "outputs": [],
   "source": [
    "# connect to database\n",
    "cnn=sql.connect('test.db')"
   ]
  },
  {
   "cell_type": "code",
   "execution_count": 9,
   "id": "187f632d-8d97-4ee5-8626-3403cb9719ee",
   "metadata": {},
   "outputs": [
    {
     "data": {
      "text/plain": [
       "4"
      ]
     },
     "execution_count": 9,
     "metadata": {},
     "output_type": "execute_result"
    }
   ],
   "source": [
    "df.to_sql('people',cnn)"
   ]
  },
  {
   "cell_type": "code",
   "execution_count": 10,
   "id": "956d9372-5b29-49c1-8fad-6709aeaaaa47",
   "metadata": {},
   "outputs": [],
   "source": [
    "# load the sql module to ipython\n",
    "%load_ext sql"
   ]
  },
  {
   "cell_type": "code",
   "execution_count": 12,
   "id": "42d6fce3-d3a1-4aa0-b70a-7cb300e00074",
   "metadata": {},
   "outputs": [],
   "source": [
    "%sql sqlite:///test.db"
   ]
  },
  {
   "cell_type": "code",
   "execution_count": 13,
   "id": "eaa3f1ce-f86d-44ef-bd92-4e0776bb852e",
   "metadata": {},
   "outputs": [
    {
     "name": "stdout",
     "output_type": "stream",
     "text": [
      " * sqlite:///test.db\n",
      "Done.\n"
     ]
    },
    {
     "data": {
      "text/html": [
       "<table>\n",
       "    <thead>\n",
       "        <tr>\n",
       "            <th>index</th>\n",
       "            <th>name</th>\n",
       "            <th>age</th>\n",
       "            <th>city</th>\n",
       "        </tr>\n",
       "    </thead>\n",
       "    <tbody>\n",
       "        <tr>\n",
       "            <td>0</td>\n",
       "            <td>amruth</td>\n",
       "            <td>23</td>\n",
       "            <td>richardson</td>\n",
       "        </tr>\n",
       "        <tr>\n",
       "            <td>1</td>\n",
       "            <td>akshath</td>\n",
       "            <td>34</td>\n",
       "            <td>bangalore</td>\n",
       "        </tr>\n",
       "        <tr>\n",
       "            <td>2</td>\n",
       "            <td>sharath</td>\n",
       "            <td>32</td>\n",
       "            <td>tonoto</td>\n",
       "        </tr>\n",
       "        <tr>\n",
       "            <td>3</td>\n",
       "            <td>subu</td>\n",
       "            <td>23</td>\n",
       "            <td>cali</td>\n",
       "        </tr>\n",
       "    </tbody>\n",
       "</table>"
      ],
      "text/plain": [
       "[(0, 'amruth', 23, 'richardson'),\n",
       " (1, 'akshath', 34, 'bangalore'),\n",
       " (2, 'sharath', 32, 'tonoto'),\n",
       " (3, 'subu', 23, 'cali')]"
      ]
     },
     "execution_count": 13,
     "metadata": {},
     "output_type": "execute_result"
    }
   ],
   "source": [
    "%%sql \n",
    "select * from people"
   ]
  },
  {
   "cell_type": "code",
   "execution_count": 14,
   "id": "1a65fd0b-4873-4d70-bc32-1bf1627ef5a4",
   "metadata": {},
   "outputs": [
    {
     "name": "stdout",
     "output_type": "stream",
     "text": [
      " * sqlite:///test.db\n",
      "Done.\n"
     ]
    },
    {
     "data": {
      "text/html": [
       "<table>\n",
       "    <thead>\n",
       "        <tr>\n",
       "            <th>count(*)</th>\n",
       "        </tr>\n",
       "    </thead>\n",
       "    <tbody>\n",
       "        <tr>\n",
       "            <td>4</td>\n",
       "        </tr>\n",
       "    </tbody>\n",
       "</table>"
      ],
      "text/plain": [
       "[(4,)]"
      ]
     },
     "execution_count": 14,
     "metadata": {},
     "output_type": "execute_result"
    }
   ],
   "source": [
    "%%sql\n",
    "select count(*) from people"
   ]
  },
  {
   "cell_type": "markdown",
   "id": "d47adcc0-e60e-42d7-8555-4f97b92adb66",
   "metadata": {},
   "source": [
    "# example database filmlocations"
   ]
  },
  {
   "cell_type": "code",
   "execution_count": 15,
   "id": "cfef8061-9b12-4e60-b8f6-04406f7cf252",
   "metadata": {},
   "outputs": [],
   "source": [
    "cnn=sql.connect('filmLocation.db')"
   ]
  },
  {
   "cell_type": "code",
   "execution_count": 17,
   "id": "22fd8fec-1153-47d9-bec7-f43791e7c7e9",
   "metadata": {},
   "outputs": [
    {
     "data": {
      "text/html": [
       "<div>\n",
       "<style scoped>\n",
       "    .dataframe tbody tr th:only-of-type {\n",
       "        vertical-align: middle;\n",
       "    }\n",
       "\n",
       "    .dataframe tbody tr th {\n",
       "        vertical-align: top;\n",
       "    }\n",
       "\n",
       "    .dataframe thead th {\n",
       "        text-align: right;\n",
       "    }\n",
       "</style>\n",
       "<table border=\"1\" class=\"dataframe\">\n",
       "  <thead>\n",
       "    <tr style=\"text-align: right;\">\n",
       "      <th></th>\n",
       "      <th>title</th>\n",
       "      <th>release_year</th>\n",
       "      <th>locations</th>\n",
       "      <th>fun_facts</th>\n",
       "      <th>production_company</th>\n",
       "      <th>distributor</th>\n",
       "      <th>director</th>\n",
       "      <th>writer</th>\n",
       "      <th>actor_1</th>\n",
       "      <th>actor_2</th>\n",
       "      <th>actor_3</th>\n",
       "      <th>state</th>\n",
       "      <th>city</th>\n",
       "      <th>point</th>\n",
       "    </tr>\n",
       "  </thead>\n",
       "  <tbody>\n",
       "    <tr>\n",
       "      <th>0</th>\n",
       "      <td>Nash Bridges</td>\n",
       "      <td>2021</td>\n",
       "      <td>Pier 45, San Francisco</td>\n",
       "      <td>NaN</td>\n",
       "      <td>Village NB Productions, LLC</td>\n",
       "      <td>USA Nework</td>\n",
       "      <td>Greg Beeman</td>\n",
       "      <td>Carlton Cuse, Bill Chais</td>\n",
       "      <td>Don Johnson</td>\n",
       "      <td>Cheech Marin</td>\n",
       "      <td>Joe Dinicol</td>\n",
       "      <td>CA</td>\n",
       "      <td>San Francisco</td>\n",
       "      <td>POINT (-122.417428501 37.809873676)</td>\n",
       "    </tr>\n",
       "    <tr>\n",
       "      <th>1</th>\n",
       "      <td>The OA Part II</td>\n",
       "      <td>2019</td>\n",
       "      <td>Ada Court at O'Farrell St</td>\n",
       "      <td>NaN</td>\n",
       "      <td>Lunar Mining LLC</td>\n",
       "      <td>Netflix</td>\n",
       "      <td>Zal Batmanglij</td>\n",
       "      <td>Zal Batmanglij, Brit Marling</td>\n",
       "      <td>Brit Marling</td>\n",
       "      <td>Emory Cohen</td>\n",
       "      <td>Patrick Gibson</td>\n",
       "      <td>CA</td>\n",
       "      <td>San Francisco</td>\n",
       "      <td>POINT (-122.41568003 37.785469982)</td>\n",
       "    </tr>\n",
       "    <tr>\n",
       "      <th>2</th>\n",
       "      <td>Looking \"Special\"</td>\n",
       "      <td>2016</td>\n",
       "      <td>1246 Folsom Street</td>\n",
       "      <td>NaN</td>\n",
       "      <td>Mission Street Productions, LLC</td>\n",
       "      <td>HBO</td>\n",
       "      <td>Andrew Haigh</td>\n",
       "      <td>Michael Lannan</td>\n",
       "      <td>Jonathan Groff</td>\n",
       "      <td>Frankie Alvarez</td>\n",
       "      <td>Murray Bartlett</td>\n",
       "      <td>CA</td>\n",
       "      <td>San Francisco</td>\n",
       "      <td>POINT (-122.411002006 37.774595007)</td>\n",
       "    </tr>\n",
       "    <tr>\n",
       "      <th>3</th>\n",
       "      <td>The Phone/Jexi</td>\n",
       "      <td>2019</td>\n",
       "      <td>Liberty St btwn Castro and Noe St</td>\n",
       "      <td>NaN</td>\n",
       "      <td>CBS Films Inc.</td>\n",
       "      <td>Lionsgate</td>\n",
       "      <td>Jon Lucas, Scott Moore</td>\n",
       "      <td>Jon Lucas, Scott Moore</td>\n",
       "      <td>Adam Devine</td>\n",
       "      <td>Alexandra Shipp</td>\n",
       "      <td>Michael Pena</td>\n",
       "      <td>CA</td>\n",
       "      <td>San Francisco</td>\n",
       "      <td>POINT (-122.432399999 37.75702)</td>\n",
       "    </tr>\n",
       "    <tr>\n",
       "      <th>4</th>\n",
       "      <td>Terminator - Genisys</td>\n",
       "      <td>2015</td>\n",
       "      <td>California at Larkin</td>\n",
       "      <td>NaN</td>\n",
       "      <td>T5 Productions LLC</td>\n",
       "      <td>Paramount Pictures</td>\n",
       "      <td>Alan Taylor</td>\n",
       "      <td>James Cameron</td>\n",
       "      <td>Arnold Schwarzenegger</td>\n",
       "      <td>Jason Clarke</td>\n",
       "      <td>NaN</td>\n",
       "      <td>CA</td>\n",
       "      <td>San Francisco</td>\n",
       "      <td>POINT (-122.419039999 37.790790018)</td>\n",
       "    </tr>\n",
       "  </tbody>\n",
       "</table>\n",
       "</div>"
      ],
      "text/plain": [
       "                  title  release_year                          locations  \\\n",
       "0          Nash Bridges          2021             Pier 45, San Francisco   \n",
       "1        The OA Part II          2019          Ada Court at O'Farrell St   \n",
       "2     Looking \"Special\"          2016                 1246 Folsom Street   \n",
       "3        The Phone/Jexi          2019  Liberty St btwn Castro and Noe St   \n",
       "4  Terminator - Genisys          2015               California at Larkin   \n",
       "\n",
       "  fun_facts               production_company         distributor  \\\n",
       "0       NaN      Village NB Productions, LLC          USA Nework   \n",
       "1       NaN                 Lunar Mining LLC             Netflix   \n",
       "2       NaN  Mission Street Productions, LLC                 HBO   \n",
       "3       NaN                   CBS Films Inc.           Lionsgate   \n",
       "4       NaN               T5 Productions LLC  Paramount Pictures   \n",
       "\n",
       "                 director                        writer  \\\n",
       "0             Greg Beeman      Carlton Cuse, Bill Chais   \n",
       "1          Zal Batmanglij  Zal Batmanglij, Brit Marling   \n",
       "2            Andrew Haigh                Michael Lannan   \n",
       "3  Jon Lucas, Scott Moore        Jon Lucas, Scott Moore   \n",
       "4             Alan Taylor                 James Cameron   \n",
       "\n",
       "                 actor_1          actor_2          actor_3 state  \\\n",
       "0            Don Johnson     Cheech Marin      Joe Dinicol    CA   \n",
       "1           Brit Marling      Emory Cohen   Patrick Gibson    CA   \n",
       "2         Jonathan Groff  Frankie Alvarez  Murray Bartlett    CA   \n",
       "3            Adam Devine  Alexandra Shipp     Michael Pena    CA   \n",
       "4  Arnold Schwarzenegger     Jason Clarke              NaN    CA   \n",
       "\n",
       "            city                                point  \n",
       "0  San Francisco  POINT (-122.417428501 37.809873676)  \n",
       "1  San Francisco   POINT (-122.41568003 37.785469982)  \n",
       "2  San Francisco  POINT (-122.411002006 37.774595007)  \n",
       "3  San Francisco      POINT (-122.432399999 37.75702)  \n",
       "4  San Francisco  POINT (-122.419039999 37.790790018)  "
      ]
     },
     "execution_count": 17,
     "metadata": {},
     "output_type": "execute_result"
    }
   ],
   "source": [
    "film_data=pd.read_csv('datasets/films.csv')\n",
    "film_data.head(5)"
   ]
  },
  {
   "cell_type": "code",
   "execution_count": 18,
   "id": "c276c81a-a36e-4452-8532-d0e1a98906c8",
   "metadata": {},
   "outputs": [
    {
     "data": {
      "text/plain": [
       "2084"
      ]
     },
     "execution_count": 18,
     "metadata": {},
     "output_type": "execute_result"
    }
   ],
   "source": [
    "film_data.to_sql('filmlocation',cnn)"
   ]
  },
  {
   "cell_type": "code",
   "execution_count": 27,
   "id": "dc38a377-8850-4a0b-a133-08ecfbcb8cf0",
   "metadata": {},
   "outputs": [],
   "source": [
    "%sql sqlite:///filmLocation.db"
   ]
  },
  {
   "cell_type": "code",
   "execution_count": 31,
   "id": "7b6d8dee-f608-4d8d-a5fa-54674b60750b",
   "metadata": {},
   "outputs": [
    {
     "data": {
      "text/plain": [
       "4"
      ]
     },
     "execution_count": 31,
     "metadata": {},
     "output_type": "execute_result"
    }
   ],
   "source": [
    "df.to_sql('people',cnn) "
   ]
  },
  {
   "cell_type": "code",
   "execution_count": 34,
   "id": "c7354262-dd02-4e2c-b3e7-d13a3b4e8c67",
   "metadata": {},
   "outputs": [
    {
     "name": "stdout",
     "output_type": "stream",
     "text": [
      " * sqlite:///filmLocation.db\n",
      "   sqlite:///filmlocation\n",
      "   sqlite:///test.db\n",
      "(sqlite3.OperationalError) unrecognized token: \"#\"\n",
      "[SQL: # select * from filmlocation]\n",
      "(Background on this error at: https://sqlalche.me/e/20/e3q8)\n"
     ]
    }
   ],
   "source": [
    "%%sql\n",
    "# select * from filmlocation"
   ]
  },
  {
   "cell_type": "code",
   "execution_count": 56,
   "id": "df7ac020-adf9-4a41-b1c9-4fa14d8bc8da",
   "metadata": {},
   "outputs": [
    {
     "name": "stdout",
     "output_type": "stream",
     "text": [
      " * sqlite:///filmLocation.db\n",
      "   sqlite:///filmlocation\n",
      "   sqlite:///test.db\n",
      "Done.\n"
     ]
    },
    {
     "data": {
      "text/html": [
       "<table>\n",
       "    <thead>\n",
       "        <tr>\n",
       "            <th>title</th>\n",
       "            <th>director</th>\n",
       "            <th>release_year</th>\n",
       "            <th>writer</th>\n",
       "        </tr>\n",
       "    </thead>\n",
       "    <tbody>\n",
       "        <tr>\n",
       "            <td>Nash Bridges</td>\n",
       "            <td>Greg Beeman</td>\n",
       "            <td>2021</td>\n",
       "            <td>Carlton Cuse, Bill Chais</td>\n",
       "        </tr>\n",
       "        <tr>\n",
       "            <td>The OA Part II</td>\n",
       "            <td>Zal Batmanglij</td>\n",
       "            <td>2019</td>\n",
       "            <td>Zal Batmanglij, Brit Marling</td>\n",
       "        </tr>\n",
       "        <tr>\n",
       "            <td>Looking &quot;Special&quot;</td>\n",
       "            <td>Andrew Haigh</td>\n",
       "            <td>2016</td>\n",
       "            <td>Michael Lannan</td>\n",
       "        </tr>\n",
       "        <tr>\n",
       "            <td>The Phone/Jexi</td>\n",
       "            <td>Jon Lucas, Scott Moore</td>\n",
       "            <td>2019</td>\n",
       "            <td>Jon Lucas, Scott Moore</td>\n",
       "        </tr>\n",
       "        <tr>\n",
       "            <td>Terminator - Genisys</td>\n",
       "            <td>Alan Taylor</td>\n",
       "            <td>2015</td>\n",
       "            <td>James Cameron</td>\n",
       "        </tr>\n",
       "    </tbody>\n",
       "</table>"
      ],
      "text/plain": [
       "[('Nash Bridges', 'Greg Beeman', 2021, 'Carlton Cuse, Bill Chais'),\n",
       " ('The OA Part II', 'Zal Batmanglij', 2019, 'Zal Batmanglij, Brit Marling'),\n",
       " ('Looking \"Special\"', 'Andrew Haigh', 2016, 'Michael Lannan'),\n",
       " ('The Phone/Jexi', 'Jon Lucas, Scott Moore', 2019, 'Jon Lucas, Scott Moore'),\n",
       " ('Terminator - Genisys', 'Alan Taylor', 2015, 'James Cameron')]"
      ]
     },
     "execution_count": 56,
     "metadata": {},
     "output_type": "execute_result"
    }
   ],
   "source": [
    "%%sql\n",
    "SELECT Title, Director, release_year,Writer FROM Filmlocation where release_year>2001 limit 5"
   ]
  },
  {
   "cell_type": "markdown",
   "id": "6a7546f1-b22a-4212-8896-5750ce5f9eaa",
   "metadata": {},
   "source": [
    "# Retrieve the fun facts and filming locations of all films."
   ]
  },
  {
   "cell_type": "code",
   "execution_count": 55,
   "id": "163e0050-0edb-4f75-8359-d39f7bd27ecc",
   "metadata": {},
   "outputs": [
    {
     "name": "stdout",
     "output_type": "stream",
     "text": [
      " * sqlite:///filmLocation.db\n",
      "   sqlite:///filmlocation\n",
      "   sqlite:///test.db\n",
      "Done.\n"
     ]
    },
    {
     "data": {
      "text/html": [
       "<table>\n",
       "    <thead>\n",
       "        <tr>\n",
       "            <th>fun_facts</th>\n",
       "            <th>locations</th>\n",
       "        </tr>\n",
       "    </thead>\n",
       "    <tbody>\n",
       "        <tr>\n",
       "            <td>None</td>\n",
       "            <td>Pier 45, San Francisco</td>\n",
       "        </tr>\n",
       "        <tr>\n",
       "            <td>None</td>\n",
       "            <td>Ada Court at O&#x27;Farrell St</td>\n",
       "        </tr>\n",
       "        <tr>\n",
       "            <td>None</td>\n",
       "            <td>1246 Folsom Street</td>\n",
       "        </tr>\n",
       "        <tr>\n",
       "            <td>None</td>\n",
       "            <td>Liberty St btwn Castro and Noe St</td>\n",
       "        </tr>\n",
       "        <tr>\n",
       "            <td>None</td>\n",
       "            <td>California at Larkin</td>\n",
       "        </tr>\n",
       "    </tbody>\n",
       "</table>"
      ],
      "text/plain": [
       "[(None, 'Pier 45, San Francisco'),\n",
       " (None, \"Ada Court at O'Farrell St\"),\n",
       " (None, '1246 Folsom Street'),\n",
       " (None, 'Liberty St btwn Castro and Noe St'),\n",
       " (None, 'California at Larkin')]"
      ]
     },
     "execution_count": 55,
     "metadata": {},
     "output_type": "execute_result"
    }
   ],
   "source": [
    "%%sql\n",
    "select fun_facts, locations from filmlocation limit 5"
   ]
  },
  {
   "cell_type": "code",
   "execution_count": 54,
   "id": "1560ed08-b863-43f5-bd8a-ec4f5b7422bd",
   "metadata": {},
   "outputs": [
    {
     "name": "stdout",
     "output_type": "stream",
     "text": [
      " * sqlite:///filmLocation.db\n",
      "   sqlite:///filmlocation\n",
      "   sqlite:///test.db\n",
      "Done.\n"
     ]
    },
    {
     "data": {
      "text/html": [
       "<table>\n",
       "    <thead>\n",
       "        <tr>\n",
       "            <th>title</th>\n",
       "            <th>locations</th>\n",
       "            <th>release_year</th>\n",
       "        </tr>\n",
       "    </thead>\n",
       "    <tbody>\n",
       "        <tr>\n",
       "            <td>Dirty Harry</td>\n",
       "            <td>Portsmouth Square (Chinatown)</td>\n",
       "            <td>1971</td>\n",
       "        </tr>\n",
       "        <tr>\n",
       "            <td>Harold and Maude</td>\n",
       "            <td>Sutro Baths (Point Lobos Avenue)</td>\n",
       "            <td>1971</td>\n",
       "        </tr>\n",
       "        <tr>\n",
       "            <td>Time After Time</td>\n",
       "            <td>Palace of Fine Arts (3301 Lyon Street)</td>\n",
       "            <td>1979</td>\n",
       "        </tr>\n",
       "        <tr>\n",
       "            <td>The Dead Pool</td>\n",
       "            <td>550 El Camino Del Mar (Seacliff)</td>\n",
       "            <td>1988</td>\n",
       "        </tr>\n",
       "        <tr>\n",
       "            <td>Junior</td>\n",
       "            <td>722 Steiner Street</td>\n",
       "            <td>1994</td>\n",
       "        </tr>\n",
       "    </tbody>\n",
       "</table>"
      ],
      "text/plain": [
       "[('Dirty Harry', 'Portsmouth Square (Chinatown)', 1971),\n",
       " ('Harold and Maude', 'Sutro Baths (Point Lobos Avenue)', 1971),\n",
       " ('Time After Time', 'Palace of Fine Arts (3301 Lyon Street)', 1979),\n",
       " ('The Dead Pool', '550 El Camino Del Mar (Seacliff)', 1988),\n",
       " ('Junior', '722 Steiner Street', 1994)]"
      ]
     },
     "execution_count": 54,
     "metadata": {},
     "output_type": "execute_result"
    }
   ],
   "source": [
    "%%sql\n",
    "SELECT Title,locations,release_year FROM filmlocation where release_year<=2000 limit 5"
   ]
  },
  {
   "cell_type": "code",
   "execution_count": 53,
   "id": "f722d942-0af6-4544-b1bb-ec04b8ba12d8",
   "metadata": {},
   "outputs": [
    {
     "name": "stdout",
     "output_type": "stream",
     "text": [
      " * sqlite:///filmLocation.db\n",
      "   sqlite:///filmlocation\n",
      "   sqlite:///test.db\n",
      "Done.\n"
     ]
    },
    {
     "data": {
      "text/html": [
       "<table>\n",
       "    <thead>\n",
       "        <tr>\n",
       "            <th>title</th>\n",
       "            <th>production_company</th>\n",
       "            <th>locations</th>\n",
       "            <th>release_year</th>\n",
       "        </tr>\n",
       "    </thead>\n",
       "    <tbody>\n",
       "        <tr>\n",
       "            <td>Nash Bridges</td>\n",
       "            <td>Village NB Productions, LLC</td>\n",
       "            <td>Pier 45, San Francisco</td>\n",
       "            <td>2021</td>\n",
       "        </tr>\n",
       "        <tr>\n",
       "            <td>The OA Part II</td>\n",
       "            <td>Lunar Mining LLC</td>\n",
       "            <td>Ada Court at O&#x27;Farrell St</td>\n",
       "            <td>2019</td>\n",
       "        </tr>\n",
       "        <tr>\n",
       "            <td>Looking &quot;Special&quot;</td>\n",
       "            <td>Mission Street Productions, LLC</td>\n",
       "            <td>1246 Folsom Street</td>\n",
       "            <td>2016</td>\n",
       "        </tr>\n",
       "        <tr>\n",
       "            <td>The Phone/Jexi</td>\n",
       "            <td>CBS Films Inc.</td>\n",
       "            <td>Liberty St btwn Castro and Noe St</td>\n",
       "            <td>2019</td>\n",
       "        </tr>\n",
       "        <tr>\n",
       "            <td>Terminator - Genisys</td>\n",
       "            <td>T5 Productions LLC</td>\n",
       "            <td>California at Larkin</td>\n",
       "            <td>2015</td>\n",
       "        </tr>\n",
       "    </tbody>\n",
       "</table>"
      ],
      "text/plain": [
       "[('Nash Bridges', 'Village NB Productions, LLC', 'Pier 45, San Francisco', 2021),\n",
       " ('The OA Part II', 'Lunar Mining LLC', \"Ada Court at O'Farrell St\", 2019),\n",
       " ('Looking \"Special\"', 'Mission Street Productions, LLC', '1246 Folsom Street', 2016),\n",
       " ('The Phone/Jexi', 'CBS Films Inc.', 'Liberty St btwn Castro and Noe St', 2019),\n",
       " ('Terminator - Genisys', 'T5 Productions LLC', 'California at Larkin', 2015)]"
      ]
     },
     "execution_count": 53,
     "metadata": {},
     "output_type": "execute_result"
    }
   ],
   "source": [
    "%%sql\n",
    "select title,production_company, locations,release_year from filmlocation where writer <>'James Vameron' limit 5"
   ]
  },
  {
   "cell_type": "markdown",
   "id": "5e1a56e6-7b80-4bc8-847a-e92d39d99311",
   "metadata": {},
   "source": [
    "# Count, Distinct, Limit"
   ]
  },
  {
   "cell_type": "code",
   "execution_count": 48,
   "id": "38dcea8d-d44c-4b9d-bf34-97c89a64e5d4",
   "metadata": {},
   "outputs": [
    {
     "name": "stdout",
     "output_type": "stream",
     "text": [
      " * sqlite:///filmLocation.db\n",
      "   sqlite:///filmlocation\n",
      "   sqlite:///test.db\n",
      "Done.\n"
     ]
    },
    {
     "data": {
      "text/html": [
       "<table>\n",
       "    <thead>\n",
       "        <tr>\n",
       "            <th>count(locations)</th>\n",
       "        </tr>\n",
       "    </thead>\n",
       "    <tbody>\n",
       "        <tr>\n",
       "            <td>24</td>\n",
       "        </tr>\n",
       "    </tbody>\n",
       "</table>"
      ],
      "text/plain": [
       "[(24,)]"
      ]
     },
     "execution_count": 48,
     "metadata": {},
     "output_type": "execute_result"
    }
   ],
   "source": [
    "%%sql\n",
    "select count(locations) from filmlocation where writer ='James Cameron'"
   ]
  },
  {
   "cell_type": "code",
   "execution_count": 52,
   "id": "7289b1ad-258f-4971-aca9-de681bcd9050",
   "metadata": {},
   "outputs": [
    {
     "name": "stdout",
     "output_type": "stream",
     "text": [
      " * sqlite:///filmLocation.db\n",
      "   sqlite:///filmlocation\n",
      "   sqlite:///test.db\n",
      "Done.\n"
     ]
    },
    {
     "data": {
      "text/html": [
       "<table>\n",
       "    <thead>\n",
       "        <tr>\n",
       "            <th>title</th>\n",
       "        </tr>\n",
       "    </thead>\n",
       "    <tbody>\n",
       "        <tr>\n",
       "            <td>Nash Bridges</td>\n",
       "        </tr>\n",
       "        <tr>\n",
       "            <td>The OA Part II</td>\n",
       "        </tr>\n",
       "        <tr>\n",
       "            <td>Looking &quot;Special&quot;</td>\n",
       "        </tr>\n",
       "        <tr>\n",
       "            <td>The Phone/Jexi</td>\n",
       "        </tr>\n",
       "        <tr>\n",
       "            <td>Terminator - Genisys</td>\n",
       "        </tr>\n",
       "    </tbody>\n",
       "</table>"
      ],
      "text/plain": [
       "[('Nash Bridges',),\n",
       " ('The OA Part II',),\n",
       " ('Looking \"Special\"',),\n",
       " ('The Phone/Jexi',),\n",
       " ('Terminator - Genisys',)]"
      ]
     },
     "execution_count": 52,
     "metadata": {},
     "output_type": "execute_result"
    }
   ],
   "source": [
    "%%sql\n",
    "select distinct title from filmlocation limit 5"
   ]
  },
  {
   "cell_type": "markdown",
   "id": "44c1b54c-bb0b-4135-9ac0-d8143e01077f",
   "metadata": {},
   "source": [
    "# Distinct"
   ]
  },
  {
   "cell_type": "code",
   "execution_count": 65,
   "id": "43641d97-1bac-4e19-9eb0-1d2688888a96",
   "metadata": {},
   "outputs": [
    {
     "name": "stdout",
     "output_type": "stream",
     "text": [
      " * sqlite:///filmLocation.db\n",
      "   sqlite:///filmlocation\n",
      "   sqlite:///test.db\n",
      "Done.\n",
      "Done.\n"
     ]
    },
    {
     "data": {
      "text/html": [
       "<table>\n",
       "    <thead>\n",
       "        <tr>\n",
       "            <th>count(distinct release_year)</th>\n",
       "        </tr>\n",
       "    </thead>\n",
       "    <tbody>\n",
       "        <tr>\n",
       "            <td>14</td>\n",
       "        </tr>\n",
       "    </tbody>\n",
       "</table>"
      ],
      "text/plain": [
       "[(14,)]"
      ]
     },
     "execution_count": 65,
     "metadata": {},
     "output_type": "execute_result"
    }
   ],
   "source": [
    "%%sql\n",
    "select distinct release_year from filmlocation where production_company='Warner Bros. Pictures';\n",
    "select count(distinct release_year) from filmlocation where production_company='Warner Bros. Pictures'"
   ]
  },
  {
   "cell_type": "markdown",
   "id": "af92ed89-7a38-46bf-9346-78ed8c9ad2fd",
   "metadata": {},
   "source": [
    "# Limit"
   ]
  },
  {
   "cell_type": "code",
   "execution_count": 68,
   "id": "36aebeba-0726-4f32-b4b5-539f6f49cadd",
   "metadata": {},
   "outputs": [
    {
     "name": "stdout",
     "output_type": "stream",
     "text": [
      " * sqlite:///filmLocation.db\n",
      "   sqlite:///filmlocation\n",
      "   sqlite:///test.db\n",
      "Done.\n"
     ]
    },
    {
     "data": {
      "text/html": [
       "<table>\n",
       "    <thead>\n",
       "        <tr>\n",
       "            <th>index</th>\n",
       "            <th>title</th>\n",
       "            <th>release_year</th>\n",
       "            <th>locations</th>\n",
       "            <th>fun_facts</th>\n",
       "            <th>production_company</th>\n",
       "            <th>distributor</th>\n",
       "            <th>director</th>\n",
       "            <th>writer</th>\n",
       "            <th>actor_1</th>\n",
       "            <th>actor_2</th>\n",
       "            <th>actor_3</th>\n",
       "            <th>state</th>\n",
       "            <th>city</th>\n",
       "            <th>point</th>\n",
       "        </tr>\n",
       "    </thead>\n",
       "    <tbody>\n",
       "        <tr>\n",
       "            <td>10</td>\n",
       "            <td>Time After Time</td>\n",
       "            <td>1979</td>\n",
       "            <td>Palace of Fine Arts (3301 Lyon Street)</td>\n",
       "            <td>The original Palace was built for the 1915 Panama-Pacific Exposition, and completely destroyed in 1964. It was rebuilt in 1965.</td>\n",
       "            <td>Orion Pictures Corp.</td>\n",
       "            <td>Columbia Broadcasting System (CBS)</td>\n",
       "            <td>Nicholas Meyer</td>\n",
       "            <td>Karl Alexander</td>\n",
       "            <td>Malcolm McDowell</td>\n",
       "            <td>Mary Steenburgen</td>\n",
       "            <td>David Warner</td>\n",
       "            <td>CA</td>\n",
       "            <td>San Francisco</td>\n",
       "            <td>POINT (-122.44899 37.80288)</td>\n",
       "        </tr>\n",
       "        <tr>\n",
       "            <td>11</td>\n",
       "            <td>Quitters</td>\n",
       "            <td>2015</td>\n",
       "            <td>Claire Lilienthal Elementary School</td>\n",
       "            <td>None</td>\n",
       "            <td>Frederick &amp; Ashbury, LLC.</td>\n",
       "            <td>None</td>\n",
       "            <td>Noah Pritzker</td>\n",
       "            <td>Noah Pritzker</td>\n",
       "            <td>Kara Hayward</td>\n",
       "            <td>Mira Sorvino</td>\n",
       "            <td>Saffron Burrows</td>\n",
       "            <td>CA</td>\n",
       "            <td>San Francisco</td>\n",
       "            <td>POINT (-122.45796 37.7871)</td>\n",
       "        </tr>\n",
       "        <tr>\n",
       "            <td>12</td>\n",
       "            <td>Quitters</td>\n",
       "            <td>2015</td>\n",
       "            <td>1536 Noe St.</td>\n",
       "            <td>None</td>\n",
       "            <td>Frederick &amp; Ashbury, LLC.</td>\n",
       "            <td>None</td>\n",
       "            <td>Noah Pritzker</td>\n",
       "            <td>Noah Pritzker</td>\n",
       "            <td>Kara Hayward</td>\n",
       "            <td>Mira Sorvino</td>\n",
       "            <td>Saffron Burrows</td>\n",
       "            <td>CA</td>\n",
       "            <td>San Francisco</td>\n",
       "            <td>POINT (-122.431454017 37.744473004)</td>\n",
       "        </tr>\n",
       "        <tr>\n",
       "            <td>13</td>\n",
       "            <td>The Dead Pool</td>\n",
       "            <td>1988</td>\n",
       "            <td>550 El Camino Del Mar (Seacliff)</td>\n",
       "            <td>None</td>\n",
       "            <td>Warner Bros. Pictures</td>\n",
       "            <td>Warner Bros. Pictures</td>\n",
       "            <td>Buddy Van Horn</td>\n",
       "            <td>Harry Julian Fink</td>\n",
       "            <td>Clint Eastwood</td>\n",
       "            <td>Liam Neeson</td>\n",
       "            <td>Patricia Clarkson</td>\n",
       "            <td>CA</td>\n",
       "            <td>San Francisco</td>\n",
       "            <td>POINT (-122.489937992 37.787534989)</td>\n",
       "        </tr>\n",
       "        <tr>\n",
       "            <td>14</td>\n",
       "            <td>The Princess Diaries</td>\n",
       "            <td>2001</td>\n",
       "            <td>2601 Lyon Street</td>\n",
       "            <td>None</td>\n",
       "            <td>Walt Disney Pictures</td>\n",
       "            <td>Buena Vista Pictures</td>\n",
       "            <td>Garry Marshall</td>\n",
       "            <td>Gina Wendkos</td>\n",
       "            <td>Julie Andrews</td>\n",
       "            <td>Anne Hathway</td>\n",
       "            <td>None</td>\n",
       "            <td>CA</td>\n",
       "            <td>San Francisco</td>\n",
       "            <td>POINT (-122.447010997 37.794680981)</td>\n",
       "        </tr>\n",
       "    </tbody>\n",
       "</table>"
      ],
      "text/plain": [
       "[(10, 'Time After Time', 1979, 'Palace of Fine Arts (3301 Lyon Street)', 'The original Palace was built for the 1915 Panama-Pacific Exposition, and completely destroyed in 1964. It was rebuilt in 1965.', 'Orion Pictures Corp.', 'Columbia Broadcasting System (CBS)', 'Nicholas Meyer', 'Karl Alexander', 'Malcolm McDowell', 'Mary Steenburgen', 'David Warner', 'CA', 'San Francisco', 'POINT (-122.44899 37.80288)'),\n",
       " (11, 'Quitters', 2015, 'Claire Lilienthal Elementary School', None, 'Frederick & Ashbury, LLC.', None, 'Noah Pritzker', 'Noah Pritzker', 'Kara Hayward', 'Mira Sorvino', 'Saffron Burrows', 'CA', 'San Francisco', 'POINT (-122.45796 37.7871)'),\n",
       " (12, 'Quitters', 2015, '1536 Noe St.', None, 'Frederick & Ashbury, LLC.', None, 'Noah Pritzker', 'Noah Pritzker', 'Kara Hayward', 'Mira Sorvino', 'Saffron Burrows', 'CA', 'San Francisco', 'POINT (-122.431454017 37.744473004)'),\n",
       " (13, 'The Dead Pool', 1988, '550 El Camino Del Mar (Seacliff)', None, 'Warner Bros. Pictures', 'Warner Bros. Pictures', 'Buddy Van Horn', 'Harry Julian Fink', 'Clint Eastwood', 'Liam Neeson', 'Patricia Clarkson', 'CA', 'San Francisco', 'POINT (-122.489937992 37.787534989)'),\n",
       " (14, 'The Princess Diaries', 2001, '2601 Lyon Street', None, 'Walt Disney Pictures', 'Buena Vista Pictures', 'Garry Marshall', 'Gina Wendkos', 'Julie Andrews', 'Anne Hathway', None, 'CA', 'San Francisco', 'POINT (-122.447010997 37.794680981)')]"
      ]
     },
     "execution_count": 68,
     "metadata": {},
     "output_type": "execute_result"
    }
   ],
   "source": [
    "%%sql\n",
    "select * from filmlocation limit 5 offset 10"
   ]
  },
  {
   "cell_type": "markdown",
   "id": "1b352f69-3cbf-4299-b3a6-efcc1b4749fd",
   "metadata": {},
   "source": [
    "# Practice Exercises"
   ]
  },
  {
   "cell_type": "code",
   "execution_count": 72,
   "id": "4750d92b-857c-4ae5-8551-85e7fc40617e",
   "metadata": {},
   "outputs": [
    {
     "name": "stdout",
     "output_type": "stream",
     "text": [
      " * sqlite:///filmLocation.db\n",
      "   sqlite:///filmlocation\n",
      "   sqlite:///test.db\n",
      "Done.\n"
     ]
    },
    {
     "data": {
      "text/html": [
       "<table>\n",
       "    <thead>\n",
       "        <tr>\n",
       "            <th>count(locations)</th>\n",
       "        </tr>\n",
       "    </thead>\n",
       "    <tbody>\n",
       "        <tr>\n",
       "            <td>31</td>\n",
       "        </tr>\n",
       "    </tbody>\n",
       "</table>"
      ],
      "text/plain": [
       "[(31,)]"
      ]
     },
     "execution_count": 72,
     "metadata": {},
     "output_type": "execute_result"
    }
   ],
   "source": [
    "%%sql\n",
    "select count(locations) from filmlocation where director ='Woody Allen'"
   ]
  },
  {
   "cell_type": "code",
   "execution_count": 74,
   "id": "deceefbb-1ac0-48fa-a727-7df2c483d30a",
   "metadata": {},
   "outputs": [
    {
     "name": "stdout",
     "output_type": "stream",
     "text": [
      " * sqlite:///filmLocation.db\n",
      "   sqlite:///filmlocation\n",
      "   sqlite:///test.db\n",
      "Done.\n"
     ]
    },
    {
     "data": {
      "text/html": [
       "<table>\n",
       "    <thead>\n",
       "        <tr>\n",
       "            <th>count(title)</th>\n",
       "        </tr>\n",
       "    </thead>\n",
       "    <tbody>\n",
       "        <tr>\n",
       "            <td>1</td>\n",
       "        </tr>\n",
       "    </tbody>\n",
       "</table>"
      ],
      "text/plain": [
       "[(1,)]"
      ]
     },
     "execution_count": 74,
     "metadata": {},
     "output_type": "execute_result"
    }
   ],
   "source": [
    "%%sql\n",
    "select count(title) from filmlocation where locations ='Russian Hill'"
   ]
  },
  {
   "cell_type": "code",
   "execution_count": 77,
   "id": "3c4b7495-f015-48ad-b7cf-433bce0f0d9c",
   "metadata": {},
   "outputs": [
    {
     "name": "stdout",
     "output_type": "stream",
     "text": [
      " * sqlite:///filmLocation.db\n",
      "   sqlite:///filmlocation\n",
      "   sqlite:///test.db\n",
      "Done.\n"
     ]
    },
    {
     "data": {
      "text/html": [
       "<table>\n",
       "    <thead>\n",
       "        <tr>\n",
       "            <th>count(*)</th>\n",
       "        </tr>\n",
       "    </thead>\n",
       "    <tbody>\n",
       "        <tr>\n",
       "            <td>31</td>\n",
       "        </tr>\n",
       "    </tbody>\n",
       "</table>"
      ],
      "text/plain": [
       "[(31,)]"
      ]
     },
     "execution_count": 77,
     "metadata": {},
     "output_type": "execute_result"
    }
   ],
   "source": [
    "%%sql\n",
    "select count(*) from filmlocation where release_year<1950"
   ]
  },
  {
   "cell_type": "code",
   "execution_count": 85,
   "id": "1067ddb6-9d0b-42ce-9af0-edecf8e40d1f",
   "metadata": {},
   "outputs": [
    {
     "name": "stdout",
     "output_type": "stream",
     "text": [
      " * sqlite:///filmLocation.db\n",
      "   sqlite:///filmlocation\n",
      "   sqlite:///test.db\n",
      "Done.\n"
     ]
    },
    {
     "data": {
      "text/html": [
       "<table>\n",
       "    <thead>\n",
       "        <tr>\n",
       "            <th>title</th>\n",
       "            <th>release_year</th>\n",
       "        </tr>\n",
       "    </thead>\n",
       "    <tbody>\n",
       "        <tr>\n",
       "            <td>Nash Bridges</td>\n",
       "            <td>2021</td>\n",
       "        </tr>\n",
       "        <tr>\n",
       "            <td>The OA Part II</td>\n",
       "            <td>2019</td>\n",
       "        </tr>\n",
       "        <tr>\n",
       "            <td>Looking &quot;Special&quot;</td>\n",
       "            <td>2016</td>\n",
       "        </tr>\n",
       "        <tr>\n",
       "            <td>The Phone/Jexi</td>\n",
       "            <td>2019</td>\n",
       "        </tr>\n",
       "        <tr>\n",
       "            <td>Terminator - Genisys</td>\n",
       "            <td>2015</td>\n",
       "        </tr>\n",
       "        <tr>\n",
       "            <td>Murder in the First, Season 3</td>\n",
       "            <td>2016</td>\n",
       "        </tr>\n",
       "        <tr>\n",
       "            <td>Ant-Man and the Wasp</td>\n",
       "            <td>2018</td>\n",
       "        </tr>\n",
       "        <tr>\n",
       "            <td>40 Days and 40 Nights</td>\n",
       "            <td>2002</td>\n",
       "        </tr>\n",
       "        <tr>\n",
       "            <td>Quitters</td>\n",
       "            <td>2015</td>\n",
       "        </tr>\n",
       "        <tr>\n",
       "            <td>The Princess Diaries</td>\n",
       "            <td>2001</td>\n",
       "        </tr>\n",
       "    </tbody>\n",
       "</table>"
      ],
      "text/plain": [
       "[('Nash Bridges', 2021),\n",
       " ('The OA Part II', 2019),\n",
       " ('Looking \"Special\"', 2016),\n",
       " ('The Phone/Jexi', 2019),\n",
       " ('Terminator - Genisys', 2015),\n",
       " ('Murder in the First, Season 3', 2016),\n",
       " ('Ant-Man and the Wasp', 2018),\n",
       " ('40 Days and 40 Nights', 2002),\n",
       " ('Quitters', 2015),\n",
       " ('The Princess Diaries', 2001)]"
      ]
     },
     "execution_count": 85,
     "metadata": {},
     "output_type": "execute_result"
    }
   ],
   "source": [
    "%%sql\n",
    "select distinct (title),release_year from filmlocation where release_year>2000 limit 10"
   ]
  },
  {
   "cell_type": "code",
   "execution_count": 88,
   "id": "433d7cff-feab-4a69-8ef7-4e6d2ab263b6",
   "metadata": {},
   "outputs": [
    {
     "name": "stdout",
     "output_type": "stream",
     "text": [
      " * sqlite:///filmLocation.db\n",
      "   sqlite:///filmlocation\n",
      "   sqlite:///test.db\n",
      "Done.\n"
     ]
    },
    {
     "data": {
      "text/html": [
       "<table>\n",
       "    <thead>\n",
       "        <tr>\n",
       "            <th>title</th>\n",
       "            <th>director</th>\n",
       "        </tr>\n",
       "    </thead>\n",
       "    <tbody>\n",
       "        <tr>\n",
       "            <td>Tucker: The Man and His Dream</td>\n",
       "            <td>Francis Ford Coppola</td>\n",
       "        </tr>\n",
       "        <tr>\n",
       "            <td>Jagged Edge</td>\n",
       "            <td>Richard Marquand</td>\n",
       "        </tr>\n",
       "        <tr>\n",
       "            <td>Bedazzled</td>\n",
       "            <td>Harold Ramis</td>\n",
       "        </tr>\n",
       "        <tr>\n",
       "            <td>Foul Play</td>\n",
       "            <td>Colin Higgins</td>\n",
       "        </tr>\n",
       "        <tr>\n",
       "            <td>Milk</td>\n",
       "            <td>Gus Van Sant</td>\n",
       "        </tr>\n",
       "        <tr>\n",
       "            <td>Final Analysis</td>\n",
       "            <td>Phil Joanou</td>\n",
       "        </tr>\n",
       "        <tr>\n",
       "            <td>The Right Stuff</td>\n",
       "            <td>Philip Kaufman</td>\n",
       "        </tr>\n",
       "        <tr>\n",
       "            <td>The Enforcer</td>\n",
       "            <td>James Fargo</td>\n",
       "        </tr>\n",
       "        <tr>\n",
       "            <td>Class Action</td>\n",
       "            <td>Michael Apted</td>\n",
       "        </tr>\n",
       "        <tr>\n",
       "            <td>Boys and Girls</td>\n",
       "            <td>Robert Iscove</td>\n",
       "        </tr>\n",
       "        <tr>\n",
       "            <td>Knife Fight</td>\n",
       "            <td>Bill Guttentag</td>\n",
       "        </tr>\n",
       "        <tr>\n",
       "            <td>Dawn of the Planet of the Apes</td>\n",
       "            <td>Matt Reeves</td>\n",
       "        </tr>\n",
       "        <tr>\n",
       "            <td>A View to a Kill</td>\n",
       "            <td>John Glen</td>\n",
       "        </tr>\n",
       "        <tr>\n",
       "            <td>Bicentennial Man</td>\n",
       "            <td>Chris Columbus</td>\n",
       "        </tr>\n",
       "        <tr>\n",
       "            <td>180</td>\n",
       "            <td>Jayendra</td>\n",
       "        </tr>\n",
       "        <tr>\n",
       "            <td>San Francisco</td>\n",
       "            <td>W.S. Van Dyke</td>\n",
       "        </tr>\n",
       "        <tr>\n",
       "            <td>Smile Again, Jenny Lee</td>\n",
       "            <td>Carlo Caldana</td>\n",
       "        </tr>\n",
       "        <tr>\n",
       "            <td>The Wedding Planner</td>\n",
       "            <td>Adam Shankman</td>\n",
       "        </tr>\n",
       "        <tr>\n",
       "            <td>Magnum Force</td>\n",
       "            <td>Ted Post</td>\n",
       "        </tr>\n",
       "        <tr>\n",
       "            <td>The Rock</td>\n",
       "            <td>Michael Bay</td>\n",
       "        </tr>\n",
       "        <tr>\n",
       "            <td>When We Rise</td>\n",
       "            <td>Gus Van Sant</td>\n",
       "        </tr>\n",
       "        <tr>\n",
       "            <td>Invasion of the Body Snatchers</td>\n",
       "            <td>Philip Kaufman</td>\n",
       "        </tr>\n",
       "    </tbody>\n",
       "</table>"
      ],
      "text/plain": [
       "[('Tucker: The Man and His Dream', 'Francis Ford Coppola'),\n",
       " ('Jagged Edge', 'Richard Marquand'),\n",
       " ('Bedazzled', 'Harold Ramis'),\n",
       " ('Foul Play', 'Colin Higgins'),\n",
       " ('Milk', 'Gus Van Sant'),\n",
       " ('Final Analysis', 'Phil Joanou'),\n",
       " ('The Right Stuff', 'Philip Kaufman'),\n",
       " ('The Enforcer', 'James Fargo'),\n",
       " ('Class Action', 'Michael Apted'),\n",
       " ('Boys and Girls', 'Robert Iscove'),\n",
       " ('Knife Fight', 'Bill Guttentag'),\n",
       " ('Dawn of the Planet of the Apes', 'Matt Reeves'),\n",
       " ('A View to a Kill', 'John Glen'),\n",
       " ('Bicentennial Man', 'Chris Columbus'),\n",
       " ('180', 'Jayendra'),\n",
       " ('San Francisco', 'W.S. Van Dyke'),\n",
       " ('Smile Again, Jenny Lee', 'Carlo Caldana'),\n",
       " ('The Wedding Planner', 'Adam Shankman'),\n",
       " ('Magnum Force', 'Ted Post'),\n",
       " ('The Rock', 'Michael Bay'),\n",
       " ('When We Rise', 'Gus Van Sant'),\n",
       " ('Invasion of the Body Snatchers', 'Philip Kaufman')]"
      ]
     },
     "execution_count": 88,
     "metadata": {},
     "output_type": "execute_result"
    }
   ],
   "source": [
    "%%sql\n",
    "select distinct title, director from filmlocation where locations='City Hall'"
   ]
  },
  {
   "cell_type": "code",
   "execution_count": 91,
   "id": "6f152f56-c7d5-4664-9d8d-cece3a7a3175",
   "metadata": {},
   "outputs": [
    {
     "name": "stdout",
     "output_type": "stream",
     "text": [
      " * sqlite:///filmLocation.db\n",
      "   sqlite:///filmlocation\n",
      "   sqlite:///test.db\n",
      "Done.\n"
     ]
    },
    {
     "data": {
      "text/html": [
       "<table>\n",
       "    <thead>\n",
       "        <tr>\n",
       "            <th>count(distinct distributor)</th>\n",
       "        </tr>\n",
       "    </thead>\n",
       "    <tbody>\n",
       "        <tr>\n",
       "            <td>3</td>\n",
       "        </tr>\n",
       "    </tbody>\n",
       "</table>"
      ],
      "text/plain": [
       "[(3,)]"
      ]
     },
     "execution_count": 91,
     "metadata": {},
     "output_type": "execute_result"
    }
   ],
   "source": [
    "%%sql\n",
    "select count(distinct distributor) from filmlocation where actor_1='Clint Eastwood'"
   ]
  },
  {
   "cell_type": "code",
   "execution_count": 92,
   "id": "7f0827e2-6e46-4f0f-b374-107a4ee7a8f6",
   "metadata": {},
   "outputs": [
    {
     "name": "stdout",
     "output_type": "stream",
     "text": [
      " * sqlite:///filmLocation.db\n",
      "   sqlite:///filmlocation\n",
      "   sqlite:///test.db\n",
      "(sqlite3.OperationalError) no such table: FilmLocations\n",
      "[SQL: SELECT DISTINCT Title FROM FilmLocations LIMIT 50]\n",
      "(Background on this error at: https://sqlalche.me/e/20/e3q8)\n"
     ]
    }
   ],
   "source": [
    "%%sql\n",
    "SELECT DISTINCT Title FROM FilmLocations LIMIT 50"
   ]
  },
  {
   "cell_type": "code",
   "execution_count": 93,
   "id": "7f2e6f82-fe42-4a2b-8c47-026eaeba929e",
   "metadata": {},
   "outputs": [
    {
     "name": "stdout",
     "output_type": "stream",
     "text": [
      " * sqlite:///filmLocation.db\n",
      "   sqlite:///filmlocation\n",
      "   sqlite:///test.db\n",
      "(sqlite3.OperationalError) no such table: FilmLocations\n",
      "[SQL: SELECT DISTINCT Title FROM FilmLocations WHERE ReleaseYear=2015 LIMIT 10]\n",
      "(Background on this error at: https://sqlalche.me/e/20/e3q8)\n"
     ]
    }
   ],
   "source": [
    "%%sql\n",
    "SELECT DISTINCT Title FROM FilmLocations WHERE ReleaseYear=2015 LIMIT 10"
   ]
  },
  {
   "cell_type": "code",
   "execution_count": 97,
   "id": "b14a02b8-f4e5-4474-b8f1-4e54fd8aee7b",
   "metadata": {},
   "outputs": [
    {
     "name": "stdout",
     "output_type": "stream",
     "text": [
      " * sqlite:///filmLocation.db\n",
      "   sqlite:///filmlocation\n",
      "   sqlite:///test.db\n",
      "Done.\n"
     ]
    },
    {
     "data": {
      "text/html": [
       "<table>\n",
       "    <thead>\n",
       "        <tr>\n",
       "            <th>title</th>\n",
       "        </tr>\n",
       "    </thead>\n",
       "    <tbody>\n",
       "        <tr>\n",
       "            <td>Looking Season 2 ep 204</td>\n",
       "        </tr>\n",
       "        <tr>\n",
       "            <td>Summertime</td>\n",
       "        </tr>\n",
       "        <tr>\n",
       "            <td>San Andreas</td>\n",
       "        </tr>\n",
       "    </tbody>\n",
       "</table>"
      ],
      "text/plain": [
       "[('Looking Season 2 ep 204',), ('Summertime',), ('San Andreas',)]"
      ]
     },
     "execution_count": 97,
     "metadata": {},
     "output_type": "execute_result"
    }
   ],
   "source": [
    "%%sql\n",
    "select distinct title from filmlocation where release_year=2015 limit 3 offset 5"
   ]
  },
  {
   "cell_type": "code",
   "execution_count": 140,
   "id": "14db97ea-2818-4a19-9530-5fd77dd9217f",
   "metadata": {},
   "outputs": [
    {
     "data": {
      "text/html": [
       "<div>\n",
       "<style scoped>\n",
       "    .dataframe tbody tr th:only-of-type {\n",
       "        vertical-align: middle;\n",
       "    }\n",
       "\n",
       "    .dataframe tbody tr th {\n",
       "        vertical-align: top;\n",
       "    }\n",
       "\n",
       "    .dataframe thead th {\n",
       "        text-align: right;\n",
       "    }\n",
       "</style>\n",
       "<table border=\"1\" class=\"dataframe\">\n",
       "  <thead>\n",
       "    <tr style=\"text-align: right;\">\n",
       "      <th></th>\n",
       "      <th>lastname</th>\n",
       "      <th>firstname</th>\n",
       "      <th>city</th>\n",
       "      <th>country</th>\n",
       "    </tr>\n",
       "    <tr>\n",
       "      <th>ins_id</th>\n",
       "      <th></th>\n",
       "      <th></th>\n",
       "      <th></th>\n",
       "      <th></th>\n",
       "    </tr>\n",
       "  </thead>\n",
       "  <tbody>\n",
       "    <tr>\n",
       "      <th>1</th>\n",
       "      <td>Ahuja</td>\n",
       "      <td>Rav</td>\n",
       "      <td>Toronto</td>\n",
       "      <td>CA</td>\n",
       "    </tr>\n",
       "    <tr>\n",
       "      <th>2</th>\n",
       "      <td>Chong</td>\n",
       "      <td>Raul</td>\n",
       "      <td>Toronto</td>\n",
       "      <td>CA</td>\n",
       "    </tr>\n",
       "    <tr>\n",
       "      <th>3</th>\n",
       "      <td>Vasudevan</td>\n",
       "      <td>Hima</td>\n",
       "      <td>Chicago</td>\n",
       "      <td>US</td>\n",
       "    </tr>\n",
       "  </tbody>\n",
       "</table>\n",
       "</div>"
      ],
      "text/plain": [
       "         lastname firstname     city country\n",
       "ins_id                                      \n",
       "1           Ahuja       Rav  Toronto      CA\n",
       "2           Chong      Raul  Toronto      CA\n",
       "3       Vasudevan      Hima  Chicago      US"
      ]
     },
     "execution_count": 140,
     "metadata": {},
     "output_type": "execute_result"
    }
   ],
   "source": [
    "data=pd.read_csv('datasets/instructors.csv',index_col='ins_id')\n",
    "# data.reset_index(inplace=True)\n",
    "data"
   ]
  },
  {
   "cell_type": "code",
   "execution_count": 141,
   "id": "40b16034-12a1-4472-8a8e-c283364a1d37",
   "metadata": {},
   "outputs": [
    {
     "data": {
      "text/plain": [
       "3"
      ]
     },
     "execution_count": 141,
     "metadata": {},
     "output_type": "execute_result"
    }
   ],
   "source": [
    "data.to_sql('instructor',cnn) "
   ]
  },
  {
   "cell_type": "markdown",
   "id": "bb44cd4b-5a1b-4e8f-8bdd-99ddf8463daf",
   "metadata": {},
   "source": [
    "# INSERT statement\n",
    "- syntax:\n",
    "INSERT INTO table_name (column1, column2, ... )\n",
    "VALUES (value1, value2, ... )\n",
    ";"
   ]
  },
  {
   "cell_type": "code",
   "execution_count": 142,
   "id": "72ad1675-5039-4068-b978-463238c0437b",
   "metadata": {},
   "outputs": [
    {
     "name": "stdout",
     "output_type": "stream",
     "text": [
      " * sqlite:///filmLocation.db\n",
      "   sqlite:///filmlocation\n",
      "   sqlite:///test.db\n",
      "1 rows affected.\n"
     ]
    },
    {
     "data": {
      "text/plain": [
       "[]"
      ]
     },
     "execution_count": 142,
     "metadata": {},
     "output_type": "execute_result"
    }
   ],
   "source": [
    "%%sql\n",
    "INSERT INTO Instructor(ins_id, lastname, firstname, city, country)\n",
    "VALUES(4, 'Saha', 'Sandip', 'Edmonton', 'CA')"
   ]
  },
  {
   "cell_type": "code",
   "execution_count": 143,
   "id": "f0a682e9-62ee-4617-aa1f-81f3c552f5bf",
   "metadata": {},
   "outputs": [
    {
     "name": "stdout",
     "output_type": "stream",
     "text": [
      " * sqlite:///filmLocation.db\n",
      "   sqlite:///filmlocation\n",
      "   sqlite:///test.db\n",
      "Done.\n"
     ]
    },
    {
     "data": {
      "text/html": [
       "<table>\n",
       "    <thead>\n",
       "        <tr>\n",
       "            <th>ins_id</th>\n",
       "            <th>lastname</th>\n",
       "            <th>firstname</th>\n",
       "            <th>city</th>\n",
       "            <th>country</th>\n",
       "        </tr>\n",
       "    </thead>\n",
       "    <tbody>\n",
       "        <tr>\n",
       "            <td>1</td>\n",
       "            <td>Ahuja</td>\n",
       "            <td>Rav</td>\n",
       "            <td>Toronto</td>\n",
       "            <td>CA</td>\n",
       "        </tr>\n",
       "        <tr>\n",
       "            <td>2</td>\n",
       "            <td>Chong</td>\n",
       "            <td>Raul</td>\n",
       "            <td>Toronto</td>\n",
       "            <td>CA</td>\n",
       "        </tr>\n",
       "        <tr>\n",
       "            <td>3</td>\n",
       "            <td>Vasudevan</td>\n",
       "            <td>Hima</td>\n",
       "            <td>Chicago</td>\n",
       "            <td>US</td>\n",
       "        </tr>\n",
       "        <tr>\n",
       "            <td>4</td>\n",
       "            <td>Saha</td>\n",
       "            <td>Sandip</td>\n",
       "            <td>Edmonton</td>\n",
       "            <td>CA</td>\n",
       "        </tr>\n",
       "    </tbody>\n",
       "</table>"
      ],
      "text/plain": [
       "[(1, 'Ahuja', 'Rav', 'Toronto', 'CA'),\n",
       " (2, 'Chong', 'Raul', 'Toronto', 'CA'),\n",
       " (3, 'Vasudevan', 'Hima', 'Chicago', 'US'),\n",
       " (4, 'Saha', 'Sandip', 'Edmonton', 'CA')]"
      ]
     },
     "execution_count": 143,
     "metadata": {},
     "output_type": "execute_result"
    }
   ],
   "source": [
    "%%sql\n",
    "SELECT * FROM Instructor"
   ]
  },
  {
   "cell_type": "code",
   "execution_count": 145,
   "id": "dd5914f6-dbe1-4a33-86dc-05c4cc9b79a2",
   "metadata": {},
   "outputs": [
    {
     "name": "stdout",
     "output_type": "stream",
     "text": [
      " * sqlite:///filmLocation.db\n",
      "   sqlite:///filmlocation\n",
      "   sqlite:///test.db\n",
      "2 rows affected.\n",
      "Done.\n"
     ]
    },
    {
     "data": {
      "text/html": [
       "<table>\n",
       "    <thead>\n",
       "        <tr>\n",
       "            <th>ins_id</th>\n",
       "            <th>lastname</th>\n",
       "            <th>firstname</th>\n",
       "            <th>city</th>\n",
       "            <th>country</th>\n",
       "        </tr>\n",
       "    </thead>\n",
       "    <tbody>\n",
       "        <tr>\n",
       "            <td>1</td>\n",
       "            <td>Ahuja</td>\n",
       "            <td>Rav</td>\n",
       "            <td>Toronto</td>\n",
       "            <td>CA</td>\n",
       "        </tr>\n",
       "        <tr>\n",
       "            <td>2</td>\n",
       "            <td>Chong</td>\n",
       "            <td>Raul</td>\n",
       "            <td>Toronto</td>\n",
       "            <td>CA</td>\n",
       "        </tr>\n",
       "        <tr>\n",
       "            <td>3</td>\n",
       "            <td>Vasudevan</td>\n",
       "            <td>Hima</td>\n",
       "            <td>Chicago</td>\n",
       "            <td>US</td>\n",
       "        </tr>\n",
       "        <tr>\n",
       "            <td>4</td>\n",
       "            <td>Saha</td>\n",
       "            <td>Sandip</td>\n",
       "            <td>Edmonton</td>\n",
       "            <td>CA</td>\n",
       "        </tr>\n",
       "        <tr>\n",
       "            <td>5</td>\n",
       "            <td>Doe</td>\n",
       "            <td>John</td>\n",
       "            <td>Sydney</td>\n",
       "            <td>AU</td>\n",
       "        </tr>\n",
       "        <tr>\n",
       "            <td>6</td>\n",
       "            <td>Doe</td>\n",
       "            <td>Jane</td>\n",
       "            <td>Dhaka</td>\n",
       "            <td>BD</td>\n",
       "        </tr>\n",
       "        <tr>\n",
       "            <td>5</td>\n",
       "            <td>Doe</td>\n",
       "            <td>John</td>\n",
       "            <td>Sydney</td>\n",
       "            <td>AU</td>\n",
       "        </tr>\n",
       "        <tr>\n",
       "            <td>6</td>\n",
       "            <td>Doe</td>\n",
       "            <td>Jane</td>\n",
       "            <td>Dhaka</td>\n",
       "            <td>BD</td>\n",
       "        </tr>\n",
       "    </tbody>\n",
       "</table>"
      ],
      "text/plain": [
       "[(1, 'Ahuja', 'Rav', 'Toronto', 'CA'),\n",
       " (2, 'Chong', 'Raul', 'Toronto', 'CA'),\n",
       " (3, 'Vasudevan', 'Hima', 'Chicago', 'US'),\n",
       " (4, 'Saha', 'Sandip', 'Edmonton', 'CA'),\n",
       " (5, 'Doe', 'John', 'Sydney', 'AU'),\n",
       " (6, 'Doe', 'Jane', 'Dhaka', 'BD'),\n",
       " (5, 'Doe', 'John', 'Sydney', 'AU'),\n",
       " (6, 'Doe', 'Jane', 'Dhaka', 'BD')]"
      ]
     },
     "execution_count": 145,
     "metadata": {},
     "output_type": "execute_result"
    }
   ],
   "source": [
    "%%sql\n",
    "INSERT INTO Instructor(ins_id, lastname, firstname, city, country)\n",
    "VALUES(5, 'Doe', 'John', 'Sydney', 'AU'), \n",
    "(6, 'Doe', 'Jane', 'Dhaka', 'BD');\n",
    "select * from instructor"
   ]
  },
  {
   "cell_type": "markdown",
   "id": "5c55f9ae-8025-401e-8a6a-1b7f83d50c2a",
   "metadata": {},
   "source": [
    "# Practice exercise"
   ]
  },
  {
   "cell_type": "code",
   "execution_count": 146,
   "id": "f4fb0d22-5527-4b55-8d77-a1e05b57780a",
   "metadata": {},
   "outputs": [
    {
     "name": "stdout",
     "output_type": "stream",
     "text": [
      " * sqlite:///filmLocation.db\n",
      "   sqlite:///filmlocation\n",
      "   sqlite:///test.db\n",
      "1 rows affected.\n"
     ]
    },
    {
     "data": {
      "text/plain": [
       "[]"
      ]
     },
     "execution_count": 146,
     "metadata": {},
     "output_type": "execute_result"
    }
   ],
   "source": [
    "%%sql\n",
    "insert into instructor\n",
    "values (7,' Antonio','Cangiano','Vancouver','CA')"
   ]
  },
  {
   "cell_type": "code",
   "execution_count": 149,
   "id": "fc3009e2-4fd1-484e-b86c-17910ab730a7",
   "metadata": {},
   "outputs": [
    {
     "name": "stdout",
     "output_type": "stream",
     "text": [
      " * sqlite:///filmLocation.db\n",
      "   sqlite:///filmlocation\n",
      "   sqlite:///test.db\n",
      "2 rows affected.\n"
     ]
    },
    {
     "data": {
      "text/plain": [
       "[]"
      ]
     },
     "execution_count": 149,
     "metadata": {},
     "output_type": "execute_result"
    }
   ],
   "source": [
    "%%sql\n",
    "insert into instructor\n",
    "values (8,' Steve','Ryan','Barlby','GB'),\n",
    "(9,' Ramesh ','Sannareddy','Hyderabad','IN')"
   ]
  },
  {
   "cell_type": "code",
   "execution_count": 150,
   "id": "4749e03c-32c5-4c8b-b319-682e87ee4d3a",
   "metadata": {},
   "outputs": [
    {
     "name": "stdout",
     "output_type": "stream",
     "text": [
      " * sqlite:///filmLocation.db\n",
      "   sqlite:///filmlocation\n",
      "   sqlite:///test.db\n",
      "Done.\n"
     ]
    },
    {
     "data": {
      "text/html": [
       "<table>\n",
       "    <thead>\n",
       "        <tr>\n",
       "            <th>ins_id</th>\n",
       "            <th>lastname</th>\n",
       "            <th>firstname</th>\n",
       "            <th>city</th>\n",
       "            <th>country</th>\n",
       "        </tr>\n",
       "    </thead>\n",
       "    <tbody>\n",
       "        <tr>\n",
       "            <td>1</td>\n",
       "            <td>Ahuja</td>\n",
       "            <td>Rav</td>\n",
       "            <td>Toronto</td>\n",
       "            <td>CA</td>\n",
       "        </tr>\n",
       "        <tr>\n",
       "            <td>2</td>\n",
       "            <td>Chong</td>\n",
       "            <td>Raul</td>\n",
       "            <td>Toronto</td>\n",
       "            <td>CA</td>\n",
       "        </tr>\n",
       "        <tr>\n",
       "            <td>3</td>\n",
       "            <td>Vasudevan</td>\n",
       "            <td>Hima</td>\n",
       "            <td>Chicago</td>\n",
       "            <td>US</td>\n",
       "        </tr>\n",
       "        <tr>\n",
       "            <td>4</td>\n",
       "            <td>Saha</td>\n",
       "            <td>Sandip</td>\n",
       "            <td>Edmonton</td>\n",
       "            <td>CA</td>\n",
       "        </tr>\n",
       "        <tr>\n",
       "            <td>5</td>\n",
       "            <td>Doe</td>\n",
       "            <td>John</td>\n",
       "            <td>Sydney</td>\n",
       "            <td>AU</td>\n",
       "        </tr>\n",
       "        <tr>\n",
       "            <td>6</td>\n",
       "            <td>Doe</td>\n",
       "            <td>Jane</td>\n",
       "            <td>Dhaka</td>\n",
       "            <td>BD</td>\n",
       "        </tr>\n",
       "        <tr>\n",
       "            <td>5</td>\n",
       "            <td>Doe</td>\n",
       "            <td>John</td>\n",
       "            <td>Sydney</td>\n",
       "            <td>AU</td>\n",
       "        </tr>\n",
       "        <tr>\n",
       "            <td>6</td>\n",
       "            <td>Doe</td>\n",
       "            <td>Jane</td>\n",
       "            <td>Dhaka</td>\n",
       "            <td>BD</td>\n",
       "        </tr>\n",
       "        <tr>\n",
       "            <td>7</td>\n",
       "            <td> Antonio</td>\n",
       "            <td>Cangiano</td>\n",
       "            <td>Vancouver</td>\n",
       "            <td>CA</td>\n",
       "        </tr>\n",
       "        <tr>\n",
       "            <td>8</td>\n",
       "            <td> Steve</td>\n",
       "            <td>Ryan</td>\n",
       "            <td>Barlby</td>\n",
       "            <td>GB</td>\n",
       "        </tr>\n",
       "        <tr>\n",
       "            <td>9</td>\n",
       "            <td> Ramesh </td>\n",
       "            <td>Sannareddy</td>\n",
       "            <td>Hyderabad</td>\n",
       "            <td>IN</td>\n",
       "        </tr>\n",
       "    </tbody>\n",
       "</table>"
      ],
      "text/plain": [
       "[(1, 'Ahuja', 'Rav', 'Toronto', 'CA'),\n",
       " (2, 'Chong', 'Raul', 'Toronto', 'CA'),\n",
       " (3, 'Vasudevan', 'Hima', 'Chicago', 'US'),\n",
       " (4, 'Saha', 'Sandip', 'Edmonton', 'CA'),\n",
       " (5, 'Doe', 'John', 'Sydney', 'AU'),\n",
       " (6, 'Doe', 'Jane', 'Dhaka', 'BD'),\n",
       " (5, 'Doe', 'John', 'Sydney', 'AU'),\n",
       " (6, 'Doe', 'Jane', 'Dhaka', 'BD'),\n",
       " (7, ' Antonio', 'Cangiano', 'Vancouver', 'CA'),\n",
       " (8, ' Steve', 'Ryan', 'Barlby', 'GB'),\n",
       " (9, ' Ramesh ', 'Sannareddy', 'Hyderabad', 'IN')]"
      ]
     },
     "execution_count": 150,
     "metadata": {},
     "output_type": "execute_result"
    }
   ],
   "source": [
    "%%sql\n",
    "select * from instructor"
   ]
  },
  {
   "cell_type": "markdown",
   "id": "1f5dfcdb-caab-4312-aa63-871d7b2ff049",
   "metadata": {},
   "source": [
    "# UPDATE statement\n",
    "- syntax : UPDATE table_name\n",
    "SET column1 = value1, column2 = value2, ...\n",
    "WHERE condition\n",
    ";"
   ]
  },
  {
   "cell_type": "code",
   "execution_count": 151,
   "id": "bab2760f-4c0d-4a76-80ea-e79babdf1385",
   "metadata": {},
   "outputs": [
    {
     "name": "stdout",
     "output_type": "stream",
     "text": [
      " * sqlite:///filmLocation.db\n",
      "   sqlite:///filmlocation\n",
      "   sqlite:///test.db\n",
      "1 rows affected.\n"
     ]
    },
    {
     "data": {
      "text/plain": [
       "[]"
      ]
     },
     "execution_count": 151,
     "metadata": {},
     "output_type": "execute_result"
    }
   ],
   "source": [
    "%%sql\n",
    "\n",
    "UPDATE Instructor \n",
    "SET city='Toronto' \n",
    "WHERE firstname=\"Sandip\""
   ]
  },
  {
   "cell_type": "code",
   "execution_count": 152,
   "id": "e08557bd-b84d-46ed-bfe1-c0dc7dd6b487",
   "metadata": {},
   "outputs": [
    {
     "name": "stdout",
     "output_type": "stream",
     "text": [
      " * sqlite:///filmLocation.db\n",
      "   sqlite:///filmlocation\n",
      "   sqlite:///test.db\n",
      "2 rows affected.\n"
     ]
    },
    {
     "data": {
      "text/plain": [
       "[]"
      ]
     },
     "execution_count": 152,
     "metadata": {},
     "output_type": "execute_result"
    }
   ],
   "source": [
    "%%sql\n",
    "UPDATE Instructor \n",
    "SET city='Dubai', country='AE' \n",
    "WHERE ins_id=5"
   ]
  },
  {
   "cell_type": "markdown",
   "id": "56d4ad59-ea94-44fb-9019-2f2c246d89d8",
   "metadata": {},
   "source": [
    "# Practice exercise"
   ]
  },
  {
   "cell_type": "code",
   "execution_count": 153,
   "id": "9024b2f1-cf6d-4554-bfa6-35792fb20f1a",
   "metadata": {},
   "outputs": [
    {
     "name": "stdout",
     "output_type": "stream",
     "text": [
      " * sqlite:///filmLocation.db\n",
      "   sqlite:///filmlocation\n",
      "   sqlite:///test.db\n",
      "1 rows affected.\n"
     ]
    },
    {
     "data": {
      "text/plain": [
       "[]"
      ]
     },
     "execution_count": 153,
     "metadata": {},
     "output_type": "execute_result"
    }
   ],
   "source": [
    "%%sql\n",
    "update instructor set city='Markham' where ins_id=1"
   ]
  },
  {
   "cell_type": "code",
   "execution_count": 154,
   "id": "4d5d42e7-31bc-45a4-bef0-dd5036645f9b",
   "metadata": {},
   "outputs": [
    {
     "name": "stdout",
     "output_type": "stream",
     "text": [
      " * sqlite:///filmLocation.db\n",
      "   sqlite:///filmlocation\n",
      "   sqlite:///test.db\n",
      "1 rows affected.\n"
     ]
    },
    {
     "data": {
      "text/plain": [
       "[]"
      ]
     },
     "execution_count": 154,
     "metadata": {},
     "output_type": "execute_result"
    }
   ],
   "source": [
    "%%sql\n",
    "update instructor set city='Dhaka', country='BD' where firstname='Sandip' and ins_id=4"
   ]
  },
  {
   "cell_type": "markdown",
   "id": "36fb5313-4481-4091-85b3-1e2efe83838c",
   "metadata": {},
   "source": [
    "# DELETE statement \n",
    "- syntax: DELETE FROM table_name\n",
    "WHERE condition\n",
    ";"
   ]
  },
  {
   "cell_type": "code",
   "execution_count": 155,
   "id": "e5b42a57-f041-4850-b4b0-18769cdbca65",
   "metadata": {},
   "outputs": [
    {
     "name": "stdout",
     "output_type": "stream",
     "text": [
      " * sqlite:///filmLocation.db\n",
      "   sqlite:///filmlocation\n",
      "   sqlite:///test.db\n",
      "2 rows affected.\n"
     ]
    },
    {
     "data": {
      "text/plain": [
       "[]"
      ]
     },
     "execution_count": 155,
     "metadata": {},
     "output_type": "execute_result"
    }
   ],
   "source": [
    "%%sql\n",
    "DELETE FROM instructor\n",
    "WHERE ins_id = 6"
   ]
  },
  {
   "cell_type": "code",
   "execution_count": null,
   "id": "9a372d4d-043b-4525-bdaa-8c710b918725",
   "metadata": {},
   "outputs": [],
   "source": [
    "%%sql\n",
    "delete from instrutor where firstname=''"
   ]
  }
 ],
 "metadata": {
  "kernelspec": {
   "display_name": "tf",
   "language": "python",
   "name": "tf"
  },
  "language_info": {
   "codemirror_mode": {
    "name": "ipython",
    "version": 3
   },
   "file_extension": ".py",
   "mimetype": "text/x-python",
   "name": "python",
   "nbconvert_exporter": "python",
   "pygments_lexer": "ipython3",
   "version": "3.9.18"
  }
 },
 "nbformat": 4,
 "nbformat_minor": 5
}
