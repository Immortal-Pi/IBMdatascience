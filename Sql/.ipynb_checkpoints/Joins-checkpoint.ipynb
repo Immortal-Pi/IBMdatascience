{
 "cells": [
  {
   "cell_type": "code",
   "execution_count": 1,
   "id": "2cd00780-a48d-4088-8acd-39f65bde6367",
   "metadata": {},
   "outputs": [],
   "source": [
    "import pandas as pd\n",
    "import sqlite3 as sql"
   ]
  },
  {
   "cell_type": "code",
   "execution_count": 2,
   "id": "2b6c4cd5-20d0-4897-8d9d-5f581a114141",
   "metadata": {},
   "outputs": [],
   "source": [
    "%load_ext sql"
   ]
  },
  {
   "cell_type": "code",
   "execution_count": 3,
   "id": "0ec5d1cb-bee4-4599-80ae-eea836debdcc",
   "metadata": {},
   "outputs": [],
   "source": [
    "cnn=sql.connect('HR.db')\n",
    "%sql sqlite:///HR.db"
   ]
  },
  {
   "cell_type": "code",
   "execution_count": 38,
   "id": "a236dd26-d22b-433b-9f24-f4b3e7fae474",
   "metadata": {},
   "outputs": [
    {
     "name": "stdout",
     "output_type": "stream",
     "text": [
      " * sqlite:///HR.db\n",
      "Done.\n",
      "Done.\n",
      "Done.\n"
     ]
    },
    {
     "data": {
      "text/html": [
       "<table>\n",
       "    <thead>\n",
       "        <tr>\n",
       "            <th>DEPT_ID_DEP</th>\n",
       "            <th>DEP_NAME</th>\n",
       "            <th>MANAGER_ID</th>\n",
       "            <th>LOC_ID</th>\n",
       "        </tr>\n",
       "    </thead>\n",
       "    <tbody>\n",
       "        <tr>\n",
       "            <td>2</td>\n",
       "            <td>Architect Group</td>\n",
       "            <td>30001</td>\n",
       "            <td>L0001</td>\n",
       "        </tr>\n",
       "        <tr>\n",
       "            <td>5</td>\n",
       "            <td>Software Group</td>\n",
       "            <td>30002</td>\n",
       "            <td>L0002</td>\n",
       "        </tr>\n",
       "        <tr>\n",
       "            <td>7</td>\n",
       "            <td>Design Team</td>\n",
       "            <td>30003</td>\n",
       "            <td>L0003</td>\n",
       "        </tr>\n",
       "    </tbody>\n",
       "</table>"
      ],
      "text/plain": [
       "[('2', 'Architect Group', '30001', 'L0001'),\n",
       " ('5', 'Software Group', '30002', 'L0002'),\n",
       " ('7', 'Design Team', '30003', 'L0003')]"
      ]
     },
     "execution_count": 38,
     "metadata": {},
     "output_type": "execute_result"
    }
   ],
   "source": [
    "%%sql\n",
    "select * from job_history;\n",
    "select * from employees;\n",
    "select * from departments"
   ]
  },
  {
   "cell_type": "markdown",
   "id": "ec3f6c82-f48a-418b-b395-a85d1cd5c4a8",
   "metadata": {},
   "source": [
    "Retrieve the names and job start dates of all employees who work for department number 5."
   ]
  },
  {
   "cell_type": "code",
   "execution_count": 10,
   "id": "ca8e9fb3-3391-49ad-b5ae-95a53efab1a9",
   "metadata": {},
   "outputs": [
    {
     "name": "stdout",
     "output_type": "stream",
     "text": [
      " * sqlite:///HR.db\n",
      "Done.\n"
     ]
    },
    {
     "data": {
      "text/html": [
       "<table>\n",
       "    <thead>\n",
       "        <tr>\n",
       "            <th>F_NAME</th>\n",
       "            <th>L_NAME</th>\n",
       "            <th>START_DATE</th>\n",
       "        </tr>\n",
       "    </thead>\n",
       "    <tbody>\n",
       "        <tr>\n",
       "            <td>Alice</td>\n",
       "            <td>James</td>\n",
       "            <td>01-08-2001</td>\n",
       "        </tr>\n",
       "        <tr>\n",
       "            <td>Steve</td>\n",
       "            <td>Wells</td>\n",
       "            <td>16-08-2001</td>\n",
       "        </tr>\n",
       "        <tr>\n",
       "            <td>Santosh</td>\n",
       "            <td>Kumar</td>\n",
       "            <td>16-08-2000</td>\n",
       "        </tr>\n",
       "        <tr>\n",
       "            <td>Ann</td>\n",
       "            <td>Jacob</td>\n",
       "            <td>16-08-2016</td>\n",
       "        </tr>\n",
       "    </tbody>\n",
       "</table>"
      ],
      "text/plain": [
       "[('Alice', 'James', '01-08-2001'),\n",
       " ('Steve', 'Wells', '16-08-2001'),\n",
       " ('Santosh', 'Kumar', '16-08-2000'),\n",
       " ('Ann', 'Jacob', '16-08-2016')]"
      ]
     },
     "execution_count": 10,
     "metadata": {},
     "output_type": "execute_result"
    }
   ],
   "source": [
    "%%sql\n",
    "select f_name, l_name, start_date from employees e inner join job_history j on e.emp_id=j.empl_id where dept_id=5"
   ]
  },
  {
   "cell_type": "markdown",
   "id": "21fa9c43-3332-405b-8231-59f4f14a4472",
   "metadata": {},
   "source": [
    "Retrieve employee ID, last name, department ID, and department name for all employees."
   ]
  },
  {
   "cell_type": "code",
   "execution_count": 19,
   "id": "f9e60279-8e7c-4584-8a9f-224e8c6d49ec",
   "metadata": {},
   "outputs": [
    {
     "name": "stdout",
     "output_type": "stream",
     "text": [
      " * sqlite:///HR.db\n",
      "Done.\n"
     ]
    },
    {
     "data": {
      "text/html": [
       "<table>\n",
       "    <thead>\n",
       "        <tr>\n",
       "            <th>EMP_ID</th>\n",
       "            <th>L_NAME</th>\n",
       "            <th>DEP_ID</th>\n",
       "            <th>DEP_NAME</th>\n",
       "        </tr>\n",
       "    </thead>\n",
       "    <tbody>\n",
       "        <tr>\n",
       "            <td>E1001</td>\n",
       "            <td>Thomas</td>\n",
       "            <td>2</td>\n",
       "            <td>Architect Group</td>\n",
       "        </tr>\n",
       "        <tr>\n",
       "            <td>E1002</td>\n",
       "            <td>James</td>\n",
       "            <td>5</td>\n",
       "            <td>Software Group</td>\n",
       "        </tr>\n",
       "        <tr>\n",
       "            <td>E1003</td>\n",
       "            <td>Wells</td>\n",
       "            <td>5</td>\n",
       "            <td>Software Group</td>\n",
       "        </tr>\n",
       "        <tr>\n",
       "            <td>E1004</td>\n",
       "            <td>Kumar</td>\n",
       "            <td>5</td>\n",
       "            <td>Software Group</td>\n",
       "        </tr>\n",
       "        <tr>\n",
       "            <td>E1005</td>\n",
       "            <td>Hussain</td>\n",
       "            <td>2</td>\n",
       "            <td>Architect Group</td>\n",
       "        </tr>\n",
       "        <tr>\n",
       "            <td>E1006</td>\n",
       "            <td>Allen</td>\n",
       "            <td>2</td>\n",
       "            <td>Architect Group</td>\n",
       "        </tr>\n",
       "        <tr>\n",
       "            <td>E1007</td>\n",
       "            <td>Thomas</td>\n",
       "            <td>7</td>\n",
       "            <td>Design Team</td>\n",
       "        </tr>\n",
       "        <tr>\n",
       "            <td>E1008</td>\n",
       "            <td>Gupta</td>\n",
       "            <td>7</td>\n",
       "            <td>Design Team</td>\n",
       "        </tr>\n",
       "        <tr>\n",
       "            <td>E1009</td>\n",
       "            <td>Jones</td>\n",
       "            <td>7</td>\n",
       "            <td>Design Team</td>\n",
       "        </tr>\n",
       "        <tr>\n",
       "            <td>E1010</td>\n",
       "            <td>Jacob</td>\n",
       "            <td>5</td>\n",
       "            <td>Software Group</td>\n",
       "        </tr>\n",
       "    </tbody>\n",
       "</table>"
      ],
      "text/plain": [
       "[('E1001', 'Thomas', '2', 'Architect Group'),\n",
       " ('E1002', 'James', '5', 'Software Group'),\n",
       " ('E1003', 'Wells', '5', 'Software Group'),\n",
       " ('E1004', 'Kumar', '5', 'Software Group'),\n",
       " ('E1005', 'Hussain', '2', 'Architect Group'),\n",
       " ('E1006', 'Allen', '2', 'Architect Group'),\n",
       " ('E1007', 'Thomas', '7', 'Design Team'),\n",
       " ('E1008', 'Gupta', '7', 'Design Team'),\n",
       " ('E1009', 'Jones', '7', 'Design Team'),\n",
       " ('E1010', 'Jacob', '5', 'Software Group')]"
      ]
     },
     "execution_count": 19,
     "metadata": {},
     "output_type": "execute_result"
    }
   ],
   "source": [
    "%%sql\n",
    "select emp_id,l_name,dep_id,dep_name from employees e left join departments d on e.dep_id=d.dept_id_dep\n",
    "-- select * from departments"
   ]
  },
  {
   "cell_type": "markdown",
   "id": "bf18e1c7-9848-4c6a-a0f4-455d384c3afd",
   "metadata": {},
   "source": [
    "Retrieve the First name, Last name, and Department name of all employees."
   ]
  },
  {
   "cell_type": "code",
   "execution_count": 23,
   "id": "d6d42d08-08c1-4c69-bbd3-654b138f5e44",
   "metadata": {},
   "outputs": [
    {
     "name": "stdout",
     "output_type": "stream",
     "text": [
      " * sqlite:///HR.db\n",
      "Done.\n"
     ]
    },
    {
     "data": {
      "text/html": [
       "<table>\n",
       "    <thead>\n",
       "        <tr>\n",
       "            <th>F_NAME</th>\n",
       "            <th>L_NAME</th>\n",
       "            <th>DEP_NAME</th>\n",
       "        </tr>\n",
       "    </thead>\n",
       "    <tbody>\n",
       "        <tr>\n",
       "            <td>John</td>\n",
       "            <td>Thomas</td>\n",
       "            <td>Architect Group</td>\n",
       "        </tr>\n",
       "        <tr>\n",
       "            <td>Alice</td>\n",
       "            <td>James</td>\n",
       "            <td>Software Group</td>\n",
       "        </tr>\n",
       "        <tr>\n",
       "            <td>Steve</td>\n",
       "            <td>Wells</td>\n",
       "            <td>Software Group</td>\n",
       "        </tr>\n",
       "        <tr>\n",
       "            <td>Santosh</td>\n",
       "            <td>Kumar</td>\n",
       "            <td>Software Group</td>\n",
       "        </tr>\n",
       "        <tr>\n",
       "            <td>Ahmed</td>\n",
       "            <td>Hussain</td>\n",
       "            <td>Architect Group</td>\n",
       "        </tr>\n",
       "        <tr>\n",
       "            <td>Nancy</td>\n",
       "            <td>Allen</td>\n",
       "            <td>Architect Group</td>\n",
       "        </tr>\n",
       "        <tr>\n",
       "            <td>Mary</td>\n",
       "            <td>Thomas</td>\n",
       "            <td>Design Team</td>\n",
       "        </tr>\n",
       "        <tr>\n",
       "            <td>Bharath</td>\n",
       "            <td>Gupta</td>\n",
       "            <td>Design Team</td>\n",
       "        </tr>\n",
       "        <tr>\n",
       "            <td>Andrea</td>\n",
       "            <td>Jones</td>\n",
       "            <td>Design Team</td>\n",
       "        </tr>\n",
       "        <tr>\n",
       "            <td>Ann</td>\n",
       "            <td>Jacob</td>\n",
       "            <td>Software Group</td>\n",
       "        </tr>\n",
       "    </tbody>\n",
       "</table>"
      ],
      "text/plain": [
       "[('John', 'Thomas', 'Architect Group'),\n",
       " ('Alice', 'James', 'Software Group'),\n",
       " ('Steve', 'Wells', 'Software Group'),\n",
       " ('Santosh', 'Kumar', 'Software Group'),\n",
       " ('Ahmed', 'Hussain', 'Architect Group'),\n",
       " ('Nancy', 'Allen', 'Architect Group'),\n",
       " ('Mary', 'Thomas', 'Design Team'),\n",
       " ('Bharath', 'Gupta', 'Design Team'),\n",
       " ('Andrea', 'Jones', 'Design Team'),\n",
       " ('Ann', 'Jacob', 'Software Group')]"
      ]
     },
     "execution_count": 23,
     "metadata": {},
     "output_type": "execute_result"
    }
   ],
   "source": [
    "%%sql\n",
    "select f_name, l_name, dep_name from employees e full outer join departments d on e.dep_id=d.dept_id_dep"
   ]
  },
  {
   "cell_type": "markdown",
   "id": "a468a1cd-26af-49bb-b1a5-99a5758a55ce",
   "metadata": {},
   "source": [
    "# practice problems"
   ]
  },
  {
   "cell_type": "markdown",
   "id": "9e2939a0-aaa2-4391-b5bb-05fcc53a3395",
   "metadata": {},
   "source": [
    "Retrieve the names, job start dates, and job titles of all employees who work for department number 5."
   ]
  },
  {
   "cell_type": "code",
   "execution_count": 32,
   "id": "683dacb5-d795-4964-a7b7-d900fb9284c9",
   "metadata": {},
   "outputs": [
    {
     "name": "stdout",
     "output_type": "stream",
     "text": [
      " * sqlite:///HR.db\n",
      "Done.\n"
     ]
    },
    {
     "data": {
      "text/html": [
       "<table>\n",
       "    <thead>\n",
       "        <tr>\n",
       "            <th>F_NAME</th>\n",
       "            <th>L_NAME</th>\n",
       "            <th>START_DATE</th>\n",
       "            <th>JOB_TITLE</th>\n",
       "        </tr>\n",
       "    </thead>\n",
       "    <tbody>\n",
       "        <tr>\n",
       "            <td>Alice</td>\n",
       "            <td>James</td>\n",
       "            <td>01-08-2001</td>\n",
       "            <td>Sr. Software Developer</td>\n",
       "        </tr>\n",
       "        <tr>\n",
       "            <td>Steve</td>\n",
       "            <td>Wells</td>\n",
       "            <td>16-08-2001</td>\n",
       "            <td>Jr.Software Developer</td>\n",
       "        </tr>\n",
       "        <tr>\n",
       "            <td>Santosh</td>\n",
       "            <td>Kumar</td>\n",
       "            <td>16-08-2000</td>\n",
       "            <td>Jr.Software Developer</td>\n",
       "        </tr>\n",
       "        <tr>\n",
       "            <td>Ann</td>\n",
       "            <td>Jacob</td>\n",
       "            <td>16-08-2016</td>\n",
       "            <td>Sr. Designer</td>\n",
       "        </tr>\n",
       "    </tbody>\n",
       "</table>"
      ],
      "text/plain": [
       "[('Alice', 'James', '01-08-2001', 'Sr. Software Developer'),\n",
       " ('Steve', 'Wells', '16-08-2001', 'Jr.Software Developer'),\n",
       " ('Santosh', 'Kumar', '16-08-2000', 'Jr.Software Developer'),\n",
       " ('Ann', 'Jacob', '16-08-2016', 'Sr. Designer')]"
      ]
     },
     "execution_count": 32,
     "metadata": {},
     "output_type": "execute_result"
    }
   ],
   "source": [
    "%%sql\n",
    "select f_name,l_name,start_date, job_title from employees e inner join jobs j inner join job_history h on e.job_id=j.job_ident and e.emp_id=h.empl_id where DEP_ID=5\n",
    "-- select * from job_history"
   ]
  },
  {
   "cell_type": "markdown",
   "id": "a977fde3-05a9-4dd7-acaf-7f989a5f3ad4",
   "metadata": {},
   "source": [
    "Retrieve employee ID, last name, and department ID for all employees but department names for only those born before 1980."
   ]
  },
  {
   "cell_type": "code",
   "execution_count": 39,
   "id": "7d0e93c9-24ec-42a9-a8e2-53eb3449e68a",
   "metadata": {},
   "outputs": [
    {
     "name": "stdout",
     "output_type": "stream",
     "text": [
      " * sqlite:///HR.db\n",
      "Done.\n"
     ]
    },
    {
     "data": {
      "text/html": [
       "<table>\n",
       "    <thead>\n",
       "        <tr>\n",
       "            <th>EMP_ID</th>\n",
       "            <th>L_NAME</th>\n",
       "            <th>DEP_ID</th>\n",
       "            <th>DEP_NAME</th>\n",
       "        </tr>\n",
       "    </thead>\n",
       "    <tbody>\n",
       "        <tr>\n",
       "            <td>E1001</td>\n",
       "            <td>Thomas</td>\n",
       "            <td>2</td>\n",
       "            <td>Architect Group</td>\n",
       "        </tr>\n",
       "        <tr>\n",
       "            <td>E1002</td>\n",
       "            <td>James</td>\n",
       "            <td>5</td>\n",
       "            <td>Software Group</td>\n",
       "        </tr>\n",
       "        <tr>\n",
       "            <td>E1003</td>\n",
       "            <td>Wells</td>\n",
       "            <td>5</td>\n",
       "            <td>Software Group</td>\n",
       "        </tr>\n",
       "        <tr>\n",
       "            <td>E1004</td>\n",
       "            <td>Kumar</td>\n",
       "            <td>5</td>\n",
       "            <td>Software Group</td>\n",
       "        </tr>\n",
       "        <tr>\n",
       "            <td>E1005</td>\n",
       "            <td>Hussain</td>\n",
       "            <td>2</td>\n",
       "            <td>Architect Group</td>\n",
       "        </tr>\n",
       "        <tr>\n",
       "            <td>E1006</td>\n",
       "            <td>Allen</td>\n",
       "            <td>2</td>\n",
       "            <td>Architect Group</td>\n",
       "        </tr>\n",
       "        <tr>\n",
       "            <td>E1007</td>\n",
       "            <td>Thomas</td>\n",
       "            <td>7</td>\n",
       "            <td>Design Team</td>\n",
       "        </tr>\n",
       "        <tr>\n",
       "            <td>E1008</td>\n",
       "            <td>Gupta</td>\n",
       "            <td>7</td>\n",
       "            <td>Design Team</td>\n",
       "        </tr>\n",
       "        <tr>\n",
       "            <td>E1009</td>\n",
       "            <td>Jones</td>\n",
       "            <td>7</td>\n",
       "            <td>Design Team</td>\n",
       "        </tr>\n",
       "        <tr>\n",
       "            <td>E1010</td>\n",
       "            <td>Jacob</td>\n",
       "            <td>5</td>\n",
       "            <td>Software Group</td>\n",
       "        </tr>\n",
       "    </tbody>\n",
       "</table>"
      ],
      "text/plain": [
       "[('E1001', 'Thomas', '2', 'Architect Group'),\n",
       " ('E1002', 'James', '5', 'Software Group'),\n",
       " ('E1003', 'Wells', '5', 'Software Group'),\n",
       " ('E1004', 'Kumar', '5', 'Software Group'),\n",
       " ('E1005', 'Hussain', '2', 'Architect Group'),\n",
       " ('E1006', 'Allen', '2', 'Architect Group'),\n",
       " ('E1007', 'Thomas', '7', 'Design Team'),\n",
       " ('E1008', 'Gupta', '7', 'Design Team'),\n",
       " ('E1009', 'Jones', '7', 'Design Team'),\n",
       " ('E1010', 'Jacob', '5', 'Software Group')]"
      ]
     },
     "execution_count": 39,
     "metadata": {},
     "output_type": "execute_result"
    }
   ],
   "source": [
    "%%sql\n",
    "select emp_id,l_name,dep_id,DEP_NAME from employees e left outer join departments d on e.dep_id=d.DEPT_ID_DEP where strftime('%Y',substr(b_date,7,4)||'-'||substr(b_date,4,2)||'-'||substr(b_date,1,2) >'1980')"
   ]
  },
  {
   "cell_type": "markdown",
   "id": "6f7518c2-eb19-4540-8e50-1113349bfa9f",
   "metadata": {},
   "source": [
    "Retrieve the first name and last name of all employees but department ID and department names only for male employees."
   ]
  },
  {
   "cell_type": "code",
   "execution_count": 40,
   "id": "991aefa0-b838-40c8-8f2f-813e7a416910",
   "metadata": {},
   "outputs": [
    {
     "name": "stdout",
     "output_type": "stream",
     "text": [
      " * sqlite:///HR.db\n",
      "Done.\n"
     ]
    },
    {
     "data": {
      "text/html": [
       "<table>\n",
       "    <thead>\n",
       "        <tr>\n",
       "            <th>F_NAME</th>\n",
       "            <th>L_NAME</th>\n",
       "            <th>DEPT_ID_DEP</th>\n",
       "            <th>DEP_NAME</th>\n",
       "        </tr>\n",
       "    </thead>\n",
       "    <tbody>\n",
       "        <tr>\n",
       "            <td>Ahmed</td>\n",
       "            <td>Hussain</td>\n",
       "            <td>2</td>\n",
       "            <td>Architect Group</td>\n",
       "        </tr>\n",
       "        <tr>\n",
       "            <td>Alice</td>\n",
       "            <td>James</td>\n",
       "            <td>None</td>\n",
       "            <td>None</td>\n",
       "        </tr>\n",
       "        <tr>\n",
       "            <td>Andrea</td>\n",
       "            <td>Jones</td>\n",
       "            <td>None</td>\n",
       "            <td>None</td>\n",
       "        </tr>\n",
       "        <tr>\n",
       "            <td>Ann</td>\n",
       "            <td>Jacob</td>\n",
       "            <td>None</td>\n",
       "            <td>None</td>\n",
       "        </tr>\n",
       "        <tr>\n",
       "            <td>Bharath</td>\n",
       "            <td>Gupta</td>\n",
       "            <td>7</td>\n",
       "            <td>Design Team</td>\n",
       "        </tr>\n",
       "        <tr>\n",
       "            <td>John</td>\n",
       "            <td>Thomas</td>\n",
       "            <td>2</td>\n",
       "            <td>Architect Group</td>\n",
       "        </tr>\n",
       "        <tr>\n",
       "            <td>Mary</td>\n",
       "            <td>Thomas</td>\n",
       "            <td>None</td>\n",
       "            <td>None</td>\n",
       "        </tr>\n",
       "        <tr>\n",
       "            <td>Nancy</td>\n",
       "            <td>Allen</td>\n",
       "            <td>None</td>\n",
       "            <td>None</td>\n",
       "        </tr>\n",
       "        <tr>\n",
       "            <td>Santosh</td>\n",
       "            <td>Kumar</td>\n",
       "            <td>5</td>\n",
       "            <td>Software Group</td>\n",
       "        </tr>\n",
       "        <tr>\n",
       "            <td>Steve</td>\n",
       "            <td>Wells</td>\n",
       "            <td>5</td>\n",
       "            <td>Software Group</td>\n",
       "        </tr>\n",
       "    </tbody>\n",
       "</table>"
      ],
      "text/plain": [
       "[('Ahmed', 'Hussain', '2', 'Architect Group'),\n",
       " ('Alice', 'James', None, None),\n",
       " ('Andrea', 'Jones', None, None),\n",
       " ('Ann', 'Jacob', None, None),\n",
       " ('Bharath', 'Gupta', '7', 'Design Team'),\n",
       " ('John', 'Thomas', '2', 'Architect Group'),\n",
       " ('Mary', 'Thomas', None, None),\n",
       " ('Nancy', 'Allen', None, None),\n",
       " ('Santosh', 'Kumar', '5', 'Software Group'),\n",
       " ('Steve', 'Wells', '5', 'Software Group')]"
      ]
     },
     "execution_count": 40,
     "metadata": {},
     "output_type": "execute_result"
    }
   ],
   "source": [
    "%%sql\n",
    "\n",
    "SELECT E.F_NAME, E.L_NAME, D.DEPT_ID_DEP, D.DEP_NAME\n",
    "FROM EMPLOYEES AS E\n",
    "LEFT OUTER JOIN DEPARTMENTS AS D\n",
    "ON E.DEP_ID=D.DEPT_ID_DEP AND E.SEX = 'M'\n",
    "UNION\n",
    "SELECT E.F_NAME, E.L_NAME, D.DEPT_ID_DEP, D.DEP_NAME\n",
    "from EMPLOYEES AS E\n",
    "RIGHT OUTER JOIN DEPARTMENTS AS D\n",
    "ON E.DEP_ID=D.DEPT_ID_DEP AND E.SEX = 'M';"
   ]
  },
  {
   "cell_type": "code",
   "execution_count": null,
   "id": "a1ff28e8-4ba5-4bdd-a2df-1c1689a90c3b",
   "metadata": {},
   "outputs": [],
   "source": []
  }
 ],
 "metadata": {
  "kernelspec": {
   "display_name": "tf",
   "language": "python",
   "name": "tf"
  },
  "language_info": {
   "codemirror_mode": {
    "name": "ipython",
    "version": 3
   },
   "file_extension": ".py",
   "mimetype": "text/x-python",
   "name": "python",
   "nbconvert_exporter": "python",
   "pygments_lexer": "ipython3",
   "version": "3.9.18"
  }
 },
 "nbformat": 4,
 "nbformat_minor": 5
}
