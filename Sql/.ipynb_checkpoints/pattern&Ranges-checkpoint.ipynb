{
 "cells": [
  {
   "cell_type": "markdown",
   "id": "ef8ff1fc-2ba5-481b-a5f7-0d6a635e2fd7",
   "metadata": {},
   "source": [
    "# using string patterns and ranges"
   ]
  },
  {
   "cell_type": "code",
   "execution_count": 1,
   "id": "b53cc30b-afd2-4e69-b67f-8169a12ba218",
   "metadata": {},
   "outputs": [],
   "source": [
    "import pandas as pd\n",
    "import sqlite3 as sql"
   ]
  },
  {
   "cell_type": "code",
   "execution_count": 2,
   "id": "5145c8f4-f124-42d5-9db8-70cfddbe25b9",
   "metadata": {},
   "outputs": [],
   "source": [
    "cnn = sql.connect('test.db')"
   ]
  },
  {
   "cell_type": "code",
   "execution_count": 5,
   "id": "0939edbf-fa3b-4e42-8cc2-06b2a389e4ff",
   "metadata": {},
   "outputs": [],
   "source": [
    "%load_ext sql"
   ]
  },
  {
   "cell_type": "code",
   "execution_count": 6,
   "id": "44e126e9-51da-46a6-b960-2fdb080bc089",
   "metadata": {},
   "outputs": [],
   "source": [
    "%sql sqlite:///test.db"
   ]
  },
  {
   "cell_type": "markdown",
   "id": "4870d0c7-f3ae-452c-ace9-6d99ca1da1f0",
   "metadata": {},
   "source": [
    "##  % (wild card character) is used to for missing elements  "
   ]
  },
  {
   "cell_type": "code",
   "execution_count": 10,
   "id": "286a1d1c-c380-4d6d-9a5f-2f9fa0962f48",
   "metadata": {},
   "outputs": [
    {
     "name": "stdout",
     "output_type": "stream",
     "text": [
      " * sqlite:///test.db\n",
      "Done.\n"
     ]
    },
    {
     "data": {
      "text/html": [
       "<table>\n",
       "    <thead>\n",
       "        <tr>\n",
       "            <th>index</th>\n",
       "            <th>name</th>\n",
       "            <th>age</th>\n",
       "            <th>city</th>\n",
       "        </tr>\n",
       "    </thead>\n",
       "    <tbody>\n",
       "        <tr>\n",
       "            <td>0</td>\n",
       "            <td>amruth</td>\n",
       "            <td>23</td>\n",
       "            <td>richardson</td>\n",
       "        </tr>\n",
       "        <tr>\n",
       "            <td>1</td>\n",
       "            <td>akshath</td>\n",
       "            <td>34</td>\n",
       "            <td>bangalore</td>\n",
       "        </tr>\n",
       "        <tr>\n",
       "            <td>2</td>\n",
       "            <td>sharath</td>\n",
       "            <td>32</td>\n",
       "            <td>tonoto</td>\n",
       "        </tr>\n",
       "    </tbody>\n",
       "</table>"
      ],
      "text/plain": [
       "[(0, 'amruth', 23, 'richardson'),\n",
       " (1, 'akshath', 34, 'bangalore'),\n",
       " (2, 'sharath', 32, 'tonoto')]"
      ]
     },
     "execution_count": 10,
     "metadata": {},
     "output_type": "execute_result"
    }
   ],
   "source": [
    "%%sql \n",
    "select * from people where name like'%a%'"
   ]
  },
  {
   "cell_type": "markdown",
   "id": "b8af1495-2911-4cc1-aee4-43ae0abcdb8c",
   "metadata": {},
   "source": [
    "# Range\n",
    "- and\n",
    "- between"
   ]
  },
  {
   "cell_type": "code",
   "execution_count": 11,
   "id": "c703adaf-ff83-4a3c-b45f-3c1491401a65",
   "metadata": {},
   "outputs": [
    {
     "name": "stdout",
     "output_type": "stream",
     "text": [
      " * sqlite:///test.db\n",
      "Done.\n"
     ]
    },
    {
     "data": {
      "text/html": [
       "<table>\n",
       "    <thead>\n",
       "        <tr>\n",
       "            <th>index</th>\n",
       "            <th>name</th>\n",
       "            <th>age</th>\n",
       "            <th>city</th>\n",
       "        </tr>\n",
       "    </thead>\n",
       "    <tbody>\n",
       "        <tr>\n",
       "            <td>1</td>\n",
       "            <td>akshath</td>\n",
       "            <td>34</td>\n",
       "            <td>bangalore</td>\n",
       "        </tr>\n",
       "        <tr>\n",
       "            <td>2</td>\n",
       "            <td>sharath</td>\n",
       "            <td>32</td>\n",
       "            <td>tonoto</td>\n",
       "        </tr>\n",
       "    </tbody>\n",
       "</table>"
      ],
      "text/plain": [
       "[(1, 'akshath', 34, 'bangalore'), (2, 'sharath', 32, 'tonoto')]"
      ]
     },
     "execution_count": 11,
     "metadata": {},
     "output_type": "execute_result"
    }
   ],
   "source": [
    "%%sql\n",
    "select * from people where age>=30 and age<=40"
   ]
  },
  {
   "cell_type": "code",
   "execution_count": 12,
   "id": "87345012-c3ee-4ac4-af3a-191a751eee83",
   "metadata": {},
   "outputs": [
    {
     "name": "stdout",
     "output_type": "stream",
     "text": [
      " * sqlite:///test.db\n",
      "Done.\n"
     ]
    },
    {
     "data": {
      "text/html": [
       "<table>\n",
       "    <thead>\n",
       "        <tr>\n",
       "            <th>index</th>\n",
       "            <th>name</th>\n",
       "            <th>age</th>\n",
       "            <th>city</th>\n",
       "        </tr>\n",
       "    </thead>\n",
       "    <tbody>\n",
       "        <tr>\n",
       "            <td>1</td>\n",
       "            <td>akshath</td>\n",
       "            <td>34</td>\n",
       "            <td>bangalore</td>\n",
       "        </tr>\n",
       "        <tr>\n",
       "            <td>2</td>\n",
       "            <td>sharath</td>\n",
       "            <td>32</td>\n",
       "            <td>tonoto</td>\n",
       "        </tr>\n",
       "    </tbody>\n",
       "</table>"
      ],
      "text/plain": [
       "[(1, 'akshath', 34, 'bangalore'), (2, 'sharath', 32, 'tonoto')]"
      ]
     },
     "execution_count": 12,
     "metadata": {},
     "output_type": "execute_result"
    }
   ],
   "source": [
    "%%sql\n",
    "select * from people where age between 30 and 40"
   ]
  },
  {
   "cell_type": "code",
   "execution_count": 20,
   "id": "d9b3dbc1-fced-4279-b70d-2dae095ba6df",
   "metadata": {},
   "outputs": [
    {
     "name": "stdout",
     "output_type": "stream",
     "text": [
      " * sqlite:///test.db\n",
      "Done.\n"
     ]
    },
    {
     "data": {
      "text/html": [
       "<table>\n",
       "    <thead>\n",
       "        <tr>\n",
       "            <th>type</th>\n",
       "            <th>name</th>\n",
       "            <th>tbl_name</th>\n",
       "            <th>rootpage</th>\n",
       "            <th>sql</th>\n",
       "        </tr>\n",
       "    </thead>\n",
       "    <tbody>\n",
       "        <tr>\n",
       "            <td>table</td>\n",
       "            <td>people</td>\n",
       "            <td>people</td>\n",
       "            <td>2</td>\n",
       "            <td>CREATE TABLE &quot;people&quot; (<br>&quot;index&quot; INTEGER,<br>  &quot;name&quot; TEXT,<br>  &quot;age&quot; INTEGER,<br>  &quot;city&quot; TEXT<br>)</td>\n",
       "        </tr>\n",
       "        <tr>\n",
       "            <td>table</td>\n",
       "            <td>PETSALE</td>\n",
       "            <td>PETSALE</td>\n",
       "            <td>4</td>\n",
       "            <td>CREATE TABLE PETSALE (<br>        ID INTEGER NOT NULL,<br>        PET CHAR(20),<br>        SALEPRICE DECIMAL(6,2),<br>        SALEDATE DATE<br>        , quantity integer)</td>\n",
       "        </tr>\n",
       "        <tr>\n",
       "            <td>table</td>\n",
       "            <td>PET</td>\n",
       "            <td>PET</td>\n",
       "            <td>5</td>\n",
       "            <td>CREATE TABLE PET (<br>        ID INTEGER NOT NULL,<br>        ANIMAL VARCHAR(20),<br>        QUANTITY INTEGER<br>        )</td>\n",
       "        </tr>\n",
       "        <tr>\n",
       "            <td>table</td>\n",
       "            <td>PATIENTS</td>\n",
       "            <td>PATIENTS</td>\n",
       "            <td>6</td>\n",
       "            <td>CREATE TABLE PATIENTS (<br>  PATIENT_ID CHAR(9) NOT NULL,<br>  FIRST_NAME VARCHAR(15) NOT NULL,<br>  LAST_NAME VARCHAR(15) NOT NULL,<br>  SSN CHAR(9),<br>  BIRTH_DATE DATE,<br>  SEX CHAR,<br>  ADDRESS VARCHAR(30),<br>  DEPT_ID CHAR(9) NOT NULL,<br>  PRIMARY KEY (PATIENT_ID)<br>)</td>\n",
       "        </tr>\n",
       "        <tr>\n",
       "            <td>table</td>\n",
       "            <td>MEDICAL_HISTORY</td>\n",
       "            <td>MEDICAL_HISTORY</td>\n",
       "            <td>8</td>\n",
       "            <td>CREATE TABLE MEDICAL_HISTORY (<br>  MEDICAL_HISTORY_ID CHAR(9) NOT NULL,<br>  PATIENT_ID CHAR(9) NOT NULL,<br>  DIAGNOSIS_DATE DATE,<br>  DIAGNOSIS_CODE VARCHAR(10),<br>  MEDICAL_CONDITION VARCHAR(100),<br>  DEPT_ID CHAR(9),<br>  PRIMARY KEY (MEDICAL_HISTORY_ID)<br>)</td>\n",
       "        </tr>\n",
       "    </tbody>\n",
       "</table>"
      ],
      "text/plain": [
       "[('table', 'people', 'people', 2, 'CREATE TABLE \"people\" (\\n\"index\" INTEGER,\\n  \"name\" TEXT,\\n  \"age\" INTEGER,\\n  \"city\" TEXT\\n)'),\n",
       " ('table', 'PETSALE', 'PETSALE', 4, 'CREATE TABLE PETSALE (\\n        ID INTEGER NOT NULL,\\n        PET CHAR(20),\\n        SALEPRICE DECIMAL(6,2),\\n        SALEDATE DATE\\n        , quantity integer)'),\n",
       " ('table', 'PET', 'PET', 5, 'CREATE TABLE PET (\\n        ID INTEGER NOT NULL,\\n        ANIMAL VARCHAR(20),\\n        QUANTITY INTEGER\\n        )'),\n",
       " ('table', 'PATIENTS', 'PATIENTS', 6, 'CREATE TABLE PATIENTS (\\n  PATIENT_ID CHAR(9) NOT NULL,\\n  FIRST_NAME VARCHAR(15) NOT NULL,\\n  LAST_NAME VARCHAR(15) NOT NULL,\\n  SSN CHAR(9),\\n  BIRTH_DATE DATE,\\n  SEX CHAR,\\n  ADDRESS VARCHAR(30),\\n  DEPT_ID CHAR(9) NOT NULL,\\n  PRIMARY KEY (PATIENT_ID)\\n)'),\n",
       " ('table', 'MEDICAL_HISTORY', 'MEDICAL_HISTORY', 8, 'CREATE TABLE MEDICAL_HISTORY (\\n  MEDICAL_HISTORY_ID CHAR(9) NOT NULL,\\n  PATIENT_ID CHAR(9) NOT NULL,\\n  DIAGNOSIS_DATE DATE,\\n  DIAGNOSIS_CODE VARCHAR(10),\\n  MEDICAL_CONDITION VARCHAR(100),\\n  DEPT_ID CHAR(9),\\n  PRIMARY KEY (MEDICAL_HISTORY_ID)\\n)')]"
      ]
     },
     "execution_count": 20,
     "metadata": {},
     "output_type": "execute_result"
    }
   ],
   "source": [
    "%%sql\n",
    "SELECT * from sqlite_master WHERE type='table' limit 5"
   ]
  },
  {
   "cell_type": "markdown",
   "id": "6cc6aeca-1f76-4543-b04a-8444086e68df",
   "metadata": {},
   "source": [
    "# IN\n",
    "eg: select * from author where country in ('AU','BR')"
   ]
  },
  {
   "cell_type": "code",
   "execution_count": null,
   "id": "903ecbe8-99c8-4678-9f72-df1a9efbc2b4",
   "metadata": {},
   "outputs": [],
   "source": []
  }
 ],
 "metadata": {
  "kernelspec": {
   "display_name": "tf",
   "language": "python",
   "name": "tf"
  },
  "language_info": {
   "codemirror_mode": {
    "name": "ipython",
    "version": 3
   },
   "file_extension": ".py",
   "mimetype": "text/x-python",
   "name": "python",
   "nbconvert_exporter": "python",
   "pygments_lexer": "ipython3",
   "version": "3.9.18"
  }
 },
 "nbformat": 4,
 "nbformat_minor": 5
}
