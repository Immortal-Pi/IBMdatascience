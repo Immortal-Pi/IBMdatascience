{
 "cells": [
  {
   "cell_type": "code",
   "execution_count": 1,
   "id": "4c44bb9f-780c-489e-9f40-d1add37623d5",
   "metadata": {},
   "outputs": [],
   "source": [
    "import pandas as pd\n",
    "import sqlite3 as sql\n",
    "import seaborn as sns\n",
    "import matplotlib.pyplot as plt"
   ]
  },
  {
   "cell_type": "code",
   "execution_count": 51,
   "id": "c71c3c71-5a20-44e4-9694-71e692e1c3ea",
   "metadata": {},
   "outputs": [
    {
     "data": {
      "text/html": [
       "<div>\n",
       "<style scoped>\n",
       "    .dataframe tbody tr th:only-of-type {\n",
       "        vertical-align: middle;\n",
       "    }\n",
       "\n",
       "    .dataframe tbody tr th {\n",
       "        vertical-align: top;\n",
       "    }\n",
       "\n",
       "    .dataframe thead th {\n",
       "        text-align: right;\n",
       "    }\n",
       "</style>\n",
       "<table border=\"1\" class=\"dataframe\">\n",
       "  <thead>\n",
       "    <tr style=\"text-align: right;\">\n",
       "      <th></th>\n",
       "      <th>CommunityAreaNumber</th>\n",
       "      <th>COMMUNITYAREANAME</th>\n",
       "      <th>PERCENTOFHOUSINGCROWDED</th>\n",
       "      <th>PERCENTHOUSEHOLDSBELOWPOVERTY</th>\n",
       "      <th>PERCENTAGED16+UNEMPLOYED</th>\n",
       "      <th>PERCENTAGED25+WITHOUTHIGHSCHOOLDIPLOMA</th>\n",
       "      <th>PERCENTAGEDUNDER18OROVER64</th>\n",
       "      <th>PERCAPITAINCOME</th>\n",
       "      <th>HARDSHIPINDEX</th>\n",
       "    </tr>\n",
       "  </thead>\n",
       "  <tbody>\n",
       "    <tr>\n",
       "      <th>0</th>\n",
       "      <td>1.0</td>\n",
       "      <td>Rogers Park</td>\n",
       "      <td>7.7</td>\n",
       "      <td>23.6</td>\n",
       "      <td>8.7</td>\n",
       "      <td>18.2</td>\n",
       "      <td>27.5</td>\n",
       "      <td>23939</td>\n",
       "      <td>39.0</td>\n",
       "    </tr>\n",
       "    <tr>\n",
       "      <th>1</th>\n",
       "      <td>2.0</td>\n",
       "      <td>West Ridge</td>\n",
       "      <td>7.8</td>\n",
       "      <td>17.2</td>\n",
       "      <td>8.8</td>\n",
       "      <td>20.8</td>\n",
       "      <td>38.5</td>\n",
       "      <td>23040</td>\n",
       "      <td>46.0</td>\n",
       "    </tr>\n",
       "    <tr>\n",
       "      <th>2</th>\n",
       "      <td>3.0</td>\n",
       "      <td>Uptown</td>\n",
       "      <td>3.8</td>\n",
       "      <td>24.0</td>\n",
       "      <td>8.9</td>\n",
       "      <td>11.8</td>\n",
       "      <td>22.2</td>\n",
       "      <td>35787</td>\n",
       "      <td>20.0</td>\n",
       "    </tr>\n",
       "    <tr>\n",
       "      <th>3</th>\n",
       "      <td>4.0</td>\n",
       "      <td>Lincoln Square</td>\n",
       "      <td>3.4</td>\n",
       "      <td>10.9</td>\n",
       "      <td>8.2</td>\n",
       "      <td>13.4</td>\n",
       "      <td>25.5</td>\n",
       "      <td>37524</td>\n",
       "      <td>17.0</td>\n",
       "    </tr>\n",
       "    <tr>\n",
       "      <th>4</th>\n",
       "      <td>5.0</td>\n",
       "      <td>North Center</td>\n",
       "      <td>0.3</td>\n",
       "      <td>7.5</td>\n",
       "      <td>5.2</td>\n",
       "      <td>4.5</td>\n",
       "      <td>26.2</td>\n",
       "      <td>57123</td>\n",
       "      <td>6.0</td>\n",
       "    </tr>\n",
       "    <tr>\n",
       "      <th>...</th>\n",
       "      <td>...</td>\n",
       "      <td>...</td>\n",
       "      <td>...</td>\n",
       "      <td>...</td>\n",
       "      <td>...</td>\n",
       "      <td>...</td>\n",
       "      <td>...</td>\n",
       "      <td>...</td>\n",
       "      <td>...</td>\n",
       "    </tr>\n",
       "    <tr>\n",
       "      <th>73</th>\n",
       "      <td>74.0</td>\n",
       "      <td>Mount Greenwood</td>\n",
       "      <td>1.0</td>\n",
       "      <td>3.4</td>\n",
       "      <td>8.7</td>\n",
       "      <td>4.3</td>\n",
       "      <td>36.8</td>\n",
       "      <td>34381</td>\n",
       "      <td>16.0</td>\n",
       "    </tr>\n",
       "    <tr>\n",
       "      <th>74</th>\n",
       "      <td>75.0</td>\n",
       "      <td>Morgan Park</td>\n",
       "      <td>0.8</td>\n",
       "      <td>13.2</td>\n",
       "      <td>15.0</td>\n",
       "      <td>10.8</td>\n",
       "      <td>40.3</td>\n",
       "      <td>27149</td>\n",
       "      <td>30.0</td>\n",
       "    </tr>\n",
       "    <tr>\n",
       "      <th>75</th>\n",
       "      <td>76.0</td>\n",
       "      <td>O'Hare</td>\n",
       "      <td>3.6</td>\n",
       "      <td>15.4</td>\n",
       "      <td>7.1</td>\n",
       "      <td>10.9</td>\n",
       "      <td>30.3</td>\n",
       "      <td>25828</td>\n",
       "      <td>24.0</td>\n",
       "    </tr>\n",
       "    <tr>\n",
       "      <th>76</th>\n",
       "      <td>77.0</td>\n",
       "      <td>Edgewater</td>\n",
       "      <td>4.1</td>\n",
       "      <td>18.2</td>\n",
       "      <td>9.2</td>\n",
       "      <td>9.7</td>\n",
       "      <td>23.8</td>\n",
       "      <td>33385</td>\n",
       "      <td>19.0</td>\n",
       "    </tr>\n",
       "    <tr>\n",
       "      <th>77</th>\n",
       "      <td>NaN</td>\n",
       "      <td>CHICAGO</td>\n",
       "      <td>4.7</td>\n",
       "      <td>19.7</td>\n",
       "      <td>12.9</td>\n",
       "      <td>19.5</td>\n",
       "      <td>33.5</td>\n",
       "      <td>28202</td>\n",
       "      <td>NaN</td>\n",
       "    </tr>\n",
       "  </tbody>\n",
       "</table>\n",
       "<p>78 rows × 9 columns</p>\n",
       "</div>"
      ],
      "text/plain": [
       "    CommunityAreaNumber COMMUNITYAREANAME  PERCENTOFHOUSINGCROWDED  \\\n",
       "0                   1.0       Rogers Park                      7.7   \n",
       "1                   2.0        West Ridge                      7.8   \n",
       "2                   3.0            Uptown                      3.8   \n",
       "3                   4.0    Lincoln Square                      3.4   \n",
       "4                   5.0      North Center                      0.3   \n",
       "..                  ...               ...                      ...   \n",
       "73                 74.0   Mount Greenwood                      1.0   \n",
       "74                 75.0       Morgan Park                      0.8   \n",
       "75                 76.0            O'Hare                      3.6   \n",
       "76                 77.0         Edgewater                      4.1   \n",
       "77                  NaN           CHICAGO                      4.7   \n",
       "\n",
       "    PERCENTHOUSEHOLDSBELOWPOVERTY  PERCENTAGED16+UNEMPLOYED  \\\n",
       "0                            23.6                       8.7   \n",
       "1                            17.2                       8.8   \n",
       "2                            24.0                       8.9   \n",
       "3                            10.9                       8.2   \n",
       "4                             7.5                       5.2   \n",
       "..                            ...                       ...   \n",
       "73                            3.4                       8.7   \n",
       "74                           13.2                      15.0   \n",
       "75                           15.4                       7.1   \n",
       "76                           18.2                       9.2   \n",
       "77                           19.7                      12.9   \n",
       "\n",
       "    PERCENTAGED25+WITHOUTHIGHSCHOOLDIPLOMA  PERCENTAGEDUNDER18OROVER64  \\\n",
       "0                                     18.2                        27.5   \n",
       "1                                     20.8                        38.5   \n",
       "2                                     11.8                        22.2   \n",
       "3                                     13.4                        25.5   \n",
       "4                                      4.5                        26.2   \n",
       "..                                     ...                         ...   \n",
       "73                                     4.3                        36.8   \n",
       "74                                    10.8                        40.3   \n",
       "75                                    10.9                        30.3   \n",
       "76                                     9.7                        23.8   \n",
       "77                                    19.5                        33.5   \n",
       "\n",
       "    PERCAPITAINCOME  HARDSHIPINDEX  \n",
       "0             23939           39.0  \n",
       "1             23040           46.0  \n",
       "2             35787           20.0  \n",
       "3             37524           17.0  \n",
       "4             57123            6.0  \n",
       "..              ...            ...  \n",
       "73            34381           16.0  \n",
       "74            27149           30.0  \n",
       "75            25828           24.0  \n",
       "76            33385           19.0  \n",
       "77            28202            NaN  \n",
       "\n",
       "[78 rows x 9 columns]"
      ]
     },
     "execution_count": 51,
     "metadata": {},
     "output_type": "execute_result"
    }
   ],
   "source": [
    "ch_data=pd.read_csv('datasets/Census_DatasocioeconomicChicago.csv')\n",
    "ch_data"
   ]
  },
  {
   "cell_type": "markdown",
   "id": "1e22ceec-d869-458d-b563-36d07bf4e22b",
   "metadata": {},
   "source": [
    "# database connection "
   ]
  },
  {
   "cell_type": "code",
   "execution_count": 52,
   "id": "639118cb-7d14-48e1-bec0-4404bb502903",
   "metadata": {},
   "outputs": [
    {
     "name": "stdout",
     "output_type": "stream",
     "text": [
      "The sql extension is already loaded. To reload it, use:\n",
      "  %reload_ext sql\n"
     ]
    }
   ],
   "source": [
    "%load_ext sql"
   ]
  },
  {
   "cell_type": "code",
   "execution_count": 53,
   "id": "305d483c-9873-4b07-b478-042c486f2ec6",
   "metadata": {},
   "outputs": [],
   "source": [
    "cnn=sql.connect('socioeconomic.db')"
   ]
  },
  {
   "cell_type": "code",
   "execution_count": 54,
   "id": "9ea114ea-a4ee-4aaa-aa12-cdf60cc4c0c4",
   "metadata": {},
   "outputs": [],
   "source": [
    "%sql sqlite:///socioeconomic.db"
   ]
  },
  {
   "cell_type": "code",
   "execution_count": 57,
   "id": "a2e011bb-5cdc-4d03-bfa4-bbbbd5c8dff1",
   "metadata": {},
   "outputs": [
    {
     "data": {
      "text/plain": [
       "78"
      ]
     },
     "execution_count": 57,
     "metadata": {},
     "output_type": "execute_result"
    }
   ],
   "source": [
    "ch_data.to_sql('chicago',cnn)"
   ]
  },
  {
   "cell_type": "code",
   "execution_count": 58,
   "id": "63fa4c85-6d52-4ba7-9148-492329630509",
   "metadata": {},
   "outputs": [
    {
     "data": {
      "text/plain": [
       "Index(['CommunityAreaNumber', 'COMMUNITYAREANAME', 'PERCENTOFHOUSINGCROWDED',\n",
       "       'PERCENTHOUSEHOLDSBELOWPOVERTY', 'PERCENTAGED16+UNEMPLOYED',\n",
       "       'PERCENTAGED25+WITHOUTHIGHSCHOOLDIPLOMA', 'PERCENTAGEDUNDER18OROVER64',\n",
       "       'PERCAPITAINCOME', 'HARDSHIPINDEX'],\n",
       "      dtype='object')"
      ]
     },
     "execution_count": 58,
     "metadata": {},
     "output_type": "execute_result"
    }
   ],
   "source": [
    "ch_data.columns"
   ]
  },
  {
   "cell_type": "code",
   "execution_count": 56,
   "id": "79696525-6076-481b-911d-2d172f190362",
   "metadata": {},
   "outputs": [
    {
     "name": "stdout",
     "output_type": "stream",
     "text": [
      " * sqlite:///socioeconomic.db\n",
      "Done.\n"
     ]
    },
    {
     "data": {
      "text/plain": [
       "[]"
      ]
     },
     "execution_count": 56,
     "metadata": {},
     "output_type": "execute_result"
    }
   ],
   "source": [
    "%%sql\n",
    "-- select * from chicago limit 5;\n",
    "drop table chicago"
   ]
  },
  {
   "cell_type": "markdown",
   "id": "9ce85cd6-dbc5-436f-a58b-2a1f17c8d7b2",
   "metadata": {},
   "source": [
    "Problem 1\n",
    "How many rows are in the dataset?"
   ]
  },
  {
   "cell_type": "code",
   "execution_count": 20,
   "id": "0370b2ab-26a5-4478-aa9e-33bd4b76f510",
   "metadata": {},
   "outputs": [
    {
     "name": "stdout",
     "output_type": "stream",
     "text": [
      " * sqlite:///socioeconomic.db\n",
      "Done.\n"
     ]
    },
    {
     "data": {
      "text/html": [
       "<table>\n",
       "    <thead>\n",
       "        <tr>\n",
       "            <th>count(*)</th>\n",
       "        </tr>\n",
       "    </thead>\n",
       "    <tbody>\n",
       "        <tr>\n",
       "            <td>78</td>\n",
       "        </tr>\n",
       "    </tbody>\n",
       "</table>"
      ],
      "text/plain": [
       "[(78,)]"
      ]
     },
     "execution_count": 20,
     "metadata": {},
     "output_type": "execute_result"
    }
   ],
   "source": [
    "%%sql\n",
    "select count(*) from chicago"
   ]
  },
  {
   "cell_type": "markdown",
   "id": "3e897538-c250-48e0-87ce-5c84cad86c94",
   "metadata": {},
   "source": [
    "Problem 2\n",
    "How many community areas in Chicago have a hardship index greater than 50.0?"
   ]
  },
  {
   "cell_type": "code",
   "execution_count": 22,
   "id": "adebe762-ee77-46b8-b226-40b783dad20b",
   "metadata": {},
   "outputs": [
    {
     "name": "stdout",
     "output_type": "stream",
     "text": [
      " * sqlite:///socioeconomic.db\n",
      "Done.\n"
     ]
    },
    {
     "data": {
      "text/html": [
       "<table>\n",
       "    <thead>\n",
       "        <tr>\n",
       "            <th>count(distinct communityareaname)</th>\n",
       "        </tr>\n",
       "    </thead>\n",
       "    <tbody>\n",
       "        <tr>\n",
       "            <td>38</td>\n",
       "        </tr>\n",
       "    </tbody>\n",
       "</table>"
      ],
      "text/plain": [
       "[(38,)]"
      ]
     },
     "execution_count": 22,
     "metadata": {},
     "output_type": "execute_result"
    }
   ],
   "source": [
    "%%sql\n",
    "select count(distinct communityareaname) from chicago where hardshipindex >50"
   ]
  },
  {
   "cell_type": "code",
   "execution_count": 23,
   "id": "6efc84af-905f-411d-817c-471b2ca824f5",
   "metadata": {},
   "outputs": [
    {
     "name": "stdout",
     "output_type": "stream",
     "text": [
      " * sqlite:///socioeconomic.db\n",
      "Done.\n"
     ]
    },
    {
     "data": {
      "text/html": [
       "<table>\n",
       "    <thead>\n",
       "        <tr>\n",
       "            <th>max(hardshipindex)</th>\n",
       "        </tr>\n",
       "    </thead>\n",
       "    <tbody>\n",
       "        <tr>\n",
       "            <td>98.0</td>\n",
       "        </tr>\n",
       "    </tbody>\n",
       "</table>"
      ],
      "text/plain": [
       "[(98.0,)]"
      ]
     },
     "execution_count": 23,
     "metadata": {},
     "output_type": "execute_result"
    }
   ],
   "source": [
    "%%sql\n",
    "select max(hardshipindex) from "
   ]
  },
  {
   "cell_type": "code",
   "execution_count": 24,
   "id": "7ad34dcb-5251-445c-8a04-f5e98f4d7460",
   "metadata": {},
   "outputs": [
    {
     "name": "stdout",
     "output_type": "stream",
     "text": [
      " * sqlite:///socioeconomic.db\n",
      "Done.\n"
     ]
    },
    {
     "data": {
      "text/html": [
       "<table>\n",
       "    <thead>\n",
       "        <tr>\n",
       "            <th>COMMUNITYAREANAME</th>\n",
       "        </tr>\n",
       "    </thead>\n",
       "    <tbody>\n",
       "        <tr>\n",
       "            <td>Riverdale</td>\n",
       "        </tr>\n",
       "    </tbody>\n",
       "</table>"
      ],
      "text/plain": [
       "[('Riverdale',)]"
      ]
     },
     "execution_count": 24,
     "metadata": {},
     "output_type": "execute_result"
    }
   ],
   "source": [
    "%%sql\n",
    "select communityareaname from chicago where hardshipindex=(select max(hardshipindex) from chicago)"
   ]
  },
  {
   "cell_type": "code",
   "execution_count": 59,
   "id": "15d4c22d-034a-4c3e-a562-2166749eed33",
   "metadata": {},
   "outputs": [
    {
     "name": "stdout",
     "output_type": "stream",
     "text": [
      " * sqlite:///socioeconomic.db\n",
      "Done.\n"
     ]
    },
    {
     "data": {
      "text/html": [
       "<table>\n",
       "    <thead>\n",
       "        <tr>\n",
       "            <th>index</th>\n",
       "            <th>CommunityAreaNumber</th>\n",
       "            <th>COMMUNITYAREANAME</th>\n",
       "            <th>PERCENTOFHOUSINGCROWDED</th>\n",
       "            <th>PERCENTHOUSEHOLDSBELOWPOVERTY</th>\n",
       "            <th>PERCENTAGED16+UNEMPLOYED</th>\n",
       "            <th>PERCENTAGED25+WITHOUTHIGHSCHOOLDIPLOMA</th>\n",
       "            <th>PERCENTAGEDUNDER18OROVER64</th>\n",
       "            <th>PERCAPITAINCOME</th>\n",
       "            <th>HARDSHIPINDEX</th>\n",
       "        </tr>\n",
       "    </thead>\n",
       "    <tbody>\n",
       "        <tr>\n",
       "            <td>5</td>\n",
       "            <td>6.0</td>\n",
       "            <td>Lake View</td>\n",
       "            <td>1.1</td>\n",
       "            <td>11.4</td>\n",
       "            <td>4.7</td>\n",
       "            <td>2.6</td>\n",
       "            <td>17.0</td>\n",
       "            <td>60058</td>\n",
       "            <td>5.0</td>\n",
       "        </tr>\n",
       "        <tr>\n",
       "            <td>6</td>\n",
       "            <td>7.0</td>\n",
       "            <td>Lincoln Park</td>\n",
       "            <td>0.8</td>\n",
       "            <td>12.3</td>\n",
       "            <td>5.1</td>\n",
       "            <td>3.6</td>\n",
       "            <td>21.5</td>\n",
       "            <td>71551</td>\n",
       "            <td>2.0</td>\n",
       "        </tr>\n",
       "        <tr>\n",
       "            <td>7</td>\n",
       "            <td>8.0</td>\n",
       "            <td>Near North Side</td>\n",
       "            <td>1.9</td>\n",
       "            <td>12.9</td>\n",
       "            <td>7.0</td>\n",
       "            <td>2.5</td>\n",
       "            <td>22.6</td>\n",
       "            <td>88669</td>\n",
       "            <td>1.0</td>\n",
       "        </tr>\n",
       "        <tr>\n",
       "            <td>31</td>\n",
       "            <td>32.0</td>\n",
       "            <td>Loop</td>\n",
       "            <td>1.5</td>\n",
       "            <td>14.7</td>\n",
       "            <td>5.7</td>\n",
       "            <td>3.1</td>\n",
       "            <td>13.5</td>\n",
       "            <td>65526</td>\n",
       "            <td>3.0</td>\n",
       "        </tr>\n",
       "    </tbody>\n",
       "</table>"
      ],
      "text/plain": [
       "[(5, 6.0, 'Lake View', 1.1, 11.4, 4.7, 2.6, 17.0, 60058, 5.0),\n",
       " (6, 7.0, 'Lincoln Park', 0.8, 12.3, 5.1, 3.6, 21.5, 71551, 2.0),\n",
       " (7, 8.0, 'Near North Side', 1.9, 12.9, 7.0, 2.5, 22.6, 88669, 1.0),\n",
       " (31, 32.0, 'Loop', 1.5, 14.7, 5.7, 3.1, 13.5, 65526, 3.0)]"
      ]
     },
     "execution_count": 59,
     "metadata": {},
     "output_type": "execute_result"
    }
   ],
   "source": [
    "%%sql\n",
    "select * from chicago where PERCAPITAINCOME  > 60000"
   ]
  },
  {
   "cell_type": "code",
   "execution_count": 75,
   "id": "05feb6f1-a96c-4598-8b91-ac62a1596626",
   "metadata": {},
   "outputs": [
    {
     "data": {
      "text/plain": [
       "0     23939\n",
       "1     23040\n",
       "2     35787\n",
       "3     37524\n",
       "4     57123\n",
       "      ...  \n",
       "72    19713\n",
       "73    34381\n",
       "74    27149\n",
       "75    25828\n",
       "76    33385\n",
       "Name: PERCAPITAINCOME, Length: 77, dtype: int64"
      ]
     },
     "execution_count": 75,
     "metadata": {},
     "output_type": "execute_result"
    }
   ],
   "source": [
    "# income_vs_hardship=%sql select percapitaincome, hardshipindex from chicago \n",
    "# income_vs_hardship=pd.DataFrame(income_vs_hardship).dropna()\n",
    "income_vs_hardship['PERCAPITAINCOME']"
   ]
  },
  {
   "cell_type": "code",
   "execution_count": 78,
   "id": "67f394a5-c999-4439-bd55-d95bd82b00ea",
   "metadata": {},
   "outputs": [
    {
     "data": {
      "text/plain": [
       "<Axes: xlabel='PERCAPITAINCOME', ylabel='HARDSHIPINDEX'>"
      ]
     },
     "execution_count": 78,
     "metadata": {},
     "output_type": "execute_result"
    },
    {
     "data": {
      "image/png": "[encoded data removed]",
      "text/plain": [
       "<Figure size 640x480 with 1 Axes>"
      ]
     },
     "metadata": {},
     "output_type": "display_data"
    }
   ],
   "source": [
    "sns.scatterplot(x='PERCAPITAINCOME',y='HARDSHIPINDEX', data=income_vs_hardship)"
   ]
  },
  {
   "cell_type": "code",
   "execution_count": null,
   "id": "3a1dfba5-725d-46a8-a0cc-ef0bab3f4d57",
   "metadata": {},
   "outputs": [],
   "source": []
  }
 ],
 "metadata": {
  "kernelspec": {
   "display_name": "tf",
   "language": "python",
   "name": "tf"
  },
  "language_info": {
   "codemirror_mode": {
    "name": "ipython",
    "version": 3
   },
   "file_extension": ".py",
   "mimetype": "text/x-python",
   "name": "python",
   "nbconvert_exporter": "python",
   "pygments_lexer": "ipython3",
   "version": "3.9.18"
  }
 },
 "nbformat": 4,
 "nbformat_minor": 5
}
