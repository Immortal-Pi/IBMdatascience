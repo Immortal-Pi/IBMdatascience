{
 "cells": [
  {
   "cell_type": "markdown",
   "id": "ef8ff1fc-2ba5-481b-a5f7-0d6a635e2fd7",
   "metadata": {},
   "source": [
    "# using string patterns and ranges"
   ]
  },
  {
   "cell_type": "code",
   "execution_count": 1,
   "id": "b53cc30b-afd2-4e69-b67f-8169a12ba218",
   "metadata": {},
   "outputs": [],
   "source": [
    "import pandas as pd\n",
    "import sqlite3 as sql"
   ]
  },
  {
   "cell_type": "code",
   "execution_count": 2,
   "id": "5145c8f4-f124-42d5-9db8-70cfddbe25b9",
   "metadata": {},
   "outputs": [],
   "source": [
    "cnn = sql.connect('test.db')"
   ]
  },
  {
   "cell_type": "code",
   "execution_count": 5,
   "id": "0939edbf-fa3b-4e42-8cc2-06b2a389e4ff",
   "metadata": {},
   "outputs": [],
   "source": [
    "%load_ext sql"
   ]
  },
  {
   "cell_type": "code",
   "execution_count": 6,
   "id": "44e126e9-51da-46a6-b960-2fdb080bc089",
   "metadata": {},
   "outputs": [],
   "source": [
    "%sql sqlite:///test.db"
   ]
  },
  {
   "cell_type": "markdown",
   "id": "4870d0c7-f3ae-452c-ace9-6d99ca1da1f0",
   "metadata": {},
   "source": [
    "##  % (wild card character) is used to for missing elements  "
   ]
  },
  {
   "cell_type": "code",
   "execution_count": 10,
   "id": "286a1d1c-c380-4d6d-9a5f-2f9fa0962f48",
   "metadata": {},
   "outputs": [
    {
     "name": "stdout",
     "output_type": "stream",
     "text": [
      " * sqlite:///test.db\n",
      "Done.\n"
     ]
    },
    {
     "data": {
      "text/html": [
       "<table>\n",
       "    <thead>\n",
       "        <tr>\n",
       "            <th>index</th>\n",
       "            <th>name</th>\n",
       "            <th>age</th>\n",
       "            <th>city</th>\n",
       "        </tr>\n",
       "    </thead>\n",
       "    <tbody>\n",
       "        <tr>\n",
       "            <td>0</td>\n",
       "            <td>amruth</td>\n",
       "            <td>23</td>\n",
       "            <td>richardson</td>\n",
       "        </tr>\n",
       "        <tr>\n",
       "            <td>1</td>\n",
       "            <td>akshath</td>\n",
       "            <td>34</td>\n",
       "            <td>bangalore</td>\n",
       "        </tr>\n",
       "        <tr>\n",
       "            <td>2</td>\n",
       "            <td>sharath</td>\n",
       "            <td>32</td>\n",
       "            <td>tonoto</td>\n",
       "        </tr>\n",
       "    </tbody>\n",
       "</table>"
      ],
      "text/plain": [
       "[(0, 'amruth', 23, 'richardson'),\n",
       " (1, 'akshath', 34, 'bangalore'),\n",
       " (2, 'sharath', 32, 'tonoto')]"
      ]
     },
     "execution_count": 10,
     "metadata": {},
     "output_type": "execute_result"
    }
   ],
   "source": [
    "%%sql \n",
    "select * from people where name like'%a%'"
   ]
  },
  {
   "cell_type": "markdown",
   "id": "b8af1495-2911-4cc1-aee4-43ae0abcdb8c",
   "metadata": {},
   "source": [
    "# Range"
   ]
  },
  {
   "cell_type": "code",
   "execution_count": 11,
   "id": "c703adaf-ff83-4a3c-b45f-3c1491401a65",
   "metadata": {},
   "outputs": [
    {
     "name": "stdout",
     "output_type": "stream",
     "text": [
      " * sqlite:///test.db\n",
      "Done.\n"
     ]
    },
    {
     "data": {
      "text/html": [
       "<table>\n",
       "    <thead>\n",
       "        <tr>\n",
       "            <th>index</th>\n",
       "            <th>name</th>\n",
       "            <th>age</th>\n",
       "            <th>city</th>\n",
       "        </tr>\n",
       "    </thead>\n",
       "    <tbody>\n",
       "        <tr>\n",
       "            <td>1</td>\n",
       "            <td>akshath</td>\n",
       "            <td>34</td>\n",
       "            <td>bangalore</td>\n",
       "        </tr>\n",
       "        <tr>\n",
       "            <td>2</td>\n",
       "            <td>sharath</td>\n",
       "            <td>32</td>\n",
       "            <td>tonoto</td>\n",
       "        </tr>\n",
       "    </tbody>\n",
       "</table>"
      ],
      "text/plain": [
       "[(1, 'akshath', 34, 'bangalore'), (2, 'sharath', 32, 'tonoto')]"
      ]
     },
     "execution_count": 11,
     "metadata": {},
     "output_type": "execute_result"
    }
   ],
   "source": [
    "%%sql\n",
    "select * from people where age>=30 and age<=40"
   ]
  },
  {
   "cell_type": "code",
   "execution_count": null,
   "id": "87345012-c3ee-4ac4-af3a-191a751eee83",
   "metadata": {},
   "outputs": [],
   "source": []
  }
 ],
 "metadata": {
  "kernelspec": {
   "display_name": "tf",
   "language": "python",
   "name": "tf"
  },
  "language_info": {
   "codemirror_mode": {
    "name": "ipython",
    "version": 3
   },
   "file_extension": ".py",
   "mimetype": "text/x-python",
   "name": "python",
   "nbconvert_exporter": "python",
   "pygments_lexer": "ipython3",
   "version": "3.9.18"
  }
 },
 "nbformat": 4,
 "nbformat_minor": 5
}
