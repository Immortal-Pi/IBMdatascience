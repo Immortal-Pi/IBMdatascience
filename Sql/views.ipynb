{
 "cells": [
  {
   "cell_type": "code",
   "execution_count": 1,
   "id": "1ce51c77-4a59-47cf-aa91-48c3aaa40917",
   "metadata": {},
   "outputs": [],
   "source": [
    "import pandas as pd\n",
    "import sqlite3 as sql\n",
    "import matplotlib.pyplot as plt"
   ]
  },
  {
   "cell_type": "code",
   "execution_count": 7,
   "id": "8870e004-9bbc-4b8e-a780-810d0e0d4db2",
   "metadata": {},
   "outputs": [],
   "source": [
    "cnn = sql.connect('HR.db')"
   ]
  },
  {
   "cell_type": "code",
   "execution_count": 4,
   "id": "d2ef03fd-fb00-4023-aa59-4fb584af626e",
   "metadata": {},
   "outputs": [],
   "source": [
    "%load_ext sql"
   ]
  },
  {
   "cell_type": "code",
   "execution_count": 8,
   "id": "c861ab51-bbe1-49b5-ac66-f2532cf7643c",
   "metadata": {},
   "outputs": [],
   "source": [
    "%sql sqlite:///HR.db"
   ]
  },
  {
   "cell_type": "code",
   "execution_count": 9,
   "id": "317cab1d-de16-4b56-aa1b-b8f332e2c885",
   "metadata": {},
   "outputs": [
    {
     "name": "stdout",
     "output_type": "stream",
     "text": [
      " * sqlite:///HR.db\n",
      "   sqlite:///test.db\n",
      "Done.\n"
     ]
    },
    {
     "data": {
      "text/html": [
       "<table>\n",
       "    <thead>\n",
       "        <tr>\n",
       "            <th>name</th>\n",
       "        </tr>\n",
       "    </thead>\n",
       "    <tbody>\n",
       "        <tr>\n",
       "            <td>jobsall</td>\n",
       "        </tr>\n",
       "        <tr>\n",
       "            <td>ix_jobsall_index</td>\n",
       "        </tr>\n",
       "        <tr>\n",
       "            <td>jobshistory</td>\n",
       "        </tr>\n",
       "        <tr>\n",
       "            <td>ix_jobshistory_index</td>\n",
       "        </tr>\n",
       "        <tr>\n",
       "            <td>locationsall</td>\n",
       "        </tr>\n",
       "        <tr>\n",
       "            <td>ix_locationsall_index</td>\n",
       "        </tr>\n",
       "        <tr>\n",
       "            <td>employeesll</td>\n",
       "        </tr>\n",
       "        <tr>\n",
       "            <td>ix_employeesll_index</td>\n",
       "        </tr>\n",
       "        <tr>\n",
       "            <td>department</td>\n",
       "        </tr>\n",
       "        <tr>\n",
       "            <td>EMPLOYEES</td>\n",
       "        </tr>\n",
       "        <tr>\n",
       "            <td>sqlite_autoindex_EMPLOYEES_1</td>\n",
       "        </tr>\n",
       "        <tr>\n",
       "            <td>JOB_HISTORY</td>\n",
       "        </tr>\n",
       "        <tr>\n",
       "            <td>sqlite_autoindex_JOB_HISTORY_1</td>\n",
       "        </tr>\n",
       "        <tr>\n",
       "            <td>JOBS</td>\n",
       "        </tr>\n",
       "        <tr>\n",
       "            <td>sqlite_autoindex_JOBS_1</td>\n",
       "        </tr>\n",
       "        <tr>\n",
       "            <td>DEPARTMENTS</td>\n",
       "        </tr>\n",
       "        <tr>\n",
       "            <td>sqlite_autoindex_DEPARTMENTS_1</td>\n",
       "        </tr>\n",
       "        <tr>\n",
       "            <td>LOCATIONS</td>\n",
       "        </tr>\n",
       "        <tr>\n",
       "            <td>sqlite_autoindex_LOCATIONS_1</td>\n",
       "        </tr>\n",
       "    </tbody>\n",
       "</table>"
      ],
      "text/plain": [
       "[('jobsall',),\n",
       " ('ix_jobsall_index',),\n",
       " ('jobshistory',),\n",
       " ('ix_jobshistory_index',),\n",
       " ('locationsall',),\n",
       " ('ix_locationsall_index',),\n",
       " ('employeesll',),\n",
       " ('ix_employeesll_index',),\n",
       " ('department',),\n",
       " ('EMPLOYEES',),\n",
       " ('sqlite_autoindex_EMPLOYEES_1',),\n",
       " ('JOB_HISTORY',),\n",
       " ('sqlite_autoindex_JOB_HISTORY_1',),\n",
       " ('JOBS',),\n",
       " ('sqlite_autoindex_JOBS_1',),\n",
       " ('DEPARTMENTS',),\n",
       " ('sqlite_autoindex_DEPARTMENTS_1',),\n",
       " ('LOCATIONS',),\n",
       " ('sqlite_autoindex_LOCATIONS_1',)]"
      ]
     },
     "execution_count": 9,
     "metadata": {},
     "output_type": "execute_result"
    }
   ],
   "source": [
    "%%sql\n",
    "select name from sqlite_master"
   ]
  },
  {
   "cell_type": "code",
   "execution_count": 11,
   "id": "c9a170c0-7995-4ffc-a863-efa3f395430d",
   "metadata": {},
   "outputs": [
    {
     "name": "stdout",
     "output_type": "stream",
     "text": [
      " * sqlite:///HR.db\n",
      "   sqlite:///test.db\n",
      "Done.\n"
     ]
    },
    {
     "data": {
      "text/plain": [
       "[]"
      ]
     },
     "execution_count": 11,
     "metadata": {},
     "output_type": "execute_result"
    }
   ],
   "source": [
    "%%sql\n",
    "create view empsalary as \n",
    "select emp_id,f_name,l_name,b_date,sex,salary from employees"
   ]
  },
  {
   "cell_type": "code",
   "execution_count": 13,
   "id": "d41bd1fe-5382-4ab1-acd0-667e17d95ce7",
   "metadata": {},
   "outputs": [
    {
     "name": "stdout",
     "output_type": "stream",
     "text": [
      " * sqlite:///HR.db\n",
      "   sqlite:///test.db\n",
      "Done.\n"
     ]
    },
    {
     "data": {
      "text/html": [
       "<table>\n",
       "    <thead>\n",
       "        <tr>\n",
       "            <th>EMP_ID</th>\n",
       "            <th>F_NAME</th>\n",
       "            <th>L_NAME</th>\n",
       "            <th>B_DATE</th>\n",
       "            <th>SEX</th>\n",
       "            <th>SALARY</th>\n",
       "        </tr>\n",
       "    </thead>\n",
       "    <tbody>\n",
       "        <tr>\n",
       "            <td>E1001</td>\n",
       "            <td>John</td>\n",
       "            <td>Thomas</td>\n",
       "            <td>01-09-1976</td>\n",
       "            <td>M</td>\n",
       "            <td>100000</td>\n",
       "        </tr>\n",
       "        <tr>\n",
       "            <td>E1002</td>\n",
       "            <td>Alice</td>\n",
       "            <td>James</td>\n",
       "            <td>31-07-1972</td>\n",
       "            <td>F</td>\n",
       "            <td>80000</td>\n",
       "        </tr>\n",
       "        <tr>\n",
       "            <td>E1003</td>\n",
       "            <td>Steve</td>\n",
       "            <td>Wells</td>\n",
       "            <td>08-10-1980</td>\n",
       "            <td>M</td>\n",
       "            <td>50000</td>\n",
       "        </tr>\n",
       "        <tr>\n",
       "            <td>E1004</td>\n",
       "            <td>Santosh</td>\n",
       "            <td>Kumar</td>\n",
       "            <td>20-07-1985</td>\n",
       "            <td>M</td>\n",
       "            <td>60000</td>\n",
       "        </tr>\n",
       "        <tr>\n",
       "            <td>E1005</td>\n",
       "            <td>Ahmed</td>\n",
       "            <td>Hussain</td>\n",
       "            <td>01-04-1981</td>\n",
       "            <td>M</td>\n",
       "            <td>70000</td>\n",
       "        </tr>\n",
       "        <tr>\n",
       "            <td>E1006</td>\n",
       "            <td>Nancy</td>\n",
       "            <td>Allen</td>\n",
       "            <td>02-06-1978</td>\n",
       "            <td>F</td>\n",
       "            <td>90000</td>\n",
       "        </tr>\n",
       "        <tr>\n",
       "            <td>E1007</td>\n",
       "            <td>Mary</td>\n",
       "            <td>Thomas</td>\n",
       "            <td>05-05-1975</td>\n",
       "            <td>F</td>\n",
       "            <td>65000</td>\n",
       "        </tr>\n",
       "        <tr>\n",
       "            <td>E1008</td>\n",
       "            <td>Bharath</td>\n",
       "            <td>Gupta</td>\n",
       "            <td>05-06-1985</td>\n",
       "            <td>M</td>\n",
       "            <td>65000</td>\n",
       "        </tr>\n",
       "        <tr>\n",
       "            <td>E1009</td>\n",
       "            <td>Andrea</td>\n",
       "            <td>Jones</td>\n",
       "            <td>07-09-1990</td>\n",
       "            <td>F</td>\n",
       "            <td>70000</td>\n",
       "        </tr>\n",
       "        <tr>\n",
       "            <td>E1010</td>\n",
       "            <td>Ann</td>\n",
       "            <td>Jacob</td>\n",
       "            <td>30-03-1982</td>\n",
       "            <td>F</td>\n",
       "            <td>70000</td>\n",
       "        </tr>\n",
       "    </tbody>\n",
       "</table>"
      ],
      "text/plain": [
       "[('E1001', 'John', 'Thomas', '01-09-1976', 'M', 100000),\n",
       " ('E1002', 'Alice', 'James', '31-07-1972', 'F', 80000),\n",
       " ('E1003', 'Steve', 'Wells', '08-10-1980', 'M', 50000),\n",
       " ('E1004', 'Santosh', 'Kumar', '20-07-1985', 'M', 60000),\n",
       " ('E1005', 'Ahmed', 'Hussain', '01-04-1981', 'M', 70000),\n",
       " ('E1006', 'Nancy', 'Allen', '02-06-1978', 'F', 90000),\n",
       " ('E1007', 'Mary', 'Thomas', '05-05-1975', 'F', 65000),\n",
       " ('E1008', 'Bharath', 'Gupta', '05-06-1985', 'M', 65000),\n",
       " ('E1009', 'Andrea', 'Jones', '07-09-1990', 'F', 70000),\n",
       " ('E1010', 'Ann', 'Jacob', '30-03-1982', 'F', 70000)]"
      ]
     },
     "execution_count": 13,
     "metadata": {},
     "output_type": "execute_result"
    }
   ],
   "source": [
    "%%sql\n",
    "select * from empsalary"
   ]
  },
  {
   "cell_type": "code",
   "execution_count": 15,
   "id": "c71e176a-1af3-489c-b99a-aebe947d14c7",
   "metadata": {},
   "outputs": [
    {
     "name": "stdout",
     "output_type": "stream",
     "text": [
      " * sqlite:///HR.db\n",
      "   sqlite:///test.db\n",
      "(sqlite3.OperationalError) cannot modify empsalary because it is a view\n",
      "[SQL: update empsalary set salary=20202 where emp_id='E1010']\n",
      "(Background on this error at: https://sqlalche.me/e/20/e3q8)\n"
     ]
    }
   ],
   "source": [
    "%%sql\n",
    "update empsalary set salary=20202 where emp_id='E1010'"
   ]
  },
  {
   "cell_type": "code",
   "execution_count": 27,
   "id": "31e9fa18-ccfe-47f9-99f9-beac6474dd99",
   "metadata": {},
   "outputs": [
    {
     "name": "stdout",
     "output_type": "stream",
     "text": [
      " * sqlite:///HR.db\n",
      "   sqlite:///test.db\n",
      "Done.\n",
      "Done.\n"
     ]
    },
    {
     "data": {
      "text/plain": [
       "[]"
      ]
     },
     "execution_count": 27,
     "metadata": {},
     "output_type": "execute_result"
    }
   ],
   "source": [
    "%%sql\n",
    "drop view if exists empsalary;\n",
    "create view if not exists empsalary as \n",
    "select emp_id,f_name,l_name,b_date,sex,job_title,min_salary,max_salary from employees, jobs where employees.job_id=jobs.job_ident"
   ]
  },
  {
   "cell_type": "code",
   "execution_count": 28,
   "id": "db9fad07-1034-43d5-b5aa-dd7eb3c5b8b8",
   "metadata": {},
   "outputs": [
    {
     "name": "stdout",
     "output_type": "stream",
     "text": [
      " * sqlite:///HR.db\n",
      "   sqlite:///test.db\n",
      "Done.\n"
     ]
    },
    {
     "data": {
      "text/html": [
       "<table>\n",
       "    <thead>\n",
       "        <tr>\n",
       "            <th>EMP_ID</th>\n",
       "            <th>F_NAME</th>\n",
       "            <th>L_NAME</th>\n",
       "            <th>B_DATE</th>\n",
       "            <th>SEX</th>\n",
       "            <th>JOB_TITLE</th>\n",
       "            <th>MIN_SALARY</th>\n",
       "            <th>MAX_SALARY</th>\n",
       "        </tr>\n",
       "    </thead>\n",
       "    <tbody>\n",
       "        <tr>\n",
       "            <td>E1001</td>\n",
       "            <td>John</td>\n",
       "            <td>Thomas</td>\n",
       "            <td>01-09-1976</td>\n",
       "            <td>M</td>\n",
       "            <td>Sr. Architect</td>\n",
       "            <td>60000</td>\n",
       "            <td>100000</td>\n",
       "        </tr>\n",
       "        <tr>\n",
       "            <td>E1002</td>\n",
       "            <td>Alice</td>\n",
       "            <td>James</td>\n",
       "            <td>31-07-1972</td>\n",
       "            <td>F</td>\n",
       "            <td>Sr. Software Developer</td>\n",
       "            <td>60000</td>\n",
       "            <td>80000</td>\n",
       "        </tr>\n",
       "        <tr>\n",
       "            <td>E1003</td>\n",
       "            <td>Steve</td>\n",
       "            <td>Wells</td>\n",
       "            <td>08-10-1980</td>\n",
       "            <td>M</td>\n",
       "            <td>Jr.Software Developer</td>\n",
       "            <td>40000</td>\n",
       "            <td>60000</td>\n",
       "        </tr>\n",
       "        <tr>\n",
       "            <td>E1004</td>\n",
       "            <td>Santosh</td>\n",
       "            <td>Kumar</td>\n",
       "            <td>20-07-1985</td>\n",
       "            <td>M</td>\n",
       "            <td>Jr.Software Developer</td>\n",
       "            <td>40000</td>\n",
       "            <td>60000</td>\n",
       "        </tr>\n",
       "        <tr>\n",
       "            <td>E1005</td>\n",
       "            <td>Ahmed</td>\n",
       "            <td>Hussain</td>\n",
       "            <td>01-04-1981</td>\n",
       "            <td>M</td>\n",
       "            <td>Jr. Architect</td>\n",
       "            <td>50000</td>\n",
       "            <td>70000</td>\n",
       "        </tr>\n",
       "        <tr>\n",
       "            <td>E1006</td>\n",
       "            <td>Nancy</td>\n",
       "            <td>Allen</td>\n",
       "            <td>02-06-1978</td>\n",
       "            <td>F</td>\n",
       "            <td>Lead Architect</td>\n",
       "            <td>70000</td>\n",
       "            <td>100000</td>\n",
       "        </tr>\n",
       "        <tr>\n",
       "            <td>E1007</td>\n",
       "            <td>Mary</td>\n",
       "            <td>Thomas</td>\n",
       "            <td>05-05-1975</td>\n",
       "            <td>F</td>\n",
       "            <td>Jr. Designer</td>\n",
       "            <td>60000</td>\n",
       "            <td>70000</td>\n",
       "        </tr>\n",
       "        <tr>\n",
       "            <td>E1008</td>\n",
       "            <td>Bharath</td>\n",
       "            <td>Gupta</td>\n",
       "            <td>05-06-1985</td>\n",
       "            <td>M</td>\n",
       "            <td>Jr. Designer</td>\n",
       "            <td>60000</td>\n",
       "            <td>70000</td>\n",
       "        </tr>\n",
       "        <tr>\n",
       "            <td>E1009</td>\n",
       "            <td>Andrea</td>\n",
       "            <td>Jones</td>\n",
       "            <td>07-09-1990</td>\n",
       "            <td>F</td>\n",
       "            <td>Sr. Designer</td>\n",
       "            <td>70000</td>\n",
       "            <td>90000</td>\n",
       "        </tr>\n",
       "        <tr>\n",
       "            <td>E1010</td>\n",
       "            <td>Ann</td>\n",
       "            <td>Jacob</td>\n",
       "            <td>30-03-1982</td>\n",
       "            <td>F</td>\n",
       "            <td>Sr. Designer</td>\n",
       "            <td>70000</td>\n",
       "            <td>90000</td>\n",
       "        </tr>\n",
       "    </tbody>\n",
       "</table>"
      ],
      "text/plain": [
       "[('E1001', 'John', 'Thomas', '01-09-1976', 'M', 'Sr. Architect', 60000, 100000),\n",
       " ('E1002', 'Alice', 'James', '31-07-1972', 'F', 'Sr. Software Developer', 60000, 80000),\n",
       " ('E1003', 'Steve', 'Wells', '08-10-1980', 'M', 'Jr.Software Developer', 40000, 60000),\n",
       " ('E1004', 'Santosh', 'Kumar', '20-07-1985', 'M', 'Jr.Software Developer', 40000, 60000),\n",
       " ('E1005', 'Ahmed', 'Hussain', '01-04-1981', 'M', 'Jr. Architect', 50000, 70000),\n",
       " ('E1006', 'Nancy', 'Allen', '02-06-1978', 'F', 'Lead Architect', 70000, 100000),\n",
       " ('E1007', 'Mary', 'Thomas', '05-05-1975', 'F', 'Jr. Designer', 60000, 70000),\n",
       " ('E1008', 'Bharath', 'Gupta', '05-06-1985', 'M', 'Jr. Designer', 60000, 70000),\n",
       " ('E1009', 'Andrea', 'Jones', '07-09-1990', 'F', 'Sr. Designer', 70000, 90000),\n",
       " ('E1010', 'Ann', 'Jacob', '30-03-1982', 'F', 'Sr. Designer', 70000, 90000)]"
      ]
     },
     "execution_count": 28,
     "metadata": {},
     "output_type": "execute_result"
    }
   ],
   "source": [
    "%%sql\n",
    "select * from empsalary"
   ]
  },
  {
   "cell_type": "markdown",
   "id": "7dd55b0f-e6ca-45e5-9dfb-76a6643ec653",
   "metadata": {},
   "source": [
    "# drop view"
   ]
  },
  {
   "cell_type": "code",
   "execution_count": 22,
   "id": "ae5c5aa0-125b-486e-b810-4750adc217fb",
   "metadata": {},
   "outputs": [
    {
     "name": "stdout",
     "output_type": "stream",
     "text": [
      " * sqlite:///HR.db\n",
      "   sqlite:///test.db\n",
      "Done.\n"
     ]
    },
    {
     "data": {
      "text/plain": [
       "[]"
      ]
     },
     "execution_count": 22,
     "metadata": {},
     "output_type": "execute_result"
    }
   ],
   "source": [
    "%%sql\n",
    "drop view empsalary"
   ]
  },
  {
   "cell_type": "code",
   "execution_count": 23,
   "id": "d9e6efbc-ca6b-4cda-b867-565bac2966a6",
   "metadata": {},
   "outputs": [
    {
     "name": "stdout",
     "output_type": "stream",
     "text": [
      " * sqlite:///HR.db\n",
      "   sqlite:///test.db\n",
      "(sqlite3.OperationalError) no such table: empsalary\n",
      "[SQL: select * from empsalary]\n",
      "(Background on this error at: https://sqlalche.me/e/20/e3q8)\n"
     ]
    }
   ],
   "source": [
    "%%sql\n",
    "select * from empsalary"
   ]
  },
  {
   "cell_type": "markdown",
   "id": "2012dd2b-322b-4acd-8cea-705145cd3477",
   "metadata": {},
   "source": [
    "# practive problems"
   ]
  },
  {
   "cell_type": "code",
   "execution_count": 25,
   "id": "7a57ebdb-4490-49ee-b065-e8da5f0db6d2",
   "metadata": {},
   "outputs": [
    {
     "name": "stdout",
     "output_type": "stream",
     "text": [
      " * sqlite:///HR.db\n",
      "   sqlite:///test.db\n",
      "Done.\n"
     ]
    },
    {
     "data": {
      "text/plain": [
       "[]"
      ]
     },
     "execution_count": 25,
     "metadata": {},
     "output_type": "execute_result"
    }
   ],
   "source": [
    "%%sql\n",
    "CREATE VIEW EMP_DEPT AS\n",
    "SELECT EMP_ID, F_NAME, L_NAME, DEP_ID\n",
    "FROM EMPLOYEES"
   ]
  },
  {
   "cell_type": "markdown",
   "id": "8c03f6f0-34eb-41e6-998a-97d4f057dc6a",
   "metadata": {},
   "source": [
    "# create or replace will not work in sqlite"
   ]
  },
  {
   "cell_type": "code",
   "execution_count": 29,
   "id": "4066231a-412f-492d-a482-014c4ba96994",
   "metadata": {},
   "outputs": [
    {
     "name": "stdout",
     "output_type": "stream",
     "text": [
      " * sqlite:///HR.db\n",
      "   sqlite:///test.db\n",
      "Done.\n",
      "Done.\n"
     ]
    },
    {
     "data": {
      "text/plain": [
       "[]"
      ]
     },
     "execution_count": 29,
     "metadata": {},
     "output_type": "execute_result"
    }
   ],
   "source": [
    "%%sql\n",
    "drop view if exists emp_dept;\n",
    "create view emp_dept as \n",
    "SELECT EMP_ID, F_NAME, L_NAME, DEP_NAME\n",
    "FROM EMPLOYEES, DEPARTMENTS\n",
    "WHERE EMPLOYEES.DEP_ID = DEPARTMENTS.DEPT_ID_DEP; "
   ]
  },
  {
   "cell_type": "code",
   "execution_count": 30,
   "id": "9a324022-271c-4fe0-8c1c-2015b668da1d",
   "metadata": {},
   "outputs": [
    {
     "name": "stdout",
     "output_type": "stream",
     "text": [
      " * sqlite:///HR.db\n",
      "   sqlite:///test.db\n",
      "Done.\n"
     ]
    },
    {
     "data": {
      "text/html": [
       "<table>\n",
       "    <thead>\n",
       "        <tr>\n",
       "            <th>EMP_ID</th>\n",
       "            <th>F_NAME</th>\n",
       "            <th>L_NAME</th>\n",
       "            <th>DEP_NAME</th>\n",
       "        </tr>\n",
       "    </thead>\n",
       "    <tbody>\n",
       "        <tr>\n",
       "            <td>E1001</td>\n",
       "            <td>John</td>\n",
       "            <td>Thomas</td>\n",
       "            <td>Architect Group</td>\n",
       "        </tr>\n",
       "        <tr>\n",
       "            <td>E1002</td>\n",
       "            <td>Alice</td>\n",
       "            <td>James</td>\n",
       "            <td>Software Group</td>\n",
       "        </tr>\n",
       "        <tr>\n",
       "            <td>E1003</td>\n",
       "            <td>Steve</td>\n",
       "            <td>Wells</td>\n",
       "            <td>Software Group</td>\n",
       "        </tr>\n",
       "        <tr>\n",
       "            <td>E1004</td>\n",
       "            <td>Santosh</td>\n",
       "            <td>Kumar</td>\n",
       "            <td>Software Group</td>\n",
       "        </tr>\n",
       "        <tr>\n",
       "            <td>E1005</td>\n",
       "            <td>Ahmed</td>\n",
       "            <td>Hussain</td>\n",
       "            <td>Architect Group</td>\n",
       "        </tr>\n",
       "        <tr>\n",
       "            <td>E1006</td>\n",
       "            <td>Nancy</td>\n",
       "            <td>Allen</td>\n",
       "            <td>Architect Group</td>\n",
       "        </tr>\n",
       "        <tr>\n",
       "            <td>E1007</td>\n",
       "            <td>Mary</td>\n",
       "            <td>Thomas</td>\n",
       "            <td>Design Team</td>\n",
       "        </tr>\n",
       "        <tr>\n",
       "            <td>E1008</td>\n",
       "            <td>Bharath</td>\n",
       "            <td>Gupta</td>\n",
       "            <td>Design Team</td>\n",
       "        </tr>\n",
       "        <tr>\n",
       "            <td>E1009</td>\n",
       "            <td>Andrea</td>\n",
       "            <td>Jones</td>\n",
       "            <td>Design Team</td>\n",
       "        </tr>\n",
       "        <tr>\n",
       "            <td>E1010</td>\n",
       "            <td>Ann</td>\n",
       "            <td>Jacob</td>\n",
       "            <td>Software Group</td>\n",
       "        </tr>\n",
       "    </tbody>\n",
       "</table>"
      ],
      "text/plain": [
       "[('E1001', 'John', 'Thomas', 'Architect Group'),\n",
       " ('E1002', 'Alice', 'James', 'Software Group'),\n",
       " ('E1003', 'Steve', 'Wells', 'Software Group'),\n",
       " ('E1004', 'Santosh', 'Kumar', 'Software Group'),\n",
       " ('E1005', 'Ahmed', 'Hussain', 'Architect Group'),\n",
       " ('E1006', 'Nancy', 'Allen', 'Architect Group'),\n",
       " ('E1007', 'Mary', 'Thomas', 'Design Team'),\n",
       " ('E1008', 'Bharath', 'Gupta', 'Design Team'),\n",
       " ('E1009', 'Andrea', 'Jones', 'Design Team'),\n",
       " ('E1010', 'Ann', 'Jacob', 'Software Group')]"
      ]
     },
     "execution_count": 30,
     "metadata": {},
     "output_type": "execute_result"
    }
   ],
   "source": [
    "%%sql\n",
    "select * from emp_dept"
   ]
  },
  {
   "cell_type": "code",
   "execution_count": null,
   "id": "8a69d15b-5f41-4807-8e63-58019151d43a",
   "metadata": {},
   "outputs": [],
   "source": []
  }
 ],
 "metadata": {
  "kernelspec": {
   "display_name": "tf",
   "language": "python",
   "name": "tf"
  },
  "language_info": {
   "codemirror_mode": {
    "name": "ipython",
    "version": 3
   },
   "file_extension": ".py",
   "mimetype": "text/x-python",
   "name": "python",
   "nbconvert_exporter": "python",
   "pygments_lexer": "ipython3",
   "version": "3.9.18"
  }
 },
 "nbformat": 4,
 "nbformat_minor": 5
}
