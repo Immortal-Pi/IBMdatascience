{
 "cells": [
  {
   "cell_type": "markdown",
   "id": "16989920-4e7f-4860-b4a2-0d068224dd0c",
   "metadata": {},
   "source": [
    "# Data Science Tools and Ecosystem"
   ]
  },
  {
   "cell_type": "markdown",
   "id": "c2bfa745-8e9d-4a40-b03d-c6fd91cf0e4d",
   "metadata": {},
   "source": [
    "## In this notebook, Data Science Tools and Ecosystem are summarized."
   ]
  },
  {
   "cell_type": "markdown",
   "id": "ae94f83e-c20d-49a6-86b5-97b7038155dc",
   "metadata": {},
   "source": [
    "### Some of the popular languages that Data Scientists use are:\n",
    "1. python\n",
    "2. SQL\n",
    "3. R\n",
    "4. Julia\n",
    "5. JavaScript\n",
    "6. Scala\n",
    "7. Java\n"
   ]
  },
  {
   "cell_type": "markdown",
   "id": "dae1d92b-34c2-443c-9999-c887bc22882b",
   "metadata": {},
   "source": [
    "### Some of the commonly used libraries used by Data Scientists include:\n",
    "1. matplotlab\n",
    "2. pandas\n",
    "3. numpy\n",
    "4. tensorflow\n",
    "5. seaborn\n",
    "6. pyTorch"
   ]
  },
  {
   "cell_type": "markdown",
   "id": "28b6c13c-899b-48c2-9e42-cec83e82672c",
   "metadata": {},
   "source": [
    "| Data Science Tools |\n",
    "|:----:|\n",
    "| python |\n",
    "|R|\n",
    "| Apache Spark |"
   ]
  },
  {
   "cell_type": "markdown",
   "id": "e0ee6c75-0366-4e2c-9885-2f991b64df75",
   "metadata": {},
   "source": [
    "### Below are a few examples of evaluating arithmetic expressions in Python"
   ]
  },
  {
   "cell_type": "markdown",
   "id": "2671d575-883f-47a9-92be-78a0be5de57c",
   "metadata": {},
   "source": [
    "#### This a simple arithmetic expression to mutiply then add integers."
   ]
  },
  {
   "cell_type": "code",
   "execution_count": 2,
   "id": "6de752d1-3541-4352-8e6f-8f2997baa7d9",
   "metadata": {},
   "outputs": [
    {
     "data": {
      "text/plain": [
       "17"
      ]
     },
     "execution_count": 2,
     "metadata": {},
     "output_type": "execute_result"
    }
   ],
   "source": [
    "(3*4)+5"
   ]
  },
  {
   "cell_type": "markdown",
   "id": "427b79f4-670a-4fda-96e6-18d89aad54e0",
   "metadata": {},
   "source": [
    "#### This will convert 200 minutes to hours by diving by 60."
   ]
  },
  {
   "cell_type": "code",
   "execution_count": 5,
   "id": "1eb71905-c2e4-4c4f-8991-b804766a268d",
   "metadata": {},
   "outputs": [
    {
     "name": "stdout",
     "output_type": "stream",
     "text": [
      "200 minutes is 3.3333333333333335 hours\n"
     ]
    }
   ],
   "source": [
    "minutes=200\n",
    "hours=minutes/60\n",
    "print(f'{minutes} minutes is {hours} hours')"
   ]
  },
  {
   "cell_type": "markdown",
   "id": "c3206e14-f01a-43a0-8dec-6ed11207c540",
   "metadata": {},
   "source": [
    "### **objectives:** \n",
    "- list popular languages for data science\n",
    "- commonly used libraries used by Data Scientists\n",
    "- arithmetic expressions\n",
    "- convert minutes to hours "
   ]
  },
  {
   "cell_type": "markdown",
   "id": "505f8cb6-4770-4255-972c-ddc69c020e1a",
   "metadata": {},
   "source": [
    "## Author \n",
    "Thukaram Amruth Pai"
   ]
  },
  {
   "cell_type": "code",
   "execution_count": null,
   "id": "ed877075-70f3-48eb-8074-7529f74171ab",
   "metadata": {},
   "outputs": [],
   "source": []
  }
 ],
 "metadata": {
  "kernelspec": {
   "display_name": "Python 3 (ipykernel)",
   "language": "python",
   "name": "python3"
  },
  "language_info": {
   "codemirror_mode": {
    "name": "ipython",
    "version": 3
   },
   "file_extension": ".py",
   "mimetype": "text/x-python",
   "name": "python",
   "nbconvert_exporter": "python",
   "pygments_lexer": "ipython3",
   "version": "3.11.8"
  }
 },
 "nbformat": 4,
 "nbformat_minor": 5
}
