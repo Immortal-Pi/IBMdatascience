{
 "cells": [
  {
   "cell_type": "markdown",
   "id": "09fd7155-dd2d-4695-8103-4bd73c093f18",
   "metadata": {},
   "source": [
    "# obviously the hello world "
   ]
  },
  {
   "cell_type": "code",
   "execution_count": 1,
   "id": "b3ed6ad5-91c0-4a1d-996a-2830f1921066",
   "metadata": {},
   "outputs": [
    {
     "name": "stdout",
     "output_type": "stream",
     "text": [
      "hello world\n"
     ]
    }
   ],
   "source": [
    "print('hello world')"
   ]
  },
  {
   "cell_type": "code",
   "execution_count": 2,
   "id": "e587b1cb-ced3-4b58-911d-a4f7083e4a4a",
   "metadata": {},
   "outputs": [
    {
     "name": "stdout",
     "output_type": "stream",
     "text": [
      "3.9.18 (main, Sep 11 2023, 14:09:26) [MSC v.1916 64 bit (AMD64)]\n"
     ]
    }
   ],
   "source": [
    "# version of python\n",
    "import sys\n",
    "print(sys.version)"
   ]
  },
  {
   "cell_type": "code",
   "execution_count": 6,
   "id": "89c325e3-7b36-42ba-9b85-35ee696f0017",
   "metadata": {},
   "outputs": [
    {
     "data": {
      "text/plain": [
       "5"
      ]
     },
     "execution_count": 6,
     "metadata": {},
     "output_type": "execute_result"
    }
   ],
   "source": [
    "x,y=2,3\n",
    "z=x+y\n",
    "z"
   ]
  },
  {
   "cell_type": "markdown",
   "id": "58e199b5-892d-4453-9aa3-43436dd90f21",
   "metadata": {},
   "source": [
    "# type casting"
   ]
  },
  {
   "cell_type": "code",
   "execution_count": 13,
   "id": "6d07325d-703f-4da5-9f47-fb8d09bff9e8",
   "metadata": {},
   "outputs": [
    {
     "data": {
      "text/plain": [
       "(2.0, 1, 2, '3.2')"
      ]
     },
     "execution_count": 13,
     "metadata": {},
     "output_type": "execute_result"
    }
   ],
   "source": [
    "# typecasting \n",
    "float(2), int(1.1), int('2'), str(3.2)#error int('A')"
   ]
  },
  {
   "cell_type": "code",
   "execution_count": 20,
   "id": "ec003f04-8ecf-422e-bcdb-8f1ea44987bd",
   "metadata": {},
   "outputs": [
    {
     "data": {
      "text/plain": [
       "(1, 0)"
      ]
     },
     "execution_count": 20,
     "metadata": {},
     "output_type": "execute_result"
    }
   ],
   "source": [
    "# boolean \n",
    "a=type(True)\n",
    "b=type(False)\n",
    "# type cast a boolean value to int\n",
    "int(True), int(False)"
   ]
  },
  {
   "cell_type": "code",
   "execution_count": 26,
   "id": "e91b14e8-4cec-48ed-a571-36507cff3ed4",
   "metadata": {},
   "outputs": [
    {
     "data": {
      "text/plain": [
       "(int, 2.0, float, 1.2)"
      ]
     },
     "execution_count": 26,
     "metadata": {},
     "output_type": "execute_result"
    }
   ],
   "source": [
    "#typecasting\n",
    "type(-1), float(2), type(float(3)), float('1.2')"
   ]
  },
  {
   "cell_type": "code",
   "execution_count": 23,
   "id": "c9b27bd1-a909-4b65-b98c-d65c26910e9c",
   "metadata": {},
   "outputs": [
    {
     "data": {
      "text/plain": [
       "sys.float_info(max=1.7976931348623157e+308, max_exp=1024, max_10_exp=308, min=2.2250738585072014e-308, min_exp=-1021, min_10_exp=-307, dig=15, mant_dig=53, epsilon=2.220446049250313e-16, radix=2, rounds=1)"
      ]
     },
     "execution_count": 23,
     "metadata": {},
     "output_type": "execute_result"
    }
   ],
   "source": [
    " sys.float_info"
   ]
  },
  {
   "cell_type": "code",
   "execution_count": 28,
   "id": "1e42a1e2-6b5a-4642-a7b8-2a79cd3ab034",
   "metadata": {},
   "outputs": [
    {
     "data": {
      "text/plain": [
       "(3.0, 3)"
      ]
     },
     "execution_count": 28,
     "metadata": {},
     "output_type": "execute_result"
    }
   ],
   "source": [
    "6/2, 6//2"
   ]
  },
  {
   "cell_type": "code",
   "execution_count": 31,
   "id": "87a8ab7b-11ea-473c-83fe-506410f03df3",
   "metadata": {},
   "outputs": [
    {
     "data": {
      "text/plain": [
       "bool"
      ]
     },
     "execution_count": 31,
     "metadata": {},
     "output_type": "execute_result"
    }
   ],
   "source": [
    "type('hello'=='world')"
   ]
  },
  {
   "cell_type": "code",
   "execution_count": 32,
   "id": "821738c1-a0fa-4d7d-bf96-73db22626dce",
   "metadata": {},
   "outputs": [
    {
     "name": "stdout",
     "output_type": "stream",
     "text": [
      "progress: 9/10\n",
      " task complete\n"
     ]
    }
   ],
   "source": [
    "import time\n",
    "\n",
    "for i in range(10):\n",
    "    print(f'progress: {i}/10', end='\\r')\n",
    "    time.sleep(1)\n",
    "print('\\n task complete')"
   ]
  },
  {
   "cell_type": "code",
   "execution_count": null,
   "id": "2e6ccb01-3fdb-41b1-8806-aeeaf71187e1",
   "metadata": {},
   "outputs": [],
   "source": []
  }
 ],
 "metadata": {
  "kernelspec": {
   "display_name": "tf",
   "language": "python",
   "name": "tf"
  },
  "language_info": {
   "codemirror_mode": {
    "name": "ipython",
    "version": 3
   },
   "file_extension": ".py",
   "mimetype": "text/x-python",
   "name": "python",
   "nbconvert_exporter": "python",
   "pygments_lexer": "ipython3",
   "version": "3.9.18"
  }
 },
 "nbformat": 4,
 "nbformat_minor": 5
}
