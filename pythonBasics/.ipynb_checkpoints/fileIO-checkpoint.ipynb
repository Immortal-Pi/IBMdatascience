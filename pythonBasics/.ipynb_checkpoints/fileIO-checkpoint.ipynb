{
 "cells": [
  {
   "cell_type": "markdown",
   "id": "07b3e57b-bd73-46aa-9ce2-b6c4d870457b",
   "metadata": {},
   "source": [
    "# FIle I/O\n",
    "- file.name\n",
    "- file.mode\n",
    "- file.close or with statement - closes the file automatically\n",
    "- readline - list the lines \n"
   ]
  },
  {
   "cell_type": "markdown",
   "id": "df7b26e3-4ea0-44b9-a91d-1a56c45befaa",
   "metadata": {},
   "source": [
    "## methods of opening a file \n",
    "    - open\n",
    "    - with"
   ]
  },
  {
   "cell_type": "code",
   "execution_count": 15,
   "id": "9d1f9d22-6d31-4e00-b012-66baf956a794",
   "metadata": {},
   "outputs": [
    {
     "data": {
      "text/plain": [
       "['exception handling\\n',\n",
       " 'aaef\\n',\n",
       " 'adawd\\n',\n",
       " '\\n',\n",
       " 'rg\\n',\n",
       " 'drg\\n',\n",
       " 'drt\\n',\n",
       " 'dth\\n',\n",
       " 'dthdrgrgasdfasdfasdfasdf\\n',\n",
       " 'asdf\\\\nasdfasdf\\n',\n",
       " 'asdf\\n',\n",
       " 'asdf\\n']"
      ]
     },
     "execution_count": 15,
     "metadata": {},
     "output_type": "execute_result"
    }
   ],
   "source": [
    "file = open('datasets/myfile.txt','r')\n",
    "a=file.readlines()\n",
    "file.close()\n",
    "a"
   ]
  },
  {
   "cell_type": "code",
   "execution_count": 16,
   "id": "70994a93-89db-4cbf-b03f-2cccca8fd550",
   "metadata": {},
   "outputs": [
    {
     "data": {
      "text/plain": [
       "['exception handling\\n',\n",
       " 'aaef\\n',\n",
       " 'adawd\\n',\n",
       " '\\n',\n",
       " 'rg\\n',\n",
       " 'drg\\n',\n",
       " 'drt\\n',\n",
       " 'dth\\n',\n",
       " 'dthdrgrgasdfasdfasdfasdf\\n',\n",
       " 'asdf\\\\nasdfasdf\\n',\n",
       " 'asdf\\n',\n",
       " 'asdf\\n']"
      ]
     },
     "execution_count": 16,
     "metadata": {},
     "output_type": "execute_result"
    }
   ],
   "source": [
    "with open('datasets/myfile.txt','r') as file:\n",
    "    text=file.readlines()\n",
    "    \n",
    "text"
   ]
  },
  {
   "cell_type": "code",
   "execution_count": 19,
   "id": "90d58738-28dd-40d2-bd9d-adaf19066c43",
   "metadata": {},
   "outputs": [
    {
     "data": {
      "text/plain": [
       "'handl'"
      ]
     },
     "execution_count": 19,
     "metadata": {},
     "output_type": "execute_result"
    }
   ],
   "source": [
    "\n",
    "with open('datasets/myfile.txt','r') as file:\n",
    "    file.seek(10) # position to 10\n",
    "    text=file.readline(5) # read next 5 \n",
    "text"
   ]
  },
  {
   "cell_type": "markdown",
   "id": "ea5d96e1-67e2-41ee-846f-779912293530",
   "metadata": {},
   "source": [
    "# read the file using pandas"
   ]
  },
  {
   "cell_type": "code",
   "execution_count": 20,
   "id": "7100a1cd-5e61-4741-b66e-2a3523ecef8e",
   "metadata": {},
   "outputs": [],
   "source": [
    "import pandas as pd"
   ]
  },
  {
   "cell_type": "code",
   "execution_count": 21,
   "id": "87f0b41d-8f6b-4514-a3d8-4d131dc1e273",
   "metadata": {},
   "outputs": [],
   "source": [
    "file = open('datasets/myfile1.txt','r')"
   ]
  },
  {
   "cell_type": "code",
   "execution_count": 23,
   "id": "1b577b9a-1c39-486b-8a71-7a1be937bb36",
   "metadata": {},
   "outputs": [
    {
     "data": {
      "text/plain": [
       "('r', 'datasets/myfile1.txt')"
      ]
     },
     "execution_count": 23,
     "metadata": {},
     "output_type": "execute_result"
    }
   ],
   "source": [
    "file.mode, file.name"
   ]
  },
  {
   "cell_type": "code",
   "execution_count": 28,
   "id": "e43f80bf-47e5-4d29-9421-ff51bda3f19a",
   "metadata": {},
   "outputs": [
    {
     "name": "stdout",
     "output_type": "stream",
     "text": [
      "This is line 1 \n",
      "\n",
      "This is line 2\n",
      "This \n"
     ]
    }
   ],
   "source": [
    "with open ('datasets/myfile1.txt','r') as file:\n",
    "    print(file.readline(20))\n",
    "    print(file.read(20))"
   ]
  },
  {
   "cell_type": "markdown",
   "id": "641c7516-40d0-455f-8d86-24e0d036a056",
   "metadata": {},
   "source": [
    "# write to a file"
   ]
  },
  {
   "cell_type": "code",
   "execution_count": 31,
   "id": "d4891965-37f5-4dd7-920d-15e6a44e3445",
   "metadata": {},
   "outputs": [],
   "source": [
    "lines=['This is line 1\\n','This is line 2\\n','This is line 3\\n']\n",
    "with open ('datasets/myfile3.txt','w') as file:\n",
    "    # for line in lines:\n",
    "    #     file.write(line)\n",
    "    file.writelines(lines)"
   ]
  },
  {
   "cell_type": "markdown",
   "id": "7d1ac1ff-17ce-4454-a439-e8e5d4dffa3b",
   "metadata": {},
   "source": [
    "# append to a file"
   ]
  },
  {
   "cell_type": "code",
   "execution_count": 32,
   "id": "fdc636ad-c094-489b-9d88-098580b4ef6e",
   "metadata": {},
   "outputs": [],
   "source": [
    "lines=['This is line 4\\n','This is line 5\\n','This is line 6\\n']\n",
    "with open ('datasets/myfile3.txt','a') as file:\n",
    "    file.writelines(lines)"
   ]
  },
  {
   "cell_type": "markdown",
   "id": "39340f8a-0511-432c-b99a-703a2f5671b1",
   "metadata": {},
   "source": [
    "# Exercise"
   ]
  },
  {
   "cell_type": "code",
   "execution_count": 73,
   "id": "ce7cd778-8c8c-4351-8383-96cf01133aee",
   "metadata": {},
   "outputs": [],
   "source": [
    "from random import randint as rnd\n",
    "\n",
    "memReg = 'datasets/members.txt'\n",
    "exReg = 'datasets/inactive.txt'\n",
    "fee =('yes','no')\n",
    "\n",
    "def genFiles(current,old):\n",
    "    with open(current,'w+') as writefile: \n",
    "        writefile.write('Membership No  Date Joined  Active  \\n')\n",
    "        data = \"{:^13}  {:<11}  {:<6}\\n\"\n",
    "\n",
    "        for rowno in range(20):\n",
    "            date = str(rnd(2015,2020))+ '-' + str(rnd(1,12))+'-'+str(rnd(1,25))\n",
    "            writefile.write(data.format(rnd(10000,99999),date,fee[rnd(0,1)]))\n",
    "\n",
    "\n",
    "    with open(old,'w+') as writefile: \n",
    "        writefile.write('Membership No  Date Joined  Active  \\n')\n",
    "        data = \"{:^13}  {:<11}  {:<6}\\n\"\n",
    "        for rowno in range(3):\n",
    "            date = str(rnd(2015,2020))+ '-' + str(rnd(1,12))+'-'+str(rnd(1,25))\n",
    "            writefile.write(data.format(rnd(10000,99999),date,fee[1]))\n",
    "\n",
    "\n",
    "genFiles(memReg,exReg)\n"
   ]
  },
  {
   "cell_type": "code",
   "execution_count": 78,
   "id": "5dfaa2c1-0168-42fa-bc6b-21a5077a916a",
   "metadata": {},
   "outputs": [],
   "source": [
    "def cleanFiles(currentMem,exMem):\n",
    "   with open('datasets/members.txt','r+') as member:\n",
    "       member_lines=member.readlines()\n",
    "       # print(member_lines)\n",
    "       header=member_lines[0]\n",
    "       member_lines.pop(0)\n",
    "       inactive=[member for member in member_lines if 'no' in member]\n",
    "       with open ('datasets/inactive.txt','a+') as exmember:\n",
    "           member.seek(0)\n",
    "           member.write(member_lines[0])\n",
    "           for m in member_lines:\n",
    "               if m in inactive:\n",
    "                   exmember.write(m)\n",
    "               else:\n",
    "                   member.write(m)\n",
    "           member.truncate()\n",
    "       print(member_lines)\n",
    "       print(len(inactive))\n",
    "       "
   ]
  },
  {
   "cell_type": "code",
   "execution_count": 79,
   "id": "ee1e87a5-263e-44e0-95fa-bc46865d7d73",
   "metadata": {},
   "outputs": [
    {
     "name": "stdout",
     "output_type": "stream",
     "text": [
      "['    42451      2016-5-22    yes   \\n', '    92512      2017-9-9     no    \\n', '    58453      2015-8-12    no    \\n', '    20872      2016-12-15   no    \\n', '    10021      2017-5-8     yes   \\n', '    66475      2016-1-16    yes   \\n', '    52039      2017-10-7    no    \\n', '    13565      2019-5-9     no    \\n', '    33622      2020-3-23    yes   \\n', '    53706      2018-5-11    yes   \\n', '    70418      2016-8-22    yes   \\n', '    38348      2016-12-4    yes   \\n', '    80272      2017-4-14    no    \\n', '    12741      2015-3-9     no    \\n', '    29478      2015-10-10   no    \\n', '    56770      2016-11-5    yes   \\n', '    67062      2017-5-7     yes   \\n', '    15766      2017-3-7     no    \\n', '    99811      2020-2-19    yes   \\n', '    34789      2015-4-21    no    \\n']\n",
      "10\n",
      "Active Members: \n",
      "\n",
      "\n",
      "    42451      2016-5-22    yes   \n",
      "    42451      2016-5-22    yes   \n",
      "    10021      2017-5-8     yes   \n",
      "    66475      2016-1-16    yes   \n",
      "    33622      2020-3-23    yes   \n",
      "    53706      2018-5-11    yes   \n",
      "    70418      2016-8-22    yes   \n",
      "    38348      2016-12-4    yes   \n",
      "    56770      2016-11-5    yes   \n",
      "    67062      2017-5-7     yes   \n",
      "    99811      2020-2-19    yes   \n",
      "\n",
      "Inactive Members: \n",
      "\n",
      "\n",
      "Membership No  Date Joined  Active  \n",
      "    81479      2019-11-3    no    \n",
      "    98529      2018-8-11    no    \n",
      "    82721      2018-2-9     no    \n",
      "    92512      2017-9-9     no    \n",
      "    58453      2015-8-12    no    \n",
      "    20872      2016-12-15   no    \n",
      "    52039      2017-10-7    no    \n",
      "    13565      2019-5-9     no    \n",
      "    80272      2017-4-14    no    \n",
      "    12741      2015-3-9     no    \n",
      "    29478      2015-10-10   no    \n",
      "    15766      2017-3-7     no    \n",
      "    34789      2015-4-21    no    \n",
      "\n"
     ]
    }
   ],
   "source": [
    "memReg = 'datasets/members.txt'\n",
    "exReg = 'datasets/inactive.txt'\n",
    "cleanFiles(memReg,exReg)\n",
    "\n",
    "\n",
    "headers = \"Membership No  Date Joined  Active  \\n\"\n",
    "with open(memReg,'r') as readFile:\n",
    "    print(\"Active Members: \\n\\n\")\n",
    "    print(readFile.read())\n",
    "    \n",
    "with open(exReg,'r') as readFile:\n",
    "    print(\"Inactive Members: \\n\\n\")\n",
    "    print(readFile.read())\n",
    "                \n"
   ]
  },
  {
   "cell_type": "code",
   "execution_count": null,
   "id": "21aba656-09b7-4754-9026-baf1791a33c5",
   "metadata": {},
   "outputs": [],
   "source": []
  }
 ],
 "metadata": {
  "kernelspec": {
   "display_name": "tf",
   "language": "python",
   "name": "tf"
  },
  "language_info": {
   "codemirror_mode": {
    "name": "ipython",
    "version": 3
   },
   "file_extension": ".py",
   "mimetype": "text/x-python",
   "name": "python",
   "nbconvert_exporter": "python",
   "pygments_lexer": "ipython3",
   "version": "3.9.18"
  }
 },
 "nbformat": 4,
 "nbformat_minor": 5
}
