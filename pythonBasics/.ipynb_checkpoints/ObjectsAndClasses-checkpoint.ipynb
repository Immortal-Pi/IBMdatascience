{
 "cells": [
  {
   "cell_type": "markdown",
   "id": "d7e45564-3fd6-44d8-800c-4fea117dff87",
   "metadata": {},
   "source": [
    "# object : Type"
   ]
  },
  {
   "cell_type": "code",
   "execution_count": 5,
   "id": "dd72aa4e-338b-486e-b72c-1713a226413c",
   "metadata": {},
   "outputs": [
    {
     "name": "stdout",
     "output_type": "stream",
     "text": [
      "<class 'list'>\n",
      "<class 'tuple'>\n",
      "<class 'str'>\n"
     ]
    }
   ],
   "source": [
    "print(type([1,2,3,4]))\n",
    "print(type((1,2,3,4)))\n",
    "print(type('hello'))"
   ]
  },
  {
   "cell_type": "markdown",
   "id": "98b94d28-d334-4d62-8548-1ce5a8533b75",
   "metadata": {},
   "source": [
    "# methonds "
   ]
  },
  {
   "cell_type": "code",
   "execution_count": 7,
   "id": "1bfbbcc6-07f8-4f17-8c08-2e20c631ee46",
   "metadata": {},
   "outputs": [
    {
     "data": {
      "text/plain": [
       "[2, 3, 5, 6, 13, 23, 23, 434, 2342]"
      ]
     },
     "execution_count": 7,
     "metadata": {},
     "output_type": "execute_result"
    }
   ],
   "source": [
    "rating =[13,434,23,2,5,6,2342,3,23]\n",
    "rating.sort()\n",
    "rating"
   ]
  },
  {
   "cell_type": "code",
   "execution_count": 17,
   "id": "6b0eb9f6-240f-4670-aa3a-68a6b0eae6a2",
   "metadata": {},
   "outputs": [
    {
     "name": "stdout",
     "output_type": "stream",
     "text": [
      "color: red radius: 10\n"
     ]
    }
   ],
   "source": [
    "class circle:\n",
    "    def __init__(self,color, radius):\n",
    "        self.color=color\n",
    "        self.radius=radius\n",
    "\n",
    "    def __str__(self):\n",
    "        return f'color: {self.color} radius: {self.radius}'\n",
    "c1=circle('red', 10)\n",
    "print(c1)"
   ]
  },
  {
   "cell_type": "code",
   "execution_count": 20,
   "id": "e7cc6b91-7aa9-45d0-a2b1-3f0bab280b2d",
   "metadata": {},
   "outputs": [
    {
     "name": "stdin",
     "output_type": "stream",
     "text": [
      " adwa\n"
     ]
    },
    {
     "data": {
      "text/plain": [
       "'adwa'"
      ]
     },
     "execution_count": 20,
     "metadata": {},
     "output_type": "execute_result"
    }
   ],
   "source": [
    "a=input('')\n",
    "a"
   ]
  },
  {
   "cell_type": "code",
   "execution_count": null,
   "id": "238e3473-10ec-4780-ad09-f898359b688b",
   "metadata": {},
   "outputs": [],
   "source": []
  }
 ],
 "metadata": {
  "kernelspec": {
   "display_name": "tf",
   "language": "python",
   "name": "tf"
  },
  "language_info": {
   "codemirror_mode": {
    "name": "ipython",
    "version": 3
   },
   "file_extension": ".py",
   "mimetype": "text/x-python",
   "name": "python",
   "nbconvert_exporter": "python",
   "pygments_lexer": "ipython3",
   "version": "3.9.18"
  }
 },
 "nbformat": 4,
 "nbformat_minor": 5
}
