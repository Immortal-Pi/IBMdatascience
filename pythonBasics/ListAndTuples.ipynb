{
 "cells": [
  {
   "cell_type": "markdown",
   "id": "b99529f6-5df3-45f7-893b-eac72f02b7a0",
   "metadata": {},
   "source": [
    "# Tuples (Immutable)"
   ]
  },
  {
   "cell_type": "code",
   "execution_count": 5,
   "id": "ec1472b1-4e59-4a70-b8db-87a893f30692",
   "metadata": {},
   "outputs": [
    {
     "data": {
      "text/plain": [
       "((1, '12', 23.3), tuple)"
      ]
     },
     "execution_count": 5,
     "metadata": {},
     "output_type": "execute_result"
    }
   ],
   "source": [
    "a=(1,'12',23.3)\n",
    "a, type(a)"
   ]
  },
  {
   "cell_type": "code",
   "execution_count": 23,
   "id": "c201c8f7-fdb0-4557-b7b8-c2284448a077",
   "metadata": {},
   "outputs": [
    {
     "data": {
      "text/plain": [
       "3"
      ]
     },
     "execution_count": 23,
     "metadata": {},
     "output_type": "execute_result"
    }
   ],
   "source": [
    "# can be accessed by index\n",
    "a[1]"
   ]
  },
  {
   "cell_type": "markdown",
   "id": "991fe1b4-0a6b-42c1-b6a7-2a568eef6227",
   "metadata": {},
   "source": [
    "### concatenate tuples"
   ]
  },
  {
   "cell_type": "code",
   "execution_count": 11,
   "id": "9ef19465-4966-49a7-a6bf-aaa6dd12c38b",
   "metadata": {},
   "outputs": [
    {
     "data": {
      "text/plain": [
       "(1, '12', 23.3, 3, '121', 23.3)"
      ]
     },
     "execution_count": 11,
     "metadata": {},
     "output_type": "execute_result"
    }
   ],
   "source": [
    "a,b=(1,'12',23.3),(3,'121',23.3)\n",
    "c=a+b\n",
    "c"
   ]
  },
  {
   "cell_type": "markdown",
   "id": "fcf1d551-413d-4ead-879e-8c58848c63a9",
   "metadata": {},
   "source": [
    "### slice tuples"
   ]
  },
  {
   "cell_type": "code",
   "execution_count": 15,
   "id": "0687c8f8-2d8d-47e3-8ba3-0e93559ac2fa",
   "metadata": {},
   "outputs": [
    {
     "data": {
      "text/plain": [
       "(23.3, 3)"
      ]
     },
     "execution_count": 15,
     "metadata": {},
     "output_type": "execute_result"
    }
   ],
   "source": [
    "c[2:4]"
   ]
  },
  {
   "cell_type": "code",
   "execution_count": 16,
   "id": "20c01495-7d33-4638-b044-7a00bae85812",
   "metadata": {},
   "outputs": [
    {
     "data": {
      "text/plain": [
       "6"
      ]
     },
     "execution_count": 16,
     "metadata": {},
     "output_type": "execute_result"
    }
   ],
   "source": [
    "len(c)"
   ]
  },
  {
   "cell_type": "markdown",
   "id": "0c397635-a4e9-4abc-9a5b-d40da4ff3bea",
   "metadata": {},
   "source": [
    "#### Immutable tuple"
   ]
  },
  {
   "cell_type": "code",
   "execution_count": 20,
   "id": "5dacc8d8-b517-4987-a8c8-b083c5e2110d",
   "metadata": {},
   "outputs": [
    {
     "ename": "TypeError",
     "evalue": "'tuple' object does not support item assignment",
     "output_type": "error",
     "traceback": [
      "\u001b[1;31m---------------------------------------------------------------------------\u001b[0m",
      "\u001b[1;31mTypeError\u001b[0m                                 Traceback (most recent call last)",
      "Cell \u001b[1;32mIn[20], line 1\u001b[0m\n\u001b[1;32m----> 1\u001b[0m \u001b[43mc\u001b[49m\u001b[43m[\u001b[49m\u001b[38;5;241;43m3\u001b[39;49m\u001b[43m]\u001b[49m\u001b[38;5;241m=\u001b[39m\u001b[38;5;124m'\u001b[39m\u001b[38;5;124ma\u001b[39m\u001b[38;5;124m'\u001b[39m\n\u001b[0;32m      2\u001b[0m c\n",
      "\u001b[1;31mTypeError\u001b[0m: 'tuple' object does not support item assignment"
     ]
    }
   ],
   "source": [
    "c[3]='a'\n",
    "c"
   ]
  },
  {
   "cell_type": "code",
   "execution_count": 19,
   "id": "5eee4077-9614-4a15-b5f8-46328e09ae91",
   "metadata": {},
   "outputs": [
    {
     "data": {
      "text/plain": [
       "[1, 3, 4, 4, 6, 7, 35, 66]"
      ]
     },
     "execution_count": 19,
     "metadata": {},
     "output_type": "execute_result"
    }
   ],
   "source": [
    "a=(4,3,6,7,1,4,35,66)\n",
    "c1=sorted(a)\n",
    "c1"
   ]
  },
  {
   "cell_type": "markdown",
   "id": "c5346bc7-52e3-4301-85af-3e1fe8646773",
   "metadata": {},
   "source": [
    "### nested tuple"
   ]
  },
  {
   "cell_type": "code",
   "execution_count": 24,
   "id": "c4c2c404-e3cf-4c53-a652-84aba6d8a7eb",
   "metadata": {},
   "outputs": [
    {
     "data": {
      "text/plain": [
       "(1, 2, ('amruth', 'pai'), (3.2, 4.2))"
      ]
     },
     "execution_count": 24,
     "metadata": {},
     "output_type": "execute_result"
    }
   ],
   "source": [
    "NT=(1,2,('amruth','pai'),(3.2,4.2))\n",
    "NT"
   ]
  },
  {
   "cell_type": "code",
   "execution_count": 28,
   "id": "417ab27e-4cbd-41ed-8ca2-039734febc2a",
   "metadata": {},
   "outputs": [
    {
     "data": {
      "text/plain": [
       "(('amruth', 'pai'), 'amruth')"
      ]
     },
     "execution_count": 28,
     "metadata": {},
     "output_type": "execute_result"
    }
   ],
   "source": [
    "NT[2], NT[2][0]"
   ]
  },
  {
   "cell_type": "markdown",
   "id": "e2b3a53f-f0a9-499d-aae0-9bcaa82e1048",
   "metadata": {},
   "source": [
    "# List (Mutable)"
   ]
  },
  {
   "cell_type": "code",
   "execution_count": 32,
   "id": "06b72b44-32e3-457c-813e-9edc2f3c66eb",
   "metadata": {},
   "outputs": [
    {
     "data": {
      "text/plain": [
       "[2, 34, 4, 5, 6, 3, 2]"
      ]
     },
     "execution_count": 32,
     "metadata": {},
     "output_type": "execute_result"
    }
   ],
   "source": [
    "a=[2,34,4,5,6,3,2]\n",
    "a"
   ]
  },
  {
   "cell_type": "markdown",
   "id": "4859d8e2-3869-45d1-a389-a58f0cf1bfca",
   "metadata": {},
   "source": [
    "### nested List"
   ]
  },
  {
   "cell_type": "code",
   "execution_count": 33,
   "id": "3d810f39-ceb7-475d-a281-184e822aca8d",
   "metadata": {},
   "outputs": [
    {
     "data": {
      "text/plain": [
       "[1, 2, 3, 4, [33, 55], ('amruth', 'pai', 4.3), 44]"
      ]
     },
     "execution_count": 33,
     "metadata": {},
     "output_type": "execute_result"
    }
   ],
   "source": [
    "b=[1,2,3,4,[33,55],('amruth', 'pai', 4.3),44]\n",
    "b"
   ]
  },
  {
   "cell_type": "code",
   "execution_count": 35,
   "id": "93bb7a4f-32ab-4fe4-bf75-7bd0d1dc97ff",
   "metadata": {},
   "outputs": [
    {
     "data": {
      "text/plain": [
       "(('amruth', 'pai', 4.3), 'pai')"
      ]
     },
     "execution_count": 35,
     "metadata": {},
     "output_type": "execute_result"
    }
   ],
   "source": [
    "b[5], b[5][1]"
   ]
  },
  {
   "cell_type": "code",
   "execution_count": 38,
   "id": "3d425d5f-4526-4949-b01a-6ef2e0b18d83",
   "metadata": {},
   "outputs": [
    {
     "data": {
      "text/plain": [
       "[1, 2, 3, 4, [33, 'narasimha'], ('amruth', 'pai', 4.3), 44]"
      ]
     },
     "execution_count": 38,
     "metadata": {},
     "output_type": "execute_result"
    }
   ],
   "source": [
    "b[4][1]='narasimha'\n",
    "b"
   ]
  },
  {
   "cell_type": "markdown",
   "id": "7156802e-6821-4fc4-ab2a-f5ae9a008011",
   "metadata": {},
   "source": [
    "### append"
   ]
  },
  {
   "cell_type": "code",
   "execution_count": 39,
   "id": "acc0bda7-298d-4124-86b7-d2e96d69d4a9",
   "metadata": {},
   "outputs": [
    {
     "data": {
      "text/plain": [
       "[1, 2, 3, 4, [3, 4, 5]]"
      ]
     },
     "execution_count": 39,
     "metadata": {},
     "output_type": "execute_result"
    }
   ],
   "source": [
    "a=[1,2,3]\n",
    "b=[3,4,5]\n",
    "a.append(4)\n",
    "a.append(b)\n",
    "a"
   ]
  },
  {
   "cell_type": "markdown",
   "id": "6cb262c9-2479-43ae-9016-85ccb610eef9",
   "metadata": {},
   "source": [
    "### extend"
   ]
  },
  {
   "cell_type": "code",
   "execution_count": 41,
   "id": "e7123c9a-5226-4d1a-957b-cb8fca8ffdaa",
   "metadata": {},
   "outputs": [
    {
     "data": {
      "text/plain": [
       "[1, 2, 3, 3, 4, 5]"
      ]
     },
     "execution_count": 41,
     "metadata": {},
     "output_type": "execute_result"
    }
   ],
   "source": [
    "a=[1,2,3]\n",
    "b=[3,4,5]\n",
    "\n",
    "a.extend(b)\n",
    "a"
   ]
  },
  {
   "cell_type": "markdown",
   "id": "bfd8235b-96c5-4fe7-a3fb-4a9f3001ddfd",
   "metadata": {},
   "source": [
    "### pop"
   ]
  },
  {
   "cell_type": "code",
   "execution_count": 43,
   "id": "300b1fea-813a-4a02-be52-2476fd7a2490",
   "metadata": {},
   "outputs": [
    {
     "data": {
      "text/plain": [
       "[2, 3, 5]"
      ]
     },
     "execution_count": 43,
     "metadata": {},
     "output_type": "execute_result"
    }
   ],
   "source": [
    "a.pop(3)\n",
    "a.pop(0)\n",
    "a"
   ]
  },
  {
   "cell_type": "markdown",
   "id": "62ebdab2-e900-4582-943e-159d9573f5f0",
   "metadata": {},
   "source": [
    "### convert a string to list using split \n"
   ]
  },
  {
   "cell_type": "code",
   "execution_count": 44,
   "id": "1a3ee623-1808-4ae2-951a-744137e08541",
   "metadata": {},
   "outputs": [
    {
     "data": {
      "text/plain": [
       "['Thukaram', 'Amruth', 'Pai']"
      ]
     },
     "execution_count": 44,
     "metadata": {},
     "output_type": "execute_result"
    }
   ],
   "source": [
    "name='Thukaram Amruth Pai'\n",
    "name.split(' ')"
   ]
  },
  {
   "cell_type": "markdown",
   "id": "c6b92fd2-b715-4ce6-8314-f6599ad2b300",
   "metadata": {},
   "source": [
    "### List: Aliasing"
   ]
  },
  {
   "cell_type": "code",
   "execution_count": 45,
   "id": "2876abe1-fb7c-46d7-b455-9c0caa2634ba",
   "metadata": {},
   "outputs": [
    {
     "data": {
      "text/plain": [
       "(['jazz', 10, 1.2], ['jazz', 10, 1.2])"
      ]
     },
     "execution_count": 45,
     "metadata": {},
     "output_type": "execute_result"
    }
   ],
   "source": [
    "a=['hard rock', 10,1.2]\n",
    "b=a\n",
    "a[0]='jazz'\n",
    "a, b"
   ]
  },
  {
   "cell_type": "code",
   "execution_count": 46,
   "id": "be72fe3c-89fe-4d5a-bd85-ed448bda4310",
   "metadata": {},
   "outputs": [
    {
     "data": {
      "text/plain": [
       "(['jazz', 10, 1.2], ['hard rock', 10, 1.2])"
      ]
     },
     "execution_count": 46,
     "metadata": {},
     "output_type": "execute_result"
    }
   ],
   "source": [
    "### clone \n",
    "a=['hard rock', 10,1.2]\n",
    "b=a[:]\n",
    "a[0]='jazz'\n",
    "a, b"
   ]
  },
  {
   "cell_type": "markdown",
   "id": "9ef3126f-114a-478c-bb98-b05c110cc029",
   "metadata": {},
   "source": [
    "# Quiz on List"
   ]
  },
  {
   "cell_type": "code",
   "execution_count": 48,
   "id": "5e0a7dc0-9efa-4897-bab9-ae9610a41354",
   "metadata": {},
   "outputs": [
    {
     "data": {
      "text/plain": [
       "[1, 'hello', [1, 2, 3], True]"
      ]
     },
     "execution_count": 48,
     "metadata": {},
     "output_type": "execute_result"
    }
   ],
   "source": [
    "a_list = [1,'hello',[1,2,3],True]\n",
    "a_list"
   ]
  },
  {
   "cell_type": "markdown",
   "id": "8b5ad715-c04d-4087-ab3a-af6a0236fd65",
   "metadata": {},
   "source": [
    "## Shopping List Scenario"
   ]
  },
  {
   "cell_type": "code",
   "execution_count": 49,
   "id": "ab1e8b52-9fd4-43a9-8d1f-01689fc4c923",
   "metadata": {},
   "outputs": [],
   "source": [
    "shopping_list=['watch','laptop','shoes','pen','clothes']"
   ]
  },
  {
   "cell_type": "code",
   "execution_count": 50,
   "id": "82657be5-ba5d-4d51-888b-7efd9bd98214",
   "metadata": {},
   "outputs": [
    {
     "data": {
      "text/plain": [
       "['watch', 'laptop', 'shoes', 'pen', 'clothes', 'football']"
      ]
     },
     "execution_count": 50,
     "metadata": {},
     "output_type": "execute_result"
    }
   ],
   "source": [
    "shopping_list.append('football')\n",
    "shopping_list"
   ]
  },
  {
   "cell_type": "code",
   "execution_count": 51,
   "id": "7f0e4772-e5e6-4000-b319-ecd41f215830",
   "metadata": {},
   "outputs": [
    {
     "data": {
      "text/plain": [
       "['watch', 'laptop', 'shoes', 'notebook', 'clothes', 'football']"
      ]
     },
     "execution_count": 51,
     "metadata": {},
     "output_type": "execute_result"
    }
   ],
   "source": [
    "shopping_list[3]='notebook'\n",
    "shopping_list"
   ]
  },
  {
   "cell_type": "code",
   "execution_count": 52,
   "id": "347bb2ff-db72-4b15-a9ff-94db78c2a0aa",
   "metadata": {},
   "outputs": [
    {
     "data": {
      "text/plain": [
       "['watch', 'laptop', 'shoes', 'notebook', 'football']"
      ]
     },
     "execution_count": 52,
     "metadata": {},
     "output_type": "execute_result"
    }
   ],
   "source": [
    "del(shopping_list[4])\n",
    "shopping_list"
   ]
  },
  {
   "cell_type": "code",
   "execution_count": 61,
   "id": "094d74f3-7a20-4e6f-97a0-11c37d9ce72c",
   "metadata": {},
   "outputs": [
    {
     "data": {
      "text/plain": [
       "2"
      ]
     },
     "execution_count": 61,
     "metadata": {},
     "output_type": "execute_result"
    }
   ],
   "source": [
    "A=[1]\n",
    "A.append([2,3,4,5])\n",
    "len(A)"
   ]
  },
  {
   "cell_type": "markdown",
   "id": "e9e89668-61f8-498e-932f-2f8ed537e36f",
   "metadata": {},
   "source": [
    "# Quiz on Tuples"
   ]
  },
  {
   "cell_type": "code",
   "execution_count": 53,
   "id": "d5f6282c-f7e8-4e75-8892-e2ffb1da87ea",
   "metadata": {},
   "outputs": [
    {
     "data": {
      "text/plain": [
       "('pop',\n",
       " 'rock',\n",
       " 'soul',\n",
       " 'hard rock',\n",
       " 'soft rock',\n",
       " 'R&B',\n",
       " 'progressive rock',\n",
       " 'disco')"
      ]
     },
     "execution_count": 53,
     "metadata": {},
     "output_type": "execute_result"
    }
   ],
   "source": [
    "genres_tuple = (\"pop\", \"rock\", \"soul\", \"hard rock\", \"soft rock\", \\\n",
    "                \"R&B\", \"progressive rock\", \"disco\") \n",
    "genres_tuple"
   ]
  },
  {
   "cell_type": "code",
   "execution_count": 54,
   "id": "78adf9bb-1325-4967-8db5-e062dcb77148",
   "metadata": {},
   "outputs": [
    {
     "data": {
      "text/plain": [
       "8"
      ]
     },
     "execution_count": 54,
     "metadata": {},
     "output_type": "execute_result"
    }
   ],
   "source": [
    "len(genres_tuple)"
   ]
  },
  {
   "cell_type": "code",
   "execution_count": 55,
   "id": "5052b629-98c3-4f91-bcb6-591540ff0e8c",
   "metadata": {},
   "outputs": [
    {
     "data": {
      "text/plain": [
       "'hard rock'"
      ]
     },
     "execution_count": 55,
     "metadata": {},
     "output_type": "execute_result"
    }
   ],
   "source": [
    "genres_tuple[3]"
   ]
  },
  {
   "cell_type": "code",
   "execution_count": 56,
   "id": "807013ad-5a4d-47f7-a402-278d1363aa18",
   "metadata": {},
   "outputs": [
    {
     "data": {
      "text/plain": [
       "('hard rock', 'soft rock', 'R&B')"
      ]
     },
     "execution_count": 56,
     "metadata": {},
     "output_type": "execute_result"
    }
   ],
   "source": [
    "genres_tuple[3:6]"
   ]
  },
  {
   "cell_type": "code",
   "execution_count": 58,
   "id": "e78117f1-0b1e-4c8b-b8dc-cbce867ec79d",
   "metadata": {},
   "outputs": [
    {
     "data": {
      "text/plain": [
       "2"
      ]
     },
     "execution_count": 58,
     "metadata": {},
     "output_type": "execute_result"
    }
   ],
   "source": [
    "genres_tuple[-1].find('s')"
   ]
  },
  {
   "cell_type": "code",
   "execution_count": 59,
   "id": "cd9b156e-0391-4785-91d8-afab878c2f6b",
   "metadata": {},
   "outputs": [
    {
     "data": {
      "text/plain": [
       "['R&B',\n",
       " 'disco',\n",
       " 'hard rock',\n",
       " 'pop',\n",
       " 'progressive rock',\n",
       " 'rock',\n",
       " 'soft rock',\n",
       " 'soul']"
      ]
     },
     "execution_count": 59,
     "metadata": {},
     "output_type": "execute_result"
    }
   ],
   "source": [
    "genres_tuple2=sorted(genres_tuple)\n",
    "genres_tuple2"
   ]
  },
  {
   "cell_type": "code",
   "execution_count": null,
   "id": "ba0b5b7a-c888-444e-9563-a4f4a593208d",
   "metadata": {},
   "outputs": [],
   "source": []
  }
 ],
 "metadata": {
  "kernelspec": {
   "display_name": "tf",
   "language": "python",
   "name": "tf"
  },
  "language_info": {
   "codemirror_mode": {
    "name": "ipython",
    "version": 3
   },
   "file_extension": ".py",
   "mimetype": "text/x-python",
   "name": "python",
   "nbconvert_exporter": "python",
   "pygments_lexer": "ipython3",
   "version": "3.9.18"
  }
 },
 "nbformat": 4,
 "nbformat_minor": 5
}
