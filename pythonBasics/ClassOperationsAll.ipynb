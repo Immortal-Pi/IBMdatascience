{
 "cells": [
  {
   "cell_type": "code",
   "execution_count": 1,
   "id": "bae62ba7-b761-4183-ab26-fb122e54201d",
   "metadata": {},
   "outputs": [],
   "source": [
    "import pandas as pd\n",
    "import matplotlib.pyplot as plt"
   ]
  },
  {
   "cell_type": "code",
   "execution_count": 25,
   "id": "c1269398-6a08-470a-bb35-1d492d89cc00",
   "metadata": {},
   "outputs": [],
   "source": [
    "class student:\n",
    "    # constructor\n",
    "    def __init__(self,name,roll_no,total_marks):\n",
    "        self._name=name\n",
    "        self._roll_no=roll_no\n",
    "        self.total_marks=total_marks\n",
    "\n",
    "    def __str__(self):\n",
    "        return f'{self.name} : {self.roll_no} : {self.total_marks} '\n",
    "    # when using @property \n",
    "    @property\n",
    "    def name(self):\n",
    "        return self._name\n",
    "\n",
    "    @property\n",
    "    def roll_no(self):\n",
    "        return self._roll_no\n",
    "\n",
    "    @property\n",
    "    def total_marks(self):\n",
    "        return self._total_marks\n",
    "        \n",
    "     # setter function   \n",
    "    @name.setter\n",
    "    def name(self,name):\n",
    "        self._name=name\n",
    "\n",
    "    @roll_no.setter\n",
    "    def roll_no(self,roll_no):\n",
    "        self._roll_no=roll_no\n",
    "\n",
    "    @total_marks.setter\n",
    "    def total_marks(self,total_marks):\n",
    "        self._total_marks=total_marks\n",
    "        \n",
    "    # @classmethod no need to ceate class object, we can directly call with class name\n",
    "    @classmethod\n",
    "    def get_info(cls):\n",
    "        name=input('name')\n",
    "        roll_no=input('roll_no')\n",
    "        total_marks=input('total_marks')\n",
    "        return cls(name,roll_no,total_marks)\n",
    "        \n",
    "    def method_info(cls):\n",
    "        h=student.get_info()\n",
    "        return cls\n",
    "\n",
    "    # operator overloading\n",
    "    def __add__(self,other):\n",
    "        return int(self.total_marks)+int(other.total_marks)\n",
    "        \n",
    "    "
   ]
  },
  {
   "cell_type": "code",
   "execution_count": 19,
   "id": "7e3b472a-4fa4-4619-9cad-00250f11e874",
   "metadata": {},
   "outputs": [],
   "source": [
    "s1=student(\"amruth\",21,100)"
   ]
  },
  {
   "cell_type": "code",
   "execution_count": 20,
   "id": "1069d590-c0d5-4b66-b286-ae2088abaa42",
   "metadata": {},
   "outputs": [],
   "source": [
    "s1.name='akshath'"
   ]
  },
  {
   "cell_type": "code",
   "execution_count": 21,
   "id": "aa4eb74b-310a-4710-bc0f-f4508a0645e5",
   "metadata": {},
   "outputs": [
    {
     "name": "stdin",
     "output_type": "stream",
     "text": [
      "name amruth\n",
      "roll_no 21\n",
      "total_marks 100\n"
     ]
    }
   ],
   "source": [
    "s1=student.get_info()"
   ]
  },
  {
   "cell_type": "code",
   "execution_count": 13,
   "id": "855d36fd-62e7-4591-b858-e56ff9d665d1",
   "metadata": {},
   "outputs": [
    {
     "data": {
      "text/plain": [
       "'a'"
      ]
     },
     "execution_count": 13,
     "metadata": {},
     "output_type": "execute_result"
    }
   ],
   "source": [
    "s1.name"
   ]
  },
  {
   "cell_type": "code",
   "execution_count": 22,
   "id": "494daff9-87d6-4916-afa7-d66b3a434304",
   "metadata": {},
   "outputs": [
    {
     "name": "stdin",
     "output_type": "stream",
     "text": [
      "name akshath\n",
      "roll_no 24\n",
      "total_marks 200\n"
     ]
    }
   ],
   "source": [
    "s2=student.get_info()"
   ]
  },
  {
   "cell_type": "code",
   "execution_count": 23,
   "id": "64709c33-8d44-46d6-9387-ddbe0c43b3ce",
   "metadata": {},
   "outputs": [
    {
     "name": "stdout",
     "output_type": "stream",
     "text": [
      "amruth : 21 : 100 \n",
      "akshath : 24 : 200 \n"
     ]
    }
   ],
   "source": [
    "print(s1)\n",
    "print(s2)"
   ]
  },
  {
   "cell_type": "code",
   "execution_count": 24,
   "id": "4686dda6-1d4b-4896-8957-1b5bcfc9b136",
   "metadata": {},
   "outputs": [
    {
     "name": "stdout",
     "output_type": "stream",
     "text": [
      "300\n"
     ]
    }
   ],
   "source": [
    "print(s1+s2)"
   ]
  },
  {
   "cell_type": "code",
   "execution_count": null,
   "id": "05a221b0-3e85-48a3-8052-930b1d1fbdd3",
   "metadata": {},
   "outputs": [],
   "source": []
  }
 ],
 "metadata": {
  "kernelspec": {
   "display_name": "tf",
   "language": "python",
   "name": "tf"
  },
  "language_info": {
   "codemirror_mode": {
    "name": "ipython",
    "version": 3
   },
   "file_extension": ".py",
   "mimetype": "text/x-python",
   "name": "python",
   "nbconvert_exporter": "python",
   "pygments_lexer": "ipython3",
   "version": "3.9.18"
  }
 },
 "nbformat": 4,
 "nbformat_minor": 5
}
