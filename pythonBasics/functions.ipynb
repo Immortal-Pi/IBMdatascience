{
 "cells": [
  {
   "cell_type": "markdown",
   "id": "933b8133-782a-4975-bb6f-73ed21e4b4df",
   "metadata": {},
   "source": [
    "# functions\n",
    "- inbuilt\n",
    "    - len\n",
    "    - sorted\n",
    "    - sum\n",
    "- define function"
   ]
  },
  {
   "cell_type": "code",
   "execution_count": 12,
   "id": "ffc7249d-a9e1-4e09-aa34-6e7222000025",
   "metadata": {},
   "outputs": [
    {
     "data": {
      "text/plain": [
       "([2, 3, 5, 5, 5, 6, 8, 23, 93, 323], 473, 10)"
      ]
     },
     "execution_count": 12,
     "metadata": {},
     "output_type": "execute_result"
    }
   ],
   "source": [
    "a=[5,3,5,2,5,23,6,8,93,323]\n",
    "b=[3,2,1,2,5,23,6,8,93,323]\n",
    "sorted(a), sum(a), len(a)"
   ]
  },
  {
   "cell_type": "code",
   "execution_count": 13,
   "id": "d8189cad-61cd-43e1-8964-913bf83475c0",
   "metadata": {},
   "outputs": [
    {
     "data": {
      "text/plain": [
       "473"
      ]
     },
     "execution_count": 13,
     "metadata": {},
     "output_type": "execute_result"
    }
   ],
   "source": [
    "def sum1(a):\n",
    "    sum=0\n",
    "    for i in a:\n",
    "       sum+=i\n",
    "    return sum\n",
    "sum1(a)"
   ]
  },
  {
   "cell_type": "markdown",
   "id": "db93b303-1cb2-4c85-9450-f2d1d5f6c794",
   "metadata": {},
   "source": [
    "## multiple parameters "
   ]
  },
  {
   "cell_type": "code",
   "execution_count": 17,
   "id": "7bc9a88e-087c-4090-96a2-96795e0e01a5",
   "metadata": {},
   "outputs": [
    {
     "data": {
      "text/plain": [
       "array([    15,      6,      5,      4,     25,    529,     36,     64,\n",
       "         8649, 104329])"
      ]
     },
     "execution_count": 17,
     "metadata": {},
     "output_type": "execute_result"
    }
   ],
   "source": [
    "import numpy as np\n",
    "a=np.array([5,3,5,2,5,23,6,8,93,323])\n",
    "b=np.array([3,2,1,2,5,23,6,8,93,323])\n",
    "def mul(a,b):\n",
    "    return a*b\n",
    "mul(a,b)"
   ]
  },
  {
   "cell_type": "markdown",
   "id": "a7f0ced9-9c46-4d8f-a24f-3a814ead565f",
   "metadata": {},
   "source": [
    "## pass (to define an empty function)"
   ]
  },
  {
   "cell_type": "code",
   "execution_count": 23,
   "id": "5fa3fa01-3f5a-409c-81ae-83dcfa44f270",
   "metadata": {},
   "outputs": [],
   "source": [
    "def nowork():\n",
    "    pass\n",
    "    \n",
    "nowork()"
   ]
  },
  {
   "cell_type": "markdown",
   "id": "aba63d95-bdfb-462c-be33-6cfd5f716f96",
   "metadata": {},
   "source": [
    "# variable number of arguments def function (*arg)"
   ]
  },
  {
   "cell_type": "code",
   "execution_count": 32,
   "id": "654fe1f7-033a-4e5c-bfe0-cb49a09826d8",
   "metadata": {},
   "outputs": [
    {
     "name": "stdout",
     "output_type": "stream",
     "text": [
      "amruth\n",
      "akshath\n",
      "sharath\n",
      "\n",
      "\n",
      "amruth\n",
      "akshath\n"
     ]
    }
   ],
   "source": [
    "def add2(*names):\n",
    "    for name in names:\n",
    "        print(name)\n",
    "add2('amruth','akshath','sharath')\n",
    "print('\\n')\n",
    "add2('amruth','akshath')"
   ]
  },
  {
   "cell_type": "markdown",
   "id": "8cf6b49b-74a4-432b-810e-3fddca82d6b0",
   "metadata": {},
   "source": [
    "# scope"
   ]
  },
  {
   "cell_type": "code",
   "execution_count": 43,
   "id": "7b5defee-9ffb-4916-a4dd-17c8c8df6e43",
   "metadata": {},
   "outputs": [
    {
     "name": "stdout",
     "output_type": "stream",
     "text": [
      "AC\n",
      "ACDC\n"
     ]
    }
   ],
   "source": [
    "\n",
    "def addDC(y):\n",
    "    print(x)\n",
    "    x1=x+'DC'\n",
    "    print(x1)\n",
    "    return x1\n",
    "\n",
    "x='AC'\n",
    "z=addDC(x)\n"
   ]
  },
  {
   "cell_type": "code",
   "execution_count": 59,
   "id": "56ea9ce1-6a88-44a8-ad27-181f1a34639f",
   "metadata": {},
   "outputs": [],
   "source": [
    "my_list=[]"
   ]
  },
  {
   "cell_type": "code",
   "execution_count": 60,
   "id": "92d16610-6016-4b5c-8436-a6a190d62f7d",
   "metadata": {},
   "outputs": [],
   "source": [
    "def add_elements(data_structure,element):\n",
    "    data_structure.append(element)\n",
    "def remove_element(data_structure, element):\n",
    "    if element in data_structure:\n",
    "        data_structure.remove(element)\n",
    "    else:\n",
    "        print(f\"{element} not found in the list.\")"
   ]
  },
  {
   "cell_type": "code",
   "execution_count": 62,
   "id": "561688e5-82c0-4428-8415-fb2d2d3c31eb",
   "metadata": {},
   "outputs": [
    {
     "data": {
      "text/plain": [
       "[42, 17, 99, 42, 17, 99]"
      ]
     },
     "execution_count": 62,
     "metadata": {},
     "output_type": "execute_result"
    }
   ],
   "source": [
    "add_elements(my_list, 42)\n",
    "add_elements(my_list, 17)\n",
    "add_elements(my_list, 99)\n",
    "my_list"
   ]
  },
  {
   "cell_type": "code",
   "execution_count": 65,
   "id": "c573e284-3c14-4292-893a-bfc1b2211349",
   "metadata": {},
   "outputs": [
    {
     "name": "stdout",
     "output_type": "stream",
     "text": [
      "17 not found in the list.\n",
      "55 not found in the list.\n"
     ]
    },
    {
     "data": {
      "text/plain": [
       "[42, 99, 42, 99]"
      ]
     },
     "execution_count": 65,
     "metadata": {},
     "output_type": "execute_result"
    }
   ],
   "source": [
    "remove_element(my_list, 17)\n",
    "remove_element(my_list, 55)\n",
    "my_list"
   ]
  },
  {
   "cell_type": "markdown",
   "id": "b45a5bff-629c-4988-b4dc-75f814b9ad32",
   "metadata": {},
   "source": [
    "# string comparison in functions "
   ]
  },
  {
   "cell_type": "code",
   "execution_count": 78,
   "id": "ce810297-f3f0-43c0-a560-662db5bf8893",
   "metadata": {},
   "outputs": [
    {
     "data": {
      "text/plain": [
       "7"
      ]
     },
     "execution_count": 78,
     "metadata": {},
     "output_type": "execute_result"
    }
   ],
   "source": [
    "string='Amruth pai is the best pai pai'\n",
    "def check_string(text):\n",
    "    if text in string:\n",
    "        return(string.find(text))\n",
    "check_string('pai')"
   ]
  },
  {
   "cell_type": "code",
   "execution_count": 79,
   "id": "3c74644b-75e5-4c37-8712-a679de55a0d7",
   "metadata": {},
   "outputs": [
    {
     "data": {
      "text/plain": [
       "['pai', 'pai', 'pai']"
      ]
     },
     "execution_count": 79,
     "metadata": {},
     "output_type": "execute_result"
    }
   ],
   "source": [
    "import re\n",
    "re.findall(r'\\bpai\\b',string)"
   ]
  },
  {
   "cell_type": "markdown",
   "id": "58c2a9db-50cf-4a69-b18d-72cd6829e407",
   "metadata": {},
   "source": [
    "# global variables"
   ]
  },
  {
   "cell_type": "code",
   "execution_count": 81,
   "id": "36c49460-9fc8-4299-888e-51beac510e11",
   "metadata": {},
   "outputs": [
    {
     "name": "stdout",
     "output_type": "stream",
     "text": [
      "Michael Jackson is an artist\n"
     ]
    },
    {
     "ename": "NameError",
     "evalue": "name 'internal_var1' is not defined",
     "output_type": "error",
     "traceback": [
      "\u001b[1;31m---------------------------------------------------------------------------\u001b[0m",
      "\u001b[1;31mNameError\u001b[0m                                 Traceback (most recent call last)",
      "Cell \u001b[1;32mIn[81], line 6\u001b[0m\n\u001b[0;32m      3\u001b[0m     internal_var1 \u001b[38;5;241m=\u001b[39m artist\n\u001b[0;32m      4\u001b[0m     \u001b[38;5;28mprint\u001b[39m(artist, \u001b[38;5;124m\"\u001b[39m\u001b[38;5;124mis an artist\u001b[39m\u001b[38;5;124m\"\u001b[39m)\n\u001b[1;32m----> 6\u001b[0m printer1(artist), printer1(\u001b[43minternal_var1\u001b[49m)\n",
      "\u001b[1;31mNameError\u001b[0m: name 'internal_var1' is not defined"
     ]
    }
   ],
   "source": [
    "artist = \"Michael Jackson\"\n",
    "def printer1(artist):\n",
    "    internal_var1 = artist\n",
    "    print(artist, \"is an artist\")\n",
    "    \n",
    "printer1(artist), printer1(internal_var1)"
   ]
  },
  {
   "cell_type": "code",
   "execution_count": 82,
   "id": "ff032de8-ffa6-4260-a144-1439c30e7dbe",
   "metadata": {},
   "outputs": [
    {
     "name": "stdout",
     "output_type": "stream",
     "text": [
      "Michael Jackson is an artist\n",
      "Whitney Houston is an artist\n"
     ]
    }
   ],
   "source": [
    "artist = \"Michael Jackson\"\n",
    "\n",
    "def printer(artist):\n",
    "    global internal_var \n",
    "    internal_var= \"Whitney Houston\"\n",
    "    print(artist,\"is an artist\")\n",
    "\n",
    "printer(artist) \n",
    "printer(internal_var)"
   ]
  },
  {
   "cell_type": "markdown",
   "id": "857716de-e98b-4a97-bf08-aa8e81156543",
   "metadata": {},
   "source": [
    "# scope of variables"
   ]
  },
  {
   "cell_type": "code",
   "execution_count": 93,
   "id": "dea2f0c9-ba3b-47e3-a1a4-93ac8a9e199a",
   "metadata": {},
   "outputs": [
    {
     "name": "stdout",
     "output_type": "stream",
     "text": [
      "AC/DC's rating is: 10.0\n",
      "Deep Purple's rating is: 0.0\n",
      "My favourite band is: AC/DC\n"
     ]
    }
   ],
   "source": [
    "myFavouriteBand = \"AC/DC\"\n",
    "\n",
    "def getBandRating(bandname):\n",
    "    if bandname == myFavouriteBand:\n",
    "        return 10.0\n",
    "    else:\n",
    "        return 0.0\n",
    "\n",
    "print(\"AC/DC's rating is:\", getBandRating(\"AC/DC\"))\n",
    "print(\"Deep Purple's rating is:\",getBandRating(\"Deep Purple\"))\n",
    "print(\"My favourite band is:\", myFavouriteBand)"
   ]
  },
  {
   "cell_type": "code",
   "execution_count": 94,
   "id": "886fe33b-a126-4826-b0b4-3b3fe67962d6",
   "metadata": {},
   "outputs": [
    {
     "name": "stdout",
     "output_type": "stream",
     "text": [
      "AC/DC's rating is:  10.0\n",
      "Deep Purple's rating is:  0.0\n",
      "My favourite band is AC/DC\n"
     ]
    }
   ],
   "source": [
    "# del myFavouriteBand\n",
    "\n",
    "# Example of local variable\n",
    "\n",
    "def getBandRating(bandname):\n",
    "    myFavouriteBand = \"AC/DC\"\n",
    "    if bandname == myFavouriteBand:\n",
    "        return 10.0\n",
    "    else:\n",
    "        return 0.0\n",
    "\n",
    "print(\"AC/DC's rating is: \", getBandRating(\"AC/DC\"))\n",
    "print(\"Deep Purple's rating is: \", getBandRating(\"Deep Purple\"))\n",
    "print(\"My favourite band is\", myFavouriteBand)"
   ]
  },
  {
   "cell_type": "code",
   "execution_count": 95,
   "id": "47ae6c7e-c945-437b-a4bd-ba2baf46a492",
   "metadata": {},
   "outputs": [
    {
     "name": "stdout",
     "output_type": "stream",
     "text": [
      "AC/DC's rating is: 0.0\n",
      "Deep Purple's rating is:  10.0\n",
      "My favourite band is: AC/DC\n"
     ]
    }
   ],
   "source": [
    "myFavouriteBand = \"AC/DC\"\n",
    "\n",
    "def getBandRating(bandname):\n",
    "    myFavouriteBand = \"Deep Purple\"\n",
    "    if bandname == myFavouriteBand:\n",
    "        return 10.0\n",
    "    else:\n",
    "        return 0.0\n",
    "\n",
    "print(\"AC/DC's rating is:\",getBandRating(\"AC/DC\"))\n",
    "print(\"Deep Purple's rating is: \",getBandRating(\"Deep Purple\"))\n",
    "print(\"My favourite band is:\",myFavouriteBand)"
   ]
  },
  {
   "cell_type": "markdown",
   "id": "d9330ddf-21f1-4476-906b-33d65bcd1dc3",
   "metadata": {},
   "source": [
    "# collections and functions"
   ]
  },
  {
   "cell_type": "code",
   "execution_count": 96,
   "id": "e840070a-3121-483a-91e0-4f0bcc335d52",
   "metadata": {},
   "outputs": [
    {
     "name": "stdout",
     "output_type": "stream",
     "text": [
      "No of arguments: 3\n",
      "Horsefeather\n",
      "Adonis\n",
      "Bone\n",
      "No of arguments: 4\n",
      "Sidecar\n",
      "Long Island\n",
      "Mudslide\n",
      "Carriage\n"
     ]
    }
   ],
   "source": [
    "def printAll(*args): # All the arguments are 'packed' into args which can be treated like a tuple\n",
    "    print(\"No of arguments:\", len(args)) \n",
    "    for argument in args:\n",
    "        print(argument)\n",
    "#printAll with 3 arguments\n",
    "printAll('Horsefeather','Adonis','Bone')\n",
    "#printAll with 4 arguments\n",
    "printAll('Sidecar','Long Island','Mudslide','Carriage')"
   ]
  },
  {
   "cell_type": "code",
   "execution_count": 103,
   "id": "e4d5aa52-3f6e-4bab-87a9-c07cce0c83d7",
   "metadata": {},
   "outputs": [
    {
     "name": "stdout",
     "output_type": "stream",
     "text": [
      "Country : Canada\n",
      "Province : Ontario\n",
      "City : Toronto\n",
      "country : canada\n",
      "provice : ontario\n",
      "city : toronto\n",
      "road : better\n"
     ]
    }
   ],
   "source": [
    "def printDictionary(**args):\n",
    "    for key in args:\n",
    "        print(key + \" : \" + args[key])\n",
    "dict1={'country':'canada', 'provice':'ontario','city':'toronto','road':'better'}\n",
    "printDictionary(Country='Canada',Province='Ontario',City='Toronto')\n",
    "## need to unpack the dictionary\n",
    "printDictionary(**dict1)"
   ]
  },
  {
   "cell_type": "code",
   "execution_count": 105,
   "id": "35d55f47-b333-4963-a1b6-7549f7abc30c",
   "metadata": {},
   "outputs": [
    {
     "ename": "SyntaxError",
     "evalue": "invalid syntax (3883083377.py, line 1)",
     "output_type": "error",
     "traceback": [
      "\u001b[1;36m  Cell \u001b[1;32mIn[105], line 1\u001b[1;36m\u001b[0m\n\u001b[1;33m    **dict1\u001b[0m\n\u001b[1;37m    ^\u001b[0m\n\u001b[1;31mSyntaxError\u001b[0m\u001b[1;31m:\u001b[0m invalid syntax\n"
     ]
    }
   ],
   "source": []
  },
  {
   "cell_type": "markdown",
   "id": "decbf32c-ee3b-4df9-bc4f-6494b50514d2",
   "metadata": {},
   "source": [
    "# quiz functions "
   ]
  },
  {
   "cell_type": "code",
   "execution_count": 106,
   "id": "f56b56fb-5615-471c-bcc6-3b8430d8bacf",
   "metadata": {},
   "outputs": [
    {
     "data": {
      "text/plain": [
       "('ab', 3)"
      ]
     },
     "execution_count": 106,
     "metadata": {},
     "output_type": "execute_result"
    }
   ],
   "source": [
    "def con(a, b):\n",
    "    return(a + b)\n",
    "con('a','b'),con(1,2)"
   ]
  },
  {
   "cell_type": "code",
   "execution_count": 107,
   "id": "cca90311-3ee7-41b2-a367-d06b7b55dc8b",
   "metadata": {},
   "outputs": [],
   "source": [
    "string1=\"Mary had a little lamb Little lamb, little lamb Mary had a little lamb.Its fleece was white as snow And everywhere that Mary went Mary went, Mary went Everywhere that Mary went The lamb was sure to go\""
   ]
  },
  {
   "cell_type": "code",
   "execution_count": 111,
   "id": "2bce407a-3278-46ef-ab83-5ec956be42de",
   "metadata": {},
   "outputs": [
    {
     "name": "stdout",
     "output_type": "stream",
     "text": [
      "['little', 'Little', 'little', 'little']\n"
     ]
    }
   ],
   "source": [
    "def count_text(text):\n",
    "    b=re.findall(text,string1,flags=re.IGNORECASE)\n",
    "    print(b)\n",
    "count_text('little')\n"
   ]
  },
  {
   "cell_type": "code",
   "execution_count": null,
   "id": "55eb2084-1176-45d0-bcdb-0ec05d300242",
   "metadata": {},
   "outputs": [],
   "source": []
  }
 ],
 "metadata": {
  "kernelspec": {
   "display_name": "tf",
   "language": "python",
   "name": "tf"
  },
  "language_info": {
   "codemirror_mode": {
    "name": "ipython",
    "version": 3
   },
   "file_extension": ".py",
   "mimetype": "text/x-python",
   "name": "python",
   "nbconvert_exporter": "python",
   "pygments_lexer": "ipython3",
   "version": "3.9.18"
  }
 },
 "nbformat": 4,
 "nbformat_minor": 5
}
