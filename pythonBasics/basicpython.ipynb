{
 "cells": [
  {
   "cell_type": "markdown",
   "id": "09fd7155-dd2d-4695-8103-4bd73c093f18",
   "metadata": {},
   "source": [
    "# obviously the hello world "
   ]
  },
  {
   "cell_type": "code",
   "execution_count": 1,
   "id": "b3ed6ad5-91c0-4a1d-996a-2830f1921066",
   "metadata": {},
   "outputs": [
    {
     "name": "stdout",
     "output_type": "stream",
     "text": [
      "hello world\n"
     ]
    }
   ],
   "source": [
    "print('hello world')"
   ]
  },
  {
   "cell_type": "code",
   "execution_count": 2,
   "id": "e587b1cb-ced3-4b58-911d-a4f7083e4a4a",
   "metadata": {},
   "outputs": [
    {
     "name": "stdout",
     "output_type": "stream",
     "text": [
      "3.9.18 (main, Sep 11 2023, 14:09:26) [MSC v.1916 64 bit (AMD64)]\n"
     ]
    }
   ],
   "source": [
    "# version of python\n",
    "import sys\n",
    "print(sys.version)"
   ]
  },
  {
   "cell_type": "code",
   "execution_count": 6,
   "id": "89c325e3-7b36-42ba-9b85-35ee696f0017",
   "metadata": {},
   "outputs": [
    {
     "data": {
      "text/plain": [
       "5"
      ]
     },
     "execution_count": 6,
     "metadata": {},
     "output_type": "execute_result"
    }
   ],
   "source": [
    "x,y=2,3\n",
    "z=x+y\n",
    "z"
   ]
  },
  {
   "cell_type": "markdown",
   "id": "58e199b5-892d-4453-9aa3-43436dd90f21",
   "metadata": {},
   "source": [
    "# type casting"
   ]
  },
  {
   "cell_type": "code",
   "execution_count": 13,
   "id": "6d07325d-703f-4da5-9f47-fb8d09bff9e8",
   "metadata": {},
   "outputs": [
    {
     "data": {
      "text/plain": [
       "(2.0, 1, 2, '3.2')"
      ]
     },
     "execution_count": 13,
     "metadata": {},
     "output_type": "execute_result"
    }
   ],
   "source": [
    "# typecasting \n",
    "float(2), int(1.1), int('2'), str(3.2)#error int('A')"
   ]
  },
  {
   "cell_type": "code",
   "execution_count": 20,
   "id": "ec003f04-8ecf-422e-bcdb-8f1ea44987bd",
   "metadata": {},
   "outputs": [
    {
     "data": {
      "text/plain": [
       "(1, 0)"
      ]
     },
     "execution_count": 20,
     "metadata": {},
     "output_type": "execute_result"
    }
   ],
   "source": [
    "# boolean \n",
    "a=type(True)\n",
    "b=type(False)\n",
    "# type cast a boolean value to int\n",
    "int(True), int(False)"
   ]
  },
  {
   "cell_type": "code",
   "execution_count": 26,
   "id": "e91b14e8-4cec-48ed-a571-36507cff3ed4",
   "metadata": {},
   "outputs": [
    {
     "data": {
      "text/plain": [
       "(int, 2.0, float, 1.2)"
      ]
     },
     "execution_count": 26,
     "metadata": {},
     "output_type": "execute_result"
    }
   ],
   "source": [
    "#typecasting\n",
    "type(-1), float(2), type(float(3)), float('1.2')"
   ]
  },
  {
   "cell_type": "code",
   "execution_count": 23,
   "id": "c9b27bd1-a909-4b65-b98c-d65c26910e9c",
   "metadata": {},
   "outputs": [
    {
     "data": {
      "text/plain": [
       "sys.float_info(max=1.7976931348623157e+308, max_exp=1024, max_10_exp=308, min=2.2250738585072014e-308, min_exp=-1021, min_10_exp=-307, dig=15, mant_dig=53, epsilon=2.220446049250313e-16, radix=2, rounds=1)"
      ]
     },
     "execution_count": 23,
     "metadata": {},
     "output_type": "execute_result"
    }
   ],
   "source": [
    " sys.float_info"
   ]
  },
  {
   "cell_type": "code",
   "execution_count": 28,
   "id": "1e42a1e2-6b5a-4642-a7b8-2a79cd3ab034",
   "metadata": {},
   "outputs": [
    {
     "data": {
      "text/plain": [
       "(3.0, 3)"
      ]
     },
     "execution_count": 28,
     "metadata": {},
     "output_type": "execute_result"
    }
   ],
   "source": [
    "6/2, 6//2"
   ]
  },
  {
   "cell_type": "code",
   "execution_count": 31,
   "id": "87a8ab7b-11ea-473c-83fe-506410f03df3",
   "metadata": {},
   "outputs": [
    {
     "data": {
      "text/plain": [
       "bool"
      ]
     },
     "execution_count": 31,
     "metadata": {},
     "output_type": "execute_result"
    }
   ],
   "source": [
    "type('hello'=='world')"
   ]
  },
  {
   "cell_type": "code",
   "execution_count": 32,
   "id": "821738c1-a0fa-4d7d-bf96-73db22626dce",
   "metadata": {},
   "outputs": [
    {
     "name": "stdout",
     "output_type": "stream",
     "text": [
      "progress: 9/10\n",
      " task complete\n"
     ]
    }
   ],
   "source": [
    "import time\n",
    "\n",
    "for i in range(10):\n",
    "    print(f'progress: {i}/10', end='\\r')\n",
    "    time.sleep(1)\n",
    "print('\\n task complete')"
   ]
  },
  {
   "cell_type": "markdown",
   "id": "85923734-4a78-4939-b675-9ec81ad37728",
   "metadata": {},
   "source": [
    "# String"
   ]
  },
  {
   "cell_type": "code",
   "execution_count": 42,
   "id": "22709716-adb6-4990-942f-cc05c96db0ac",
   "metadata": {},
   "outputs": [],
   "source": [
    "name = 'Thukaram Amruth Pai'\n",
    "age =26"
   ]
  },
  {
   "cell_type": "code",
   "execution_count": 37,
   "id": "4078bfd3-46b5-4c9d-b8b8-997b24298a92",
   "metadata": {},
   "outputs": [
    {
     "data": {
      "text/plain": [
       "('Tuaa muhPi', 'iPhum aauT')"
      ]
     },
     "execution_count": 37,
     "metadata": {},
     "output_type": "execute_result"
    }
   ],
   "source": [
    "name[::2], name[::-2]"
   ]
  },
  {
   "cell_type": "code",
   "execution_count": 38,
   "id": "7d9fdd41-6431-4227-8cd2-e640884a5994",
   "metadata": {},
   "outputs": [
    {
     "data": {
      "text/plain": [
       "19"
      ]
     },
     "execution_count": 38,
     "metadata": {},
     "output_type": "execute_result"
    }
   ],
   "source": [
    "#len \n",
    "len(name)"
   ]
  },
  {
   "cell_type": "code",
   "execution_count": 39,
   "id": "bc861235-dc8a-429b-bdf1-c87c18de18f7",
   "metadata": {},
   "outputs": [
    {
     "data": {
      "text/plain": [
       "'Thukaram Amruth PaiThukaram Amruth PaiThukaram Amruth Pai'"
      ]
     },
     "execution_count": 39,
     "metadata": {},
     "output_type": "execute_result"
    }
   ],
   "source": [
    "#tuples replication\n",
    "3* name"
   ]
  },
  {
   "cell_type": "code",
   "execution_count": 40,
   "id": "ab052894-9d70-4a2e-8dde-f4d9b6ef3c8c",
   "metadata": {},
   "outputs": [
    {
     "ename": "TypeError",
     "evalue": "'str' object does not support item assignment",
     "output_type": "error",
     "traceback": [
      "\u001b[1;31m---------------------------------------------------------------------------\u001b[0m",
      "\u001b[1;31mTypeError\u001b[0m                                 Traceback (most recent call last)",
      "Cell \u001b[1;32mIn[40], line 2\u001b[0m\n\u001b[0;32m      1\u001b[0m \u001b[38;5;66;03m# immatable string\u001b[39;00m\n\u001b[1;32m----> 2\u001b[0m \u001b[43mname\u001b[49m\u001b[43m[\u001b[49m\u001b[38;5;241;43m2\u001b[39;49m\u001b[43m]\u001b[49m\u001b[38;5;241m=\u001b[39m\u001b[38;5;124m'\u001b[39m\u001b[38;5;124ma\u001b[39m\u001b[38;5;124m'\u001b[39m\n",
      "\u001b[1;31mTypeError\u001b[0m: 'str' object does not support item assignment"
     ]
    }
   ],
   "source": [
    "# immatable string\n",
    "name[2]='a'"
   ]
  },
  {
   "cell_type": "markdown",
   "id": "64fe3804-ba4d-42be-b222-756d28a0d821",
   "metadata": {},
   "source": [
    "### string interpolation"
   ]
  },
  {
   "cell_type": "code",
   "execution_count": 44,
   "id": "3bb69398-14d7-4886-86c9-66cbf8099792",
   "metadata": {},
   "outputs": [
    {
     "name": "stdout",
     "output_type": "stream",
     "text": [
      " my name is Thukaram Amruth Pai and I am 26 years old\n"
     ]
    }
   ],
   "source": [
    "print(f' my name is {name} and I am {age} years old')"
   ]
  },
  {
   "cell_type": "markdown",
   "id": "2383d5e1-7974-4fa6-96e5-48fd1fea174a",
   "metadata": {},
   "source": [
    "### str.format()"
   ]
  },
  {
   "cell_type": "code",
   "execution_count": 45,
   "id": "f61a0d3a-fca5-4b39-b771-d195a98052b5",
   "metadata": {},
   "outputs": [
    {
     "name": "stdout",
     "output_type": "stream",
     "text": [
      "my name is Thukaram Amruth Pai and I am 26 years old\n"
     ]
    }
   ],
   "source": [
    "print('my name is {} and I am {} years old'.format(name,age))"
   ]
  },
  {
   "cell_type": "markdown",
   "id": "7445be8f-817d-4a93-86b5-0134d804cbf1",
   "metadata": {},
   "source": [
    "### %Operator"
   ]
  },
  {
   "cell_type": "code",
   "execution_count": 50,
   "id": "47bdc9d2-1eae-46bb-9e33-4eff1a1837fb",
   "metadata": {},
   "outputs": [
    {
     "name": "stdout",
     "output_type": "stream",
     "text": [
      "my name is Thukaram Amruth Pai and I am 26 years old\n"
     ]
    }
   ],
   "source": [
    "print('my name is %s and I am %d years old' %(name,age))"
   ]
  },
  {
   "cell_type": "markdown",
   "id": "acf79023-2ef2-4e83-8258-5624da576e54",
   "metadata": {},
   "source": [
    "### stride"
   ]
  },
  {
   "cell_type": "code",
   "execution_count": 54,
   "id": "46c7b5b5-9d96-4b1f-8392-376364a0aeae",
   "metadata": {},
   "outputs": [
    {
     "data": {
      "text/plain": [
       "('Tka', 'Thukaram Amruth Pai')"
      ]
     },
     "execution_count": 54,
     "metadata": {},
     "output_type": "execute_result"
    }
   ],
   "source": [
    "name[0:9:3], name"
   ]
  },
  {
   "cell_type": "markdown",
   "id": "d41e517f-3eb8-466e-ae1b-f03b794dde63",
   "metadata": {},
   "source": [
    "### string manipulation "
   ]
  },
  {
   "cell_type": "code",
   "execution_count": 58,
   "id": "afc8f7ea-096c-41f8-bd96-961234b85316",
   "metadata": {},
   "outputs": [
    {
     "data": {
      "text/plain": [
       "('THUKARAM AMRUTH PAI', 'Thukaram Amruth narasimhan', 16)"
      ]
     },
     "execution_count": 58,
     "metadata": {},
     "output_type": "execute_result"
    }
   ],
   "source": [
    "name.upper(), name.replace('Pai','narasimhan'), name.find('Pai')"
   ]
  },
  {
   "cell_type": "code",
   "execution_count": 59,
   "id": "bb2438a5-3da7-407b-b6e7-719553fe7374",
   "metadata": {},
   "outputs": [
    {
     "data": {
      "text/plain": [
       "['Thukaram', 'Amruth', 'Pai']"
      ]
     },
     "execution_count": 59,
     "metadata": {},
     "output_type": "execute_result"
    }
   ],
   "source": [
    "name.split(' ')"
   ]
  },
  {
   "cell_type": "markdown",
   "id": "35c2a7b7-cf3d-4cfb-bb9f-88157d0e4170",
   "metadata": {},
   "source": [
    "# Regular expression "
   ]
  },
  {
   "cell_type": "code",
   "execution_count": 61,
   "id": "c43eea0b-9099-447a-bb75-f2a6cd26ca51",
   "metadata": {},
   "outputs": [],
   "source": [
    "import re"
   ]
  },
  {
   "cell_type": "code",
   "execution_count": 66,
   "id": "2fe6f465-709c-440e-b659-77ce070cbe85",
   "metadata": {},
   "outputs": [],
   "source": [
    "s1='Thukaram Amruth Pai is the Brahman'\n",
    "pattern = 'Pai'"
   ]
  },
  {
   "cell_type": "code",
   "execution_count": 67,
   "id": "96c20c47-44f3-494a-921d-21699d57522d",
   "metadata": {},
   "outputs": [
    {
     "name": "stdout",
     "output_type": "stream",
     "text": [
      "<re.Match object; span=(16, 19), match='Pai'>\n"
     ]
    }
   ],
   "source": [
    "result=re.search(pattern,s1)\n",
    "print(result)"
   ]
  },
  {
   "cell_type": "code",
   "execution_count": 76,
   "id": "a6cbfab4-10a7-4f7a-b974-18652ac1c7e3",
   "metadata": {},
   "outputs": [
    {
     "data": {
      "text/plain": [
       "(<re.Match object; span=(0, 1), match='T'>,)"
      ]
     },
     "execution_count": 76,
     "metadata": {},
     "output_type": "execute_result"
    }
   ],
   "source": [
    "pattern=r\"\\D\"\n",
    "re.search(pattern,s1), \n",
    "#find all\n",
    "#re.findall(pattern,s1)"
   ]
  },
  {
   "cell_type": "code",
   "execution_count": 77,
   "id": "1cf6ac31-4e43-4fd7-927d-d9fd2ce2c556",
   "metadata": {},
   "outputs": [
    {
     "data": {
      "text/plain": [
       "['Thukaram Amruth ', ' is the Brahman']"
      ]
     },
     "execution_count": 77,
     "metadata": {},
     "output_type": "execute_result"
    }
   ],
   "source": [
    "re.split('Pai',s1)"
   ]
  },
  {
   "cell_type": "code",
   "execution_count": 78,
   "id": "26a105fa-61ab-4629-8660-33f5845dbbba",
   "metadata": {},
   "outputs": [],
   "source": [
    "new=re.sub('Pai','Narasimha',s1,flags=re.IGNORECASE)"
   ]
  },
  {
   "cell_type": "code",
   "execution_count": 79,
   "id": "b361ff71-8310-4737-afc8-61c635a56875",
   "metadata": {},
   "outputs": [
    {
     "data": {
      "text/plain": [
       "'Thukaram Amruth Narasimha is the Brahman'"
      ]
     },
     "execution_count": 79,
     "metadata": {},
     "output_type": "execute_result"
    }
   ],
   "source": [
    "new"
   ]
  },
  {
   "cell_type": "code",
   "execution_count": 94,
   "id": "5e931118-583c-4328-ae2d-c641799ab0e6",
   "metadata": {},
   "outputs": [],
   "source": [
    "g = \"Mary had a little lamb Little lamb, little lamb Mary had a little lamb \\\n",
    "Its fleece was white as snow And everywhere that Mary went Mary went, Mary went \\\n",
    "Everywhere that Mary went The lamb was sure to goMary\""
   ]
  },
  {
   "cell_type": "code",
   "execution_count": 95,
   "id": "6526f3cb-d394-4531-9fb9-00774f334777",
   "metadata": {},
   "outputs": [
    {
     "data": {
      "text/plain": [
       "'bob had a little lamb Little lamb, little lamb bob had a little lamb Its fleece was white as snow And everywhere that bob went bob went, bob went Everywhere that bob went The lamb was sure to goMary'"
      ]
     },
     "execution_count": 95,
     "metadata": {},
     "output_type": "execute_result"
    }
   ],
   "source": [
    "pattern=r'\\bMary\\b' # \\b boundary\n",
    "g2=re.sub(pattern,'bob',g)\n",
    "g2"
   ]
  },
  {
   "cell_type": "code",
   "execution_count": 97,
   "id": "b22ed09e-e31a-40be-939b-5979a2d79dba",
   "metadata": {},
   "outputs": [
    {
     "data": {
      "text/plain": [
       "float"
      ]
     },
     "execution_count": 97,
     "metadata": {},
     "output_type": "execute_result"
    }
   ],
   "source": [
    "x=2/2\n",
    "type(x)"
   ]
  },
  {
   "cell_type": "code",
   "execution_count": null,
   "id": "84701aae-e033-4203-94cb-aec3a4220619",
   "metadata": {},
   "outputs": [],
   "source": []
  }
 ],
 "metadata": {
  "kernelspec": {
   "display_name": "tf",
   "language": "python",
   "name": "tf"
  },
  "language_info": {
   "codemirror_mode": {
    "name": "ipython",
    "version": 3
   },
   "file_extension": ".py",
   "mimetype": "text/x-python",
   "name": "python",
   "nbconvert_exporter": "python",
   "pygments_lexer": "ipython3",
   "version": "3.9.18"
  }
 },
 "nbformat": 4,
 "nbformat_minor": 5
}
