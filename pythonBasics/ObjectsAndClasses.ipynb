{
 "cells": [
  {
   "cell_type": "markdown",
   "id": "d7e45564-3fd6-44d8-800c-4fea117dff87",
   "metadata": {},
   "source": [
    "# object : Type"
   ]
  },
  {
   "cell_type": "code",
   "execution_count": 5,
   "id": "dd72aa4e-338b-486e-b72c-1713a226413c",
   "metadata": {},
   "outputs": [
    {
     "name": "stdout",
     "output_type": "stream",
     "text": [
      "<class 'list'>\n",
      "<class 'tuple'>\n",
      "<class 'str'>\n"
     ]
    }
   ],
   "source": [
    "print(type([1,2,3,4]))\n",
    "print(type((1,2,3,4)))\n",
    "print(type('hello'))"
   ]
  },
  {
   "cell_type": "markdown",
   "id": "98b94d28-d334-4d62-8548-1ce5a8533b75",
   "metadata": {},
   "source": [
    "# methonds "
   ]
  },
  {
   "cell_type": "code",
   "execution_count": 7,
   "id": "1bfbbcc6-07f8-4f17-8c08-2e20c631ee46",
   "metadata": {},
   "outputs": [
    {
     "data": {
      "text/plain": [
       "[2, 3, 5, 6, 13, 23, 23, 434, 2342]"
      ]
     },
     "execution_count": 7,
     "metadata": {},
     "output_type": "execute_result"
    }
   ],
   "source": [
    "rating =[13,434,23,2,5,6,2342,3,23]\n",
    "rating.sort()\n",
    "rating"
   ]
  },
  {
   "cell_type": "code",
   "execution_count": 4,
   "id": "6b0eb9f6-240f-4670-aa3a-68a6b0eae6a2",
   "metadata": {},
   "outputs": [],
   "source": [
    "class circle:\n",
    "    def __init__(self,color, radius):\n",
    "        self.color=color\n",
    "        self.radius=radius\n",
    "\n",
    "    def __str__(self):\n",
    "        return f'color: {self.color} radius: {self.radius}'\n",
    "\n",
    "    def method1(self,name):\n",
    "        return f'name : {name} color: {self.color} radius: {self.radius}'\n"
   ]
  },
  {
   "cell_type": "code",
   "execution_count": 5,
   "id": "e7cc6b91-7aa9-45d0-a2b1-3f0bab280b2d",
   "metadata": {},
   "outputs": [
    {
     "data": {
      "text/plain": [
       "'name : amruth color: red radius: 10'"
      ]
     },
     "execution_count": 5,
     "metadata": {},
     "output_type": "execute_result"
    }
   ],
   "source": [
    "c1=circle('red', 10)\n",
    "c1.method1('amruth')"
   ]
  },
  {
   "cell_type": "code",
   "execution_count": 6,
   "id": "238e3473-10ec-4780-ad09-f898359b688b",
   "metadata": {},
   "outputs": [],
   "source": [
    "class Car:\n",
    "    # Class attribute (shared by all instances)\n",
    "    max_speed = 120  # Maximum speed in km/h\n",
    "    # Constructor method (initialize instance attributes)\n",
    "    def __init__(self, make, model, color, speed=0):\n",
    "        self.make = make\n",
    "        self.model = model\n",
    "        self.color = color\n",
    "        self.speed = speed  # Initial speed is set to 0\n",
    "    # Method for accelerating the car\n",
    "    def accelerate(self, acceleration):\n",
    "        if self.speed + acceleration <= Car.max_speed:\n",
    "            self.speed += acceleration\n",
    "        else:\n",
    "            self.speed = Car.max_speed\n",
    "    # Method to get the current speed of the car\n",
    "    def get_speed(self):\n",
    "        return self.speed"
   ]
  },
  {
   "cell_type": "code",
   "execution_count": 7,
   "id": "28d73d29-46e6-4080-9e95-87237a85dbc9",
   "metadata": {},
   "outputs": [],
   "source": [
    "# Create objects (instances) of the Car class\n",
    "car1 = Car(\"Toyota\", \"Camry\", \"Blue\")\n",
    "car2 = Car(\"Honda\", \"Civic\", \"Red\")"
   ]
  },
  {
   "cell_type": "code",
   "execution_count": 8,
   "id": "3ad5cc02-7a14-4758-ad31-d61ce175c1f0",
   "metadata": {},
   "outputs": [],
   "source": [
    "car1.accelerate(30)\n",
    "car2.accelerate(20)"
   ]
  },
  {
   "cell_type": "code",
   "execution_count": 9,
   "id": "cb559f49-b594-4f53-a348-c8676e20b366",
   "metadata": {},
   "outputs": [
    {
     "name": "stdout",
     "output_type": "stream",
     "text": [
      "Toyota Camry is currently at 30 km/h.\n",
      "Honda Civic is currently at 20 km/h.\n"
     ]
    }
   ],
   "source": [
    "# Print the current speeds of the cars\n",
    "print(f\"{car1.make} {car1.model} is currently at {car1.get_speed()} km/h.\")\n",
    "print(f\"{car2.make} {car2.model} is currently at {car2.get_speed()} km/h.\")"
   ]
  },
  {
   "cell_type": "markdown",
   "id": "6586227f-d91f-4037-bfa8-17ccca7a65b4",
   "metadata": {},
   "source": [
    "# real example"
   ]
  },
  {
   "cell_type": "code",
   "execution_count": 11,
   "id": "58226163-b36f-4d94-b321-aa99d2f9405e",
   "metadata": {},
   "outputs": [],
   "source": [
    "import matplotlib.pyplot as plt"
   ]
  },
  {
   "cell_type": "code",
   "execution_count": 12,
   "id": "26e12421-0da0-4e8f-aed8-98c14fea44f1",
   "metadata": {},
   "outputs": [],
   "source": [
    "class circle(object):\n",
    "    def __init__(self,radius=3,color='blue'):\n",
    "        self.radius=radius\n",
    "        self.color=color\n",
    "\n",
    "\n",
    "    def add_circle(self,r):\n",
    "        self.radius+=r\n",
    "        return(self.radius)\n",
    "\n",
    "    def drawCircle(self):\n",
    "        plt.gca().add_patch(plt.Circle((0,0),radius=self.radius, fc=self.color))\n",
    "        plt.axis('scaled')\n",
    "        plt.show()"
   ]
  },
  {
   "cell_type": "code",
   "execution_count": 13,
   "id": "0bda6222-5d1f-4d35-98e5-e6398194b04f",
   "metadata": {},
   "outputs": [],
   "source": [
    "redCircle=circle(5,'red')\n"
   ]
  },
  {
   "cell_type": "code",
   "execution_count": 14,
   "id": "f5a2423b-cd68-4bab-950c-b40da0a8af5a",
   "metadata": {},
   "outputs": [
    {
     "data": {
      "text/plain": [
       "['__class__',\n",
       " '__delattr__',\n",
       " '__dict__',\n",
       " '__dir__',\n",
       " '__doc__',\n",
       " '__eq__',\n",
       " '__format__',\n",
       " '__ge__',\n",
       " '__getattribute__',\n",
       " '__gt__',\n",
       " '__hash__',\n",
       " '__init__',\n",
       " '__init_subclass__',\n",
       " '__le__',\n",
       " '__lt__',\n",
       " '__module__',\n",
       " '__ne__',\n",
       " '__new__',\n",
       " '__reduce__',\n",
       " '__reduce_ex__',\n",
       " '__repr__',\n",
       " '__setattr__',\n",
       " '__sizeof__',\n",
       " '__str__',\n",
       " '__subclasshook__',\n",
       " '__weakref__',\n",
       " 'add_circle',\n",
       " 'color',\n",
       " 'drawCircle',\n",
       " 'radius']"
      ]
     },
     "execution_count": 14,
     "metadata": {},
     "output_type": "execute_result"
    }
   ],
   "source": [
    "dir(redCircle)"
   ]
  },
  {
   "cell_type": "code",
   "execution_count": 17,
   "id": "3dcba341-e909-4e78-9743-944702358f49",
   "metadata": {},
   "outputs": [
    {
     "data": {
      "image/png": "[encoded data removed]",
      "text/plain": [
       "<Figure size 640x480 with 1 Axes>"
      ]
     },
     "metadata": {},
     "output_type": "display_data"
    }
   ],
   "source": [
    "redCircle.add_circle(-5)\n",
    "redCircle.drawCircle()"
   ]
  },
  {
   "cell_type": "code",
   "execution_count": null,
   "id": "9b71417d-696c-423a-99e9-a355854f0ee3",
   "metadata": {},
   "outputs": [],
   "source": []
  }
 ],
 "metadata": {
  "kernelspec": {
   "display_name": "tf",
   "language": "python",
   "name": "tf"
  },
  "language_info": {
   "codemirror_mode": {
    "name": "ipython",
    "version": 3
   },
   "file_extension": ".py",
   "mimetype": "text/x-python",
   "name": "python",
   "nbconvert_exporter": "python",
   "pygments_lexer": "ipython3",
   "version": "3.9.18"
  }
 },
 "nbformat": 4,
 "nbformat_minor": 5
}
