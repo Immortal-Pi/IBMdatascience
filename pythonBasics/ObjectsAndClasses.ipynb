{
 "cells": [
  {
   "cell_type": "markdown",
   "id": "d7e45564-3fd6-44d8-800c-4fea117dff87",
   "metadata": {},
   "source": [
    "# object : Type"
   ]
  },
  {
   "cell_type": "code",
   "execution_count": 5,
   "id": "dd72aa4e-338b-486e-b72c-1713a226413c",
   "metadata": {},
   "outputs": [
    {
     "name": "stdout",
     "output_type": "stream",
     "text": [
      "<class 'list'>\n",
      "<class 'tuple'>\n",
      "<class 'str'>\n"
     ]
    }
   ],
   "source": [
    "print(type([1,2,3,4]))\n",
    "print(type((1,2,3,4)))\n",
    "print(type('hello'))"
   ]
  },
  {
   "cell_type": "markdown",
   "id": "98b94d28-d334-4d62-8548-1ce5a8533b75",
   "metadata": {},
   "source": [
    "# methonds "
   ]
  },
  {
   "cell_type": "code",
   "execution_count": 7,
   "id": "1bfbbcc6-07f8-4f17-8c08-2e20c631ee46",
   "metadata": {},
   "outputs": [
    {
     "data": {
      "text/plain": [
       "[2, 3, 5, 6, 13, 23, 23, 434, 2342]"
      ]
     },
     "execution_count": 7,
     "metadata": {},
     "output_type": "execute_result"
    }
   ],
   "source": [
    "rating =[13,434,23,2,5,6,2342,3,23]\n",
    "rating.sort()\n",
    "rating"
   ]
  },
  {
   "cell_type": "code",
   "execution_count": 4,
   "id": "6b0eb9f6-240f-4670-aa3a-68a6b0eae6a2",
   "metadata": {},
   "outputs": [],
   "source": [
    "class circle:\n",
    "    def __init__(self,color, radius):\n",
    "        self.color=color\n",
    "        self.radius=radius\n",
    "\n",
    "    def __str__(self):\n",
    "        return f'color: {self.color} radius: {self.radius}'\n",
    "\n",
    "    def method1(self,name):\n",
    "        return f'name : {name} color: {self.color} radius: {self.radius}'\n"
   ]
  },
  {
   "cell_type": "code",
   "execution_count": 5,
   "id": "e7cc6b91-7aa9-45d0-a2b1-3f0bab280b2d",
   "metadata": {},
   "outputs": [
    {
     "data": {
      "text/plain": [
       "'name : amruth color: red radius: 10'"
      ]
     },
     "execution_count": 5,
     "metadata": {},
     "output_type": "execute_result"
    }
   ],
   "source": [
    "c1=circle('red', 10)\n",
    "c1.method1('amruth')"
   ]
  },
  {
   "cell_type": "code",
   "execution_count": 6,
   "id": "238e3473-10ec-4780-ad09-f898359b688b",
   "metadata": {},
   "outputs": [],
   "source": [
    "class Car:\n",
    "    # Class attribute (shared by all instances)\n",
    "    max_speed = 120  # Maximum speed in km/h\n",
    "    # Constructor method (initialize instance attributes)\n",
    "    def __init__(self, make, model, color, speed=0):\n",
    "        self.make = make\n",
    "        self.model = model\n",
    "        self.color = color\n",
    "        self.speed = speed  # Initial speed is set to 0\n",
    "    # Method for accelerating the car\n",
    "    def accelerate(self, acceleration):\n",
    "        if self.speed + acceleration <= Car.max_speed:\n",
    "            self.speed += acceleration\n",
    "        else:\n",
    "            self.speed = Car.max_speed\n",
    "    # Method to get the current speed of the car\n",
    "    def get_speed(self):\n",
    "        return self.speed"
   ]
  },
  {
   "cell_type": "code",
   "execution_count": 7,
   "id": "28d73d29-46e6-4080-9e95-87237a85dbc9",
   "metadata": {},
   "outputs": [],
   "source": [
    "# Create objects (instances) of the Car class\n",
    "car1 = Car(\"Toyota\", \"Camry\", \"Blue\")\n",
    "car2 = Car(\"Honda\", \"Civic\", \"Red\")"
   ]
  },
  {
   "cell_type": "code",
   "execution_count": 8,
   "id": "3ad5cc02-7a14-4758-ad31-d61ce175c1f0",
   "metadata": {},
   "outputs": [],
   "source": [
    "car1.accelerate(30)\n",
    "car2.accelerate(20)"
   ]
  },
  {
   "cell_type": "code",
   "execution_count": 9,
   "id": "cb559f49-b594-4f53-a348-c8676e20b366",
   "metadata": {},
   "outputs": [
    {
     "name": "stdout",
     "output_type": "stream",
     "text": [
      "Toyota Camry is currently at 30 km/h.\n",
      "Honda Civic is currently at 20 km/h.\n"
     ]
    }
   ],
   "source": [
    "# Print the current speeds of the cars\n",
    "print(f\"{car1.make} {car1.model} is currently at {car1.get_speed()} km/h.\")\n",
    "print(f\"{car2.make} {car2.model} is currently at {car2.get_speed()} km/h.\")"
   ]
  },
  {
   "cell_type": "markdown",
   "id": "6586227f-d91f-4037-bfa8-17ccca7a65b4",
   "metadata": {},
   "source": [
    "# real example"
   ]
  },
  {
   "cell_type": "code",
   "execution_count": 11,
   "id": "58226163-b36f-4d94-b321-aa99d2f9405e",
   "metadata": {},
   "outputs": [],
   "source": [
    "import matplotlib.pyplot as plt"
   ]
  },
  {
   "cell_type": "code",
   "execution_count": 12,
   "id": "26e12421-0da0-4e8f-aed8-98c14fea44f1",
   "metadata": {},
   "outputs": [],
   "source": [
    "class circle(object): #object used for inheriance - later part\n",
    "    def __init__(self,radius=3,color='blue'):\n",
    "        self.radius=radius\n",
    "        self.color=color\n",
    "\n",
    "\n",
    "    def add_circle(self,r):\n",
    "        self.radius+=r\n",
    "        return(self.radius)\n",
    "\n",
    "    def drawCircle(self):\n",
    "        plt.gca().add_patch(plt.Circle((0,0),radius=self.radius, fc=self.color))\n",
    "        plt.axis('scaled')\n",
    "        plt.show()"
   ]
  },
  {
   "cell_type": "code",
   "execution_count": 13,
   "id": "0bda6222-5d1f-4d35-98e5-e6398194b04f",
   "metadata": {},
   "outputs": [],
   "source": [
    "redCircle=circle(5,'red')\n"
   ]
  },
  {
   "cell_type": "code",
   "execution_count": 14,
   "id": "f5a2423b-cd68-4bab-950c-b40da0a8af5a",
   "metadata": {},
   "outputs": [
    {
     "data": {
      "text/plain": [
       "['__class__',\n",
       " '__delattr__',\n",
       " '__dict__',\n",
       " '__dir__',\n",
       " '__doc__',\n",
       " '__eq__',\n",
       " '__format__',\n",
       " '__ge__',\n",
       " '__getattribute__',\n",
       " '__gt__',\n",
       " '__hash__',\n",
       " '__init__',\n",
       " '__init_subclass__',\n",
       " '__le__',\n",
       " '__lt__',\n",
       " '__module__',\n",
       " '__ne__',\n",
       " '__new__',\n",
       " '__reduce__',\n",
       " '__reduce_ex__',\n",
       " '__repr__',\n",
       " '__setattr__',\n",
       " '__sizeof__',\n",
       " '__str__',\n",
       " '__subclasshook__',\n",
       " '__weakref__',\n",
       " 'add_circle',\n",
       " 'color',\n",
       " 'drawCircle',\n",
       " 'radius']"
      ]
     },
     "execution_count": 14,
     "metadata": {},
     "output_type": "execute_result"
    }
   ],
   "source": [
    "dir(redCircle)"
   ]
  },
  {
   "cell_type": "code",
   "execution_count": 23,
   "id": "3dcba341-e909-4e78-9743-944702358f49",
   "metadata": {},
   "outputs": [],
   "source": [
    "redCircle.add_circle(8)\n",
    "redCircle.radius=4"
   ]
  },
  {
   "cell_type": "code",
   "execution_count": 24,
   "id": "9b71417d-696c-423a-99e9-a355854f0ee3",
   "metadata": {},
   "outputs": [
    {
     "data": {
      "image/png": "[encoded data removed]",
      "text/plain": [
       "<Figure size 640x480 with 1 Axes>"
      ]
     },
     "metadata": {},
     "output_type": "display_data"
    }
   ],
   "source": [
    "redCircle.drawCircle()"
   ]
  },
  {
   "cell_type": "code",
   "execution_count": 25,
   "id": "0cc31dc1-d414-4b3a-9455-f50efda94106",
   "metadata": {},
   "outputs": [
    {
     "data": {
      "image/png": "[encoded data removed]",
      "text/plain": [
       "<Figure size 640x480 with 1 Axes>"
      ]
     },
     "metadata": {},
     "output_type": "display_data"
    }
   ],
   "source": [
    "blueCircle=circle(1,'blue')\n",
    "blueCircle.drawCircle()"
   ]
  },
  {
   "cell_type": "code",
   "execution_count": 37,
   "id": "74c1f1df-3665-441a-a1bb-7ca5571cabdf",
   "metadata": {},
   "outputs": [],
   "source": [
    "class rectangle(object):\n",
    "    def __init__(self,width=2,height=3,color='r'):\n",
    "        self.width=width\n",
    "        self.height=height\n",
    "        self.color=color\n",
    "\n",
    "    def drawRectangle(self):\n",
    "        # plt.Rectangle((0,0),self.width,self.height,fc=self.color)\n",
    "        plt.gca().add_patch(plt.Rectangle((0, 0), self.width, self.height ,fc=self.color))\n",
    "        plt.show()"
   ]
  },
  {
   "cell_type": "code",
   "execution_count": 38,
   "id": "73612e79-79c1-4366-8a80-0edcb67c4ee9",
   "metadata": {},
   "outputs": [
    {
     "data": {
      "image/png": "[encoded data removed]",
      "text/plain": [
       "<Figure size 640x480 with 1 Axes>"
      ]
     },
     "metadata": {},
     "output_type": "display_data"
    }
   ],
   "source": [
    "greenRectangle=rectangle(2,4,'green')\n",
    "greenRectangle.drawRectangle()"
   ]
  },
  {
   "cell_type": "markdown",
   "id": "d13d8df1-9073-4600-893e-afb7bcbca29b",
   "metadata": {},
   "source": [
    "# Scenario Car dealership's inventory management system"
   ]
  },
  {
   "cell_type": "code",
   "execution_count": 46,
   "id": "e8414366-b0cd-475f-8e52-9d66345eff9a",
   "metadata": {},
   "outputs": [],
   "source": [
    "class vehicle(object):\n",
    "    _color='white'\n",
    "    _seat_capacity=0\n",
    "    def __init__(self,speed,mileage):\n",
    "        self.speed=speed\n",
    "        self.mileage=mileage\n",
    "        \n",
    "\n",
    "    def seat_capacity(self,seat):\n",
    "        self._seat_capacity=seat\n",
    "\n",
    "    def __str__(self):\n",
    "        return f'{self._color} color car with {self.speed}kmph max speed, {self.mileage}kmpl mileage and {self._seat_capacity} seat capacity'"
   ]
  },
  {
   "cell_type": "code",
   "execution_count": 48,
   "id": "8de97338-a0e9-4772-ba84-72e2a401533e",
   "metadata": {},
   "outputs": [
    {
     "name": "stdout",
     "output_type": "stream",
     "text": [
      "white color car with 200kmph max speed, 20kmpl mileage and 5 seat capacity\n",
      "white color car with 180kmph max speed, 25kmpl mileage and 4 seat capacity\n"
     ]
    }
   ],
   "source": [
    "xylo= vehicle(200, 20)\n",
    "xylo.seat_capacity(5)\n",
    "print(xylo)\n",
    "neon=vehicle(180,25)\n",
    "neon.seat_capacity(4)\n",
    "print(neon)"
   ]
  },
  {
   "cell_type": "markdown",
   "id": "750b0453-6209-4272-a8fc-709ca56cffe8",
   "metadata": {},
   "source": [
    "# Text Analysis"
   ]
  },
  {
   "cell_type": "markdown",
   "id": "52efeb34-61b9-4520-afe0-c0feb3c62414",
   "metadata": {},
   "source": [
    "## part A"
   ]
  },
  {
   "cell_type": "code",
   "execution_count": 49,
   "id": "57b2547a-28e4-4d07-95f9-59b4e6ac6873",
   "metadata": {},
   "outputs": [],
   "source": [
    "givenstring=\"Lorem ipsum dolor! diam amet, consetetur Lorem magna. sed diam nonumy eirmod tempor. diam et labore? et diam magna. et diam amet.\""
   ]
  },
  {
   "cell_type": "code",
   "execution_count": 66,
   "id": "c82725f8-fff7-409a-a037-c76c00231217",
   "metadata": {},
   "outputs": [],
   "source": [
    "class textAnalyzer(object):\n",
    "    def __init__(self,text):\n",
    "        ntext=text.lower()\n",
    "        ntext2=ntext.replace('.','').replace('!','').replace('?','').replace(',','')\n",
    "        self.gstring=ntext2\n",
    "\n",
    "    def freqAll(self):\n",
    "        \n",
    "        words=[]\n",
    "        self.word_count={}\n",
    "        words=self.gstring.split(\" \")\n",
    "        for w in words:\n",
    "            if w in self.word_count.keys():\n",
    "                self.word_count[w]+=1\n",
    "            else:\n",
    "                self.word_count[w]=1\n",
    "\n",
    "        return self.word_count\n",
    "\n",
    "    def freqOf(self, word):\n",
    "        return self.word_count[word]\n",
    "        \n",
    "    "
   ]
  },
  {
   "cell_type": "code",
   "execution_count": 67,
   "id": "1a4ccec6-583b-4fe4-af0d-8e43870d7efe",
   "metadata": {},
   "outputs": [],
   "source": [
    "test1=textAnalyzer(givenstring)"
   ]
  },
  {
   "cell_type": "code",
   "execution_count": 68,
   "id": "33a9161d-b903-4542-8c69-ba4fec5c2e68",
   "metadata": {},
   "outputs": [
    {
     "data": {
      "text/plain": [
       "{'lorem': 2,\n",
       " 'ipsum': 1,\n",
       " 'dolor': 1,\n",
       " 'diam': 5,\n",
       " 'amet': 2,\n",
       " 'consetetur': 1,\n",
       " 'magna': 2,\n",
       " 'sed': 1,\n",
       " 'nonumy': 1,\n",
       " 'eirmod': 1,\n",
       " 'tempor': 1,\n",
       " 'et': 3,\n",
       " 'labore': 1}"
      ]
     },
     "execution_count": 68,
     "metadata": {},
     "output_type": "execute_result"
    }
   ],
   "source": [
    "test1.freqAll()"
   ]
  },
  {
   "cell_type": "code",
   "execution_count": 69,
   "id": "3c73d97d-93bf-4bc8-8309-bf6bf8f8cc35",
   "metadata": {},
   "outputs": [
    {
     "data": {
      "text/plain": [
       "3"
      ]
     },
     "execution_count": 69,
     "metadata": {},
     "output_type": "execute_result"
    }
   ],
   "source": [
    "test1.freqOf('et')"
   ]
  },
  {
   "cell_type": "code",
   "execution_count": 70,
   "id": "8a3d364a-b574-4f6d-af68-75480aa5ea31",
   "metadata": {},
   "outputs": [],
   "source": [
    "# ansewer given\n",
    "class TextAnalyzer(object):\n",
    "    \n",
    "    def __init__ (self, text):\n",
    "        # remove punctuation\n",
    "        formattedText = text.replace('.','').replace('!','').replace('?','').replace(',','')\n",
    "        \n",
    "        # make text lowercase\n",
    "        formattedText = formattedText.lower()\n",
    "        \n",
    "        self.fmtText = formattedText\n",
    "        \n",
    "    def freqAll(self):        \n",
    "        # split text into words\n",
    "        wordList = self.fmtText.split(' ')\n",
    "        \n",
    "        # Create dictionary\n",
    "        freqMap = {}\n",
    "        for word in set(wordList): # use set to remove duplicates in list\n",
    "            freqMap[word] = wordList.count(word)\n",
    "        \n",
    "        return freqMap\n",
    "        \n",
    "    def freqOf(self,word):\n",
    "        # get frequency map\n",
    "        freqDict = self.freqAll()\n",
    "        \n",
    "        if word in freqDict:\n",
    "            return freqDict[word]\n",
    "        else:\n",
    "            return 0"
   ]
  },
  {
   "cell_type": "code",
   "execution_count": 71,
   "id": "ae177f0c-8f11-4ce6-a6ab-6a265d031d04",
   "metadata": {},
   "outputs": [
    {
     "data": {
      "text/plain": [
       "{'consetetur': 1,\n",
       " 'ipsum': 1,\n",
       " 'tempor': 1,\n",
       " 'sed': 1,\n",
       " 'diam': 5,\n",
       " 'labore': 1,\n",
       " 'eirmod': 1,\n",
       " 'dolor': 1,\n",
       " 'amet': 2,\n",
       " 'et': 3,\n",
       " 'nonumy': 1,\n",
       " 'magna': 2,\n",
       " 'lorem': 2}"
      ]
     },
     "execution_count": 71,
     "metadata": {},
     "output_type": "execute_result"
    }
   ],
   "source": [
    "test2=TextAnalyzer(givenstring)\n",
    "test2.freqAll()"
   ]
  },
  {
   "cell_type": "code",
   "execution_count": 72,
   "id": "4376214f-10ed-4ec6-8d96-8f03d80fb562",
   "metadata": {},
   "outputs": [
    {
     "data": {
      "text/plain": [
       "5"
      ]
     },
     "execution_count": 72,
     "metadata": {},
     "output_type": "execute_result"
    }
   ],
   "source": [
    "test2.freqOf('diam')"
   ]
  },
  {
   "cell_type": "markdown",
   "id": "e8b21d7b-d73b-4498-b1e9-c6e08d6f281c",
   "metadata": {},
   "source": [
    "# part B"
   ]
  },
  {
   "cell_type": "code",
   "execution_count": 74,
   "id": "ef46aff0-c5c1-4945-ac64-437368113b7d",
   "metadata": {},
   "outputs": [],
   "source": [
    "analyzed = textAnalyzer(givenstring)"
   ]
  },
  {
   "cell_type": "code",
   "execution_count": null,
   "id": "4c689e9c-15d1-445c-b20b-703495e7fedd",
   "metadata": {},
   "outputs": [],
   "source": [
    "analyzed.gstri"
   ]
  }
 ],
 "metadata": {
  "kernelspec": {
   "display_name": "tf",
   "language": "python",
   "name": "tf"
  },
  "language_info": {
   "codemirror_mode": {
    "name": "ipython",
    "version": 3
   },
   "file_extension": ".py",
   "mimetype": "text/x-python",
   "name": "python",
   "nbconvert_exporter": "python",
   "pygments_lexer": "ipython3",
   "version": "3.9.18"
  }
 },
 "nbformat": 4,
 "nbformat_minor": 5
}
