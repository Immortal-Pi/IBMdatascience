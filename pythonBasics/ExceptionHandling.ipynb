{
 "cells": [
  {
   "cell_type": "markdown",
   "id": "a267c465-21f6-44da-aa82-4c2f13544490",
   "metadata": {},
   "source": [
    "# Exception Handling"
   ]
  },
  {
   "cell_type": "code",
   "execution_count": 30,
   "id": "3e2e1c71-b0da-4ec3-9227-dd9949226f2f",
   "metadata": {},
   "outputs": [
    {
     "name": "stdout",
     "output_type": "stream",
     "text": [
      "['exception handling\\n', 'aaef\\n', 'adawd\\n', '\\n', 'rg\\n', 'drg\\n', 'drt\\n', 'dth\\n', 'dthdrgrgasdfasdfasdfasdf\\n', 'asdf\\\\nasdfasdf\\n', 'asdf\\n', 'asdf\\n']\n"
     ]
    }
   ],
   "source": [
    "try: \n",
    "    with open('datasets/myfile.txt','r') as f:\n",
    "        text=f.readlines()\n",
    "    print(text)\n",
    "except IOError:\n",
    "    print('no file')\n",
    "    "
   ]
  },
  {
   "cell_type": "markdown",
   "id": "a3411b1e-74a0-422b-8085-f7dfa77c6727",
   "metadata": {},
   "source": [
    "## multiple except statements for multiple errors handling"
   ]
  },
  {
   "cell_type": "code",
   "execution_count": 29,
   "id": "1382d6c0-90ee-4d9d-9f7f-769e4a785d3e",
   "metadata": {},
   "outputs": [
    {
     "name": "stdout",
     "output_type": "stream",
     "text": [
      "None\n",
      "written successfully\n",
      "file is closed\n"
     ]
    }
   ],
   "source": [
    "try: \n",
    "    with open('datasets/myfile.txt','a') as f:\n",
    "        text=f.writelines('asdf\\n')\n",
    "    print(text)\n",
    "except IOError:\n",
    "    print('no file')\n",
    "except: \n",
    "    print('error')\n",
    "else:\n",
    "    print('written successfully')\n",
    "finally:\n",
    "    f.close()\n",
    "    print('file is closed')"
   ]
  },
  {
   "cell_type": "markdown",
   "id": "b7f2b3c7-da0c-4657-ab5d-fda7cb21130a",
   "metadata": {},
   "source": [
    "## Practice Exercise"
   ]
  },
  {
   "cell_type": "code",
   "execution_count": 34,
   "id": "4573f198-11b5-4e1d-ad91-23d60024573e",
   "metadata": {},
   "outputs": [
    {
     "name": "stdout",
     "output_type": "stream",
     "text": [
      "Invalid input! Please enter a positive integer or a float value\n"
     ]
    }
   ],
   "source": [
    "import math\n",
    "try:\n",
    "    a=-10\n",
    "    math.sqrt(a) \n",
    "except ZeroDivisionError:\n",
    "    print('cannot divide by zero')\n",
    "except NameError:\n",
    "    print('name error')\n",
    "except IndexError:\n",
    "    print('index error')\n",
    "except ValueError:\n",
    "    print('Invalid input! Please enter a positive integer or a float value')\n"
   ]
  },
  {
   "cell_type": "code",
   "execution_count": 38,
   "id": "7a790a37-e816-4784-ab29-ed30831bd6ad",
   "metadata": {},
   "outputs": [
    {
     "name": "stdout",
     "output_type": "stream",
     "text": [
      "An error occurred during calculation. unsupported operand type(s) for /: 'str' and 'int'\n"
     ]
    }
   ],
   "source": [
    "try:\n",
    "    a='num'\n",
    "    b=a/5\n",
    "except ZeroDivisionError:\n",
    "    print('cannot divide by zero')\n",
    "except NameError:\n",
    "    print('name error')\n",
    "except IndexError:\n",
    "    print('index error')\n",
    "except ValueError:\n",
    "    print('Invalid input! Please enter a positive integer or a float value')\n",
    "except Exception as e:\n",
    "    print('An error occurred during calculation.',e)"
   ]
  },
  {
   "cell_type": "code",
   "execution_count": null,
   "id": "97c204b5-c9a5-41fe-86f1-781e6aa4d7e2",
   "metadata": {},
   "outputs": [],
   "source": []
  }
 ],
 "metadata": {
  "kernelspec": {
   "display_name": "tf",
   "language": "python",
   "name": "tf"
  },
  "language_info": {
   "codemirror_mode": {
    "name": "ipython",
    "version": 3
   },
   "file_extension": ".py",
   "mimetype": "text/x-python",
   "name": "python",
   "nbconvert_exporter": "python",
   "pygments_lexer": "ipython3",
   "version": "3.9.18"
  }
 },
 "nbformat": 4,
 "nbformat_minor": 5
}
