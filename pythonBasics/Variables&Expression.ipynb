{
 "cells": [
  {
   "cell_type": "markdown",
   "id": "b42799b0-570e-42be-9446-ff5611bf764d",
   "metadata": {},
   "source": [
    "# Expression"
   ]
  },
  {
   "cell_type": "code",
   "execution_count": 2,
   "id": "19b38034-c4ce-47c2-9947-8460b8245aca",
   "metadata": {},
   "outputs": [
    {
     "data": {
      "text/plain": [
       "(150, 32, 10.666666666666666, 10)"
      ]
     },
     "execution_count": 2,
     "metadata": {},
     "output_type": "execute_result"
    }
   ],
   "source": [
    "40+32+56+22, 30+2, 32/3, 32//3"
   ]
  },
  {
   "cell_type": "code",
   "execution_count": 8,
   "id": "8ddf256f-097f-44b0-9c32-6e1d29c697d1",
   "metadata": {},
   "outputs": [
    {
     "data": {
      "text/plain": [
       "1.3333333333333333"
      ]
     },
     "execution_count": 8,
     "metadata": {},
     "output_type": "execute_result"
    }
   ],
   "source": [
    "# bodmas\n",
    "(6*2)/9"
   ]
  },
  {
   "cell_type": "markdown",
   "id": "0c939f6b-f159-43eb-913e-199f5a4caf48",
   "metadata": {},
   "source": [
    "# Variables"
   ]
  },
  {
   "cell_type": "code",
   "execution_count": 4,
   "id": "e99e0e44-1038-484e-afd7-24dae3546ab9",
   "metadata": {},
   "outputs": [
    {
     "data": {
      "text/plain": [
       "2.3666666666666667"
      ]
     },
     "execution_count": 4,
     "metadata": {},
     "output_type": "execute_result"
    }
   ],
   "source": [
    "total_hours = (43 + 42 + 57) / 60 \n",
    "total_hours"
   ]
  },
  {
   "cell_type": "code",
   "execution_count": 11,
   "id": "5a2b4f29-0da0-49c0-af7f-cd8282b5a78c",
   "metadata": {},
   "outputs": [
    {
     "data": {
      "text/plain": [
       "6"
      ]
     },
     "execution_count": 11,
     "metadata": {},
     "output_type": "execute_result"
    }
   ],
   "source": [
    "# bitwise operator\n",
    "5^3 "
   ]
  },
  {
   "cell_type": "code",
   "execution_count": null,
   "id": "0403a14a-df12-4194-83b5-f932011b7bc2",
   "metadata": {},
   "outputs": [],
   "source": []
  }
 ],
 "metadata": {
  "kernelspec": {
   "display_name": "tf",
   "language": "python",
   "name": "tf"
  },
  "language_info": {
   "codemirror_mode": {
    "name": "ipython",
    "version": 3
   },
   "file_extension": ".py",
   "mimetype": "text/x-python",
   "name": "python",
   "nbconvert_exporter": "python",
   "pygments_lexer": "ipython3",
   "version": "3.9.18"
  }
 },
 "nbformat": 4,
 "nbformat_minor": 5
}
