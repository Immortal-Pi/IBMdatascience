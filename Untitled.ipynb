{
 "cells": [
  {
   "cell_type": "markdown",
   "id": "fa6d60ed-b4f6-4c2a-8a99-6e266a3859f4",
   "metadata": {},
   "source": [
    "# hello\n",
    "## hello\n",
    "### hello\n",
    "#### hello\n",
    "##### hello"
   ]
  },
  {
   "cell_type": "markdown",
   "id": "10e22723-9da0-4fad-b375-ee3a62bedda1",
   "metadata": {},
   "source": [
    "# **Hello**"
   ]
  },
  {
   "cell_type": "markdown",
   "id": "bb5fdaef-be22-465a-9f68-1bc1c3cfba12",
   "metadata": {},
   "source": [
    "__Hello__"
   ]
  },
  {
   "cell_type": "markdown",
   "id": "af513845-9fab-4832-b1bc-3caae487434c",
   "metadata": {},
   "source": [
    "_hello_"
   ]
  },
  {
   "cell_type": "markdown",
   "id": "e8b0a5c7-33e4-40df-8e8f-c7cd5885ce17",
   "metadata": {},
   "source": [
    "*hello*"
   ]
  },
  {
   "cell_type": "markdown",
   "id": "a7a34dec-8bfd-406d-ac29-a1982c854ee4",
   "metadata": {},
   "source": [
    "[jupyter notebook IBM](https://labs.cognitiveclass.ai/v2/tools/jupyterlite?ulid=ulid-6b24dfa68512b7f58215b7d85b4b88c746b66446)"
   ]
  },
  {
   "cell_type": "markdown",
   "id": "ba0828e3-a86e-4525-8f39-a433afd32555",
   "metadata": {},
   "source": [
    "- amruth\n",
    "* amruth"
   ]
  },
  {
   "cell_type": "code",
   "execution_count": null,
   "id": "d73d4543-c60e-413e-8445-0e012b69247a",
   "metadata": {},
   "outputs": [],
   "source": []
  }
 ],
 "metadata": {
  "kernelspec": {
   "display_name": "tf",
   "language": "python",
   "name": "tf"
  },
  "language_info": {
   "codemirror_mode": {
    "name": "ipython",
    "version": 3
   },
   "file_extension": ".py",
   "mimetype": "text/x-python",
   "name": "python",
   "nbconvert_exporter": "python",
   "pygments_lexer": "ipython3",
   "version": "3.9.18"
  }
 },
 "nbformat": 4,
 "nbformat_minor": 5
}
